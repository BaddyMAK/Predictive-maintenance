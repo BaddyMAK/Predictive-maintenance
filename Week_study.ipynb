{
 "cells": [
  {
   "cell_type": "code",
   "execution_count": 1,
   "metadata": {},
   "outputs": [],
   "source": [
    "import pandas as pd\n",
    "import numpy as np \n",
    "import scipy as sc\n",
    "import datetime\n",
    "import os, glob\n",
    "import matplotlib.pyplot as plt\n",
    "import seaborn as sns"
   ]
  },
  {
   "cell_type": "markdown",
   "metadata": {},
   "source": [
    "   \n",
    "In questo Jupyter notebook abbiamo studiato e analizzato il comportamento dell' host di Solari durante 6 giorni: dal 31/10 fino al 5/11.Il nostro lavoro sarà suddiviso in due Macro parti:   \n",
    "\n",
    "    Part1: IIN=0 (l'illuminazione pubblica è spenta)\n",
    "\n",
    "    Part2: IIN>100 mA  (l'illuminazione pubblica non è spenta)\n"
   ]
  },
  {
   "cell_type": "markdown",
   "metadata": {},
   "source": [
    "### Lettura dei dati durante 6 giorni"
   ]
  },
  {
   "cell_type": "code",
   "execution_count": 2,
   "metadata": {},
   "outputs": [
    {
     "name": "stderr",
     "output_type": "stream",
     "text": [
      "C:\\Users\\bmakh\\anaconda3\\envs\\Spark\\lib\\site-packages\\IPython\\core\\interactiveshell.py:3145: DtypeWarning: Columns (13) have mixed types.Specify dtype option on import or set low_memory=False.\n",
      "  has_raised = await self.run_ast_nodes(code_ast.body, cell_name,\n"
     ]
    }
   ],
   "source": [
    "path_csv='./setimana'\n",
    "colum=['DATE', 'VIN', 'IIN', 'VOUT', 'VBATT', 'IBATT', 'TEMP', 'JP', 'CNT','STS', 'MIN', 'POWER', 'AUTOBCKLIGHT', 'CURRLIGHT', 'BRIGHTNESS',\n",
    "       'PAN1VOLT', 'PAN1CURR', 'BCK1VOLT', 'BCK1CURR', 'RSSI', 'time','date','Batt_id']\n",
    "my_Data=pd.DataFrame(columns=colum)\n",
    "for i, file in enumerate(glob.glob(path_csv+\"/*.csv\")):\n",
    "    #print(file)\n",
    "    DF= pd.read_csv(file, sep=';')\n",
    "    my_Data=my_Data.append(DF,ignore_index=True)"
   ]
  },
  {
   "cell_type": "markdown",
   "metadata": {},
   "source": [
    "## 1- Dataset totale"
   ]
  },
  {
   "cell_type": "code",
   "execution_count": 3,
   "metadata": {},
   "outputs": [
    {
     "data": {
      "text/html": [
       "<div>\n",
       "<style scoped>\n",
       "    .dataframe tbody tr th:only-of-type {\n",
       "        vertical-align: middle;\n",
       "    }\n",
       "\n",
       "    .dataframe tbody tr th {\n",
       "        vertical-align: top;\n",
       "    }\n",
       "\n",
       "    .dataframe thead th {\n",
       "        text-align: right;\n",
       "    }\n",
       "</style>\n",
       "<table border=\"1\" class=\"dataframe\">\n",
       "  <thead>\n",
       "    <tr style=\"text-align: right;\">\n",
       "      <th></th>\n",
       "      <th>DATE</th>\n",
       "      <th>VIN</th>\n",
       "      <th>IIN</th>\n",
       "      <th>VOUT</th>\n",
       "      <th>VBATT</th>\n",
       "      <th>IBATT</th>\n",
       "      <th>TEMP</th>\n",
       "      <th>JP</th>\n",
       "      <th>CNT</th>\n",
       "      <th>STS</th>\n",
       "      <th>...</th>\n",
       "      <th>BRIGHTNESS</th>\n",
       "      <th>PAN1VOLT</th>\n",
       "      <th>PAN1CURR</th>\n",
       "      <th>BCK1VOLT</th>\n",
       "      <th>BCK1CURR</th>\n",
       "      <th>RSSI</th>\n",
       "      <th>time</th>\n",
       "      <th>date</th>\n",
       "      <th>host_id</th>\n",
       "      <th>Unnamed: 0</th>\n",
       "    </tr>\n",
       "  </thead>\n",
       "  <tbody>\n",
       "    <tr>\n",
       "      <th>0</th>\n",
       "      <td>2020-10-31 00:00:32</td>\n",
       "      <td>29167</td>\n",
       "      <td>618.0</td>\n",
       "      <td>29097.0</td>\n",
       "      <td>29066.0</td>\n",
       "      <td>795.0</td>\n",
       "      <td>265.0</td>\n",
       "      <td>OFF</td>\n",
       "      <td>12497.0</td>\n",
       "      <td>1.0</td>\n",
       "      <td>...</td>\n",
       "      <td>-1.0</td>\n",
       "      <td>-1.0</td>\n",
       "      <td>-1.0</td>\n",
       "      <td>-1.0</td>\n",
       "      <td>-1.0</td>\n",
       "      <td>NaN</td>\n",
       "      <td>00:00:32</td>\n",
       "      <td>2020-10-31</td>\n",
       "      <td>814U01M70006</td>\n",
       "      <td>0.0</td>\n",
       "    </tr>\n",
       "    <tr>\n",
       "      <th>1</th>\n",
       "      <td>2020-10-31 00:01:31</td>\n",
       "      <td>29167</td>\n",
       "      <td>619.0</td>\n",
       "      <td>29097.0</td>\n",
       "      <td>29048.0</td>\n",
       "      <td>576.0</td>\n",
       "      <td>265.0</td>\n",
       "      <td>OFF</td>\n",
       "      <td>12498.0</td>\n",
       "      <td>1.0</td>\n",
       "      <td>...</td>\n",
       "      <td>-1.0</td>\n",
       "      <td>-1.0</td>\n",
       "      <td>-1.0</td>\n",
       "      <td>-1.0</td>\n",
       "      <td>-1.0</td>\n",
       "      <td>NaN</td>\n",
       "      <td>00:01:31</td>\n",
       "      <td>2020-10-31</td>\n",
       "      <td>814U01M70006</td>\n",
       "      <td>1.0</td>\n",
       "    </tr>\n",
       "    <tr>\n",
       "      <th>2</th>\n",
       "      <td>2020-10-31 00:02:30</td>\n",
       "      <td>29166</td>\n",
       "      <td>691.0</td>\n",
       "      <td>29097.0</td>\n",
       "      <td>29065.0</td>\n",
       "      <td>746.0</td>\n",
       "      <td>265.0</td>\n",
       "      <td>OFF</td>\n",
       "      <td>12499.0</td>\n",
       "      <td>1.0</td>\n",
       "      <td>...</td>\n",
       "      <td>-1.0</td>\n",
       "      <td>-1.0</td>\n",
       "      <td>-1.0</td>\n",
       "      <td>-1.0</td>\n",
       "      <td>-1.0</td>\n",
       "      <td>NaN</td>\n",
       "      <td>00:02:30</td>\n",
       "      <td>2020-10-31</td>\n",
       "      <td>814U01M70006</td>\n",
       "      <td>2.0</td>\n",
       "    </tr>\n",
       "    <tr>\n",
       "      <th>3</th>\n",
       "      <td>2020-10-31 00:03:29</td>\n",
       "      <td>29170</td>\n",
       "      <td>643.0</td>\n",
       "      <td>29097.0</td>\n",
       "      <td>29050.0</td>\n",
       "      <td>557.0</td>\n",
       "      <td>265.0</td>\n",
       "      <td>OFF</td>\n",
       "      <td>12500.0</td>\n",
       "      <td>1.0</td>\n",
       "      <td>...</td>\n",
       "      <td>-1.0</td>\n",
       "      <td>-1.0</td>\n",
       "      <td>-1.0</td>\n",
       "      <td>-1.0</td>\n",
       "      <td>-1.0</td>\n",
       "      <td>NaN</td>\n",
       "      <td>00:03:29</td>\n",
       "      <td>2020-10-31</td>\n",
       "      <td>814U01M70006</td>\n",
       "      <td>3.0</td>\n",
       "    </tr>\n",
       "  </tbody>\n",
       "</table>\n",
       "<p>4 rows × 24 columns</p>\n",
       "</div>"
      ],
      "text/plain": [
       "                  DATE    VIN    IIN     VOUT    VBATT  IBATT   TEMP   JP  \\\n",
       "0  2020-10-31 00:00:32  29167  618.0  29097.0  29066.0  795.0  265.0  OFF   \n",
       "1  2020-10-31 00:01:31  29167  619.0  29097.0  29048.0  576.0  265.0  OFF   \n",
       "2  2020-10-31 00:02:30  29166  691.0  29097.0  29065.0  746.0  265.0  OFF   \n",
       "3  2020-10-31 00:03:29  29170  643.0  29097.0  29050.0  557.0  265.0  OFF   \n",
       "\n",
       "       CNT  STS  ...  BRIGHTNESS  PAN1VOLT PAN1CURR  BCK1VOLT  BCK1CURR  RSSI  \\\n",
       "0  12497.0  1.0  ...        -1.0      -1.0     -1.0      -1.0      -1.0   NaN   \n",
       "1  12498.0  1.0  ...        -1.0      -1.0     -1.0      -1.0      -1.0   NaN   \n",
       "2  12499.0  1.0  ...        -1.0      -1.0     -1.0      -1.0      -1.0   NaN   \n",
       "3  12500.0  1.0  ...        -1.0      -1.0     -1.0      -1.0      -1.0   NaN   \n",
       "\n",
       "       time        date       host_id  Unnamed: 0  \n",
       "0  00:00:32  2020-10-31  814U01M70006         0.0  \n",
       "1  00:01:31  2020-10-31  814U01M70006         1.0  \n",
       "2  00:02:30  2020-10-31  814U01M70006         2.0  \n",
       "3  00:03:29  2020-10-31  814U01M70006         3.0  \n",
       "\n",
       "[4 rows x 24 columns]"
      ]
     },
     "execution_count": 3,
     "metadata": {},
     "output_type": "execute_result"
    }
   ],
   "source": [
    "my_Data = my_Data.rename({'Batt_id': 'host_id'}, axis='columns')\n",
    "my_Data.head(4)"
   ]
  },
  {
   "cell_type": "markdown",
   "metadata": {},
   "source": [
    "### 1.1- Sostituzione dei valori mancanti con la media di ciascuna colonna del nostro Master Table\n"
   ]
  },
  {
   "cell_type": "code",
   "execution_count": 4,
   "metadata": {},
   "outputs": [],
   "source": [
    "my_Data[\"VIN\"] = my_Data[\"VIN\"].fillna(my_Data[\"VIN\"].mean())\n",
    "my_Data[\"VIN\"]=my_Data[\"VIN\"].astype(int)\n",
    "my_Data[\"IIN\"] = my_Data[\"IIN\"].fillna(my_Data[\"IIN\"].mean())\n",
    "my_Data[\"IIN\"]=my_Data[\"IIN\"].astype(int)\n",
    "my_Data[\"VOUT\"] = my_Data[\"VOUT\"].fillna(my_Data[\"VOUT\"].mean())\n",
    "my_Data[\"VOUT\"]=my_Data[\"VOUT\"].astype(int)\n",
    "my_Data[\"VBATT\"] = my_Data[\"VBATT\"].fillna(my_Data[\"VBATT\"].mean())\n",
    "my_Data[\"VBATT\"]=my_Data[\"VBATT\"].astype(int)\n",
    "my_Data[\"IBATT\"] = my_Data[\"IBATT\"].fillna(my_Data[\"IBATT\"].mean())\n",
    "my_Data[\"IBATT\"]=my_Data[\"IBATT\"].astype(int)\n",
    "my_Data[\"TEMP\"] = my_Data[\"TEMP\"].fillna(my_Data[\"TEMP\"].mean())\n",
    "my_Data[\"TEMP\"]=my_Data[\"TEMP\"].astype(int)\n",
    "my_Data[\"CNT\"] = my_Data[\"CNT\"].fillna(my_Data[\"CNT\"].mean())\n",
    "my_Data[\"CNT\"]=my_Data[\"CNT\"].astype(int)\n",
    "my_Data[\"POWER\"] = my_Data[\"POWER\"].fillna(my_Data[\"POWER\"].mean())\n",
    "my_Data[\"POWER\"]=my_Data[\"POWER\"].astype(int)"
   ]
  },
  {
   "cell_type": "markdown",
   "metadata": {},
   "source": [
    "## Questa è la lista dei giorni che abbiamo studiato "
   ]
  },
  {
   "cell_type": "code",
   "execution_count": 5,
   "metadata": {},
   "outputs": [
    {
     "data": {
      "text/plain": [
       "['2020-10-31',\n",
       " '2020-11-01',\n",
       " '2020-11-02',\n",
       " '2020-11-03',\n",
       " '2020-11-04',\n",
       " '2020-11-05']"
      ]
     },
     "execution_count": 5,
     "metadata": {},
     "output_type": "execute_result"
    }
   ],
   "source": [
    "list_date=[c for c in my_Data.date.unique()]\n",
    "list_date"
   ]
  },
  {
   "cell_type": "code",
   "execution_count": 6,
   "metadata": {},
   "outputs": [
    {
     "data": {
      "text/plain": [
       "6002960"
      ]
     },
     "execution_count": 6,
     "metadata": {},
     "output_type": "execute_result"
    }
   ],
   "source": [
    "my_Data.shape[0]"
   ]
  },
  {
   "cell_type": "code",
   "execution_count": 7,
   "metadata": {},
   "outputs": [],
   "source": [
    "dati=my_Data[['DATE', 'VIN', 'IIN', 'VOUT', 'VBATT', 'IBATT', 'TEMP', 'CNT',  'POWER', 'time', 'date', 'host_id']]"
   ]
  },
  {
   "cell_type": "markdown",
   "metadata": {},
   "source": [
    "### 1.2- Correlazione tra le varie caratteristiche e la temperatura del nostro Master Table\n"
   ]
  },
  {
   "cell_type": "code",
   "execution_count": 8,
   "metadata": {},
   "outputs": [
    {
     "data": {
      "text/plain": [
       "<AxesSubplot:title={'center':'dataset totale'}>"
      ]
     },
     "execution_count": 8,
     "metadata": {},
     "output_type": "execute_result"
    },
    {
     "data": {
      "image/png": "[encoded data removed]",
      "text/plain": [
       "<Figure size 576x576 with 2 Axes>"
      ]
     },
     "metadata": {
      "needs_background": "light"
     },
     "output_type": "display_data"
    }
   ],
   "source": [
    "# master_table correlation matrix \n",
    "# calculate the correlation matrix\n",
    "corr = dati.corr()\n",
    "# plot the heatmap\n",
    "fig, ax = plt.subplots(figsize=(8,8)) \n",
    "ax.set_title('dataset totale')\n",
    "sns.heatmap(corr, \n",
    "        xticklabels=corr.columns,\n",
    "        yticklabels=corr.columns, annot=True, cmap= 'Blues',ax=ax)"
   ]
  },
  {
   "cell_type": "markdown",
   "metadata": {},
   "source": [
    "## 2- Part1: IN=0 (cioè illuminazione pubblica spenta)"
   ]
  },
  {
   "cell_type": "markdown",
   "metadata": {},
   "source": [
    "Selezioniamo le osservazioni che hanno soddisfatto la condizione IIN=0 nel nostro Master Table (my_Data). Abbiamo trovato che ci sono 2471286 casi su 6002960 :totale dei casi"
   ]
  },
  {
   "cell_type": "code",
   "execution_count": 9,
   "metadata": {},
   "outputs": [
    {
     "data": {
      "text/plain": [
       "2471286"
      ]
     },
     "execution_count": 9,
     "metadata": {},
     "output_type": "execute_result"
    }
   ],
   "source": [
    "DF_IIN0=my_Data[my_Data.IIN==0]\n",
    "Col_IIN0=['DATE', 'VIN', 'VOUT', 'VBATT', 'IBATT', 'TEMP','CNT','POWER', 'time', 'date', 'host_id']\n",
    "DF_IIN0=DF_IIN0[Col_IIN0]\n",
    "DF_IIN0.shape[0]"
   ]
  },
  {
   "cell_type": "markdown",
   "metadata": {},
   "source": [
    "### 2.1- Corelazione tra vari caratteristiche e la temperatura del nostro Mater Table quando IIN=0"
   ]
  },
  {
   "cell_type": "code",
   "execution_count": 10,
   "metadata": {},
   "outputs": [
    {
     "data": {
      "text/plain": [
       "<AxesSubplot:title={'center':'IIN=0'}>"
      ]
     },
     "execution_count": 10,
     "metadata": {},
     "output_type": "execute_result"
    },
    {
     "data": {
      "image/png": "[encoded data removed]",
      "text/plain": [
       "<Figure size 576x576 with 2 Axes>"
      ]
     },
     "metadata": {
      "needs_background": "light"
     },
     "output_type": "display_data"
    }
   ],
   "source": [
    "# master_table correlation matrix \n",
    "# calculate the correlation matrix\n",
    "corr1 = DF_IIN0.corr()\n",
    "# plot the heatmap\n",
    "fig, ax = plt.subplots(figsize=(8,8)) \n",
    "ax.set_title('IIN=0')\n",
    "sns.heatmap(corr1, \n",
    "        xticklabels=corr1.columns,\n",
    "        yticklabels=corr1.columns, annot=True, cmap= 'Blues',ax=ax)"
   ]
  },
  {
   "cell_type": "markdown",
   "metadata": {},
   "source": [
    "Il seguente boxplot mostra la distribuzione dei dati quantitativi in un modo che faciliti il confronto tra le variabili. Il riquadro mostra i quartili del dataset di dati mentre i baffi si estendono per mostrare il resto della distribuzione, ad eccezione dei punti determinati come \"valori anomali\""
   ]
  },
  {
   "cell_type": "code",
   "execution_count": 11,
   "metadata": {},
   "outputs": [
    {
     "data": {
      "text/plain": [
       "<AxesSubplot:xlabel='TEMP'>"
      ]
     },
     "execution_count": 11,
     "metadata": {},
     "output_type": "execute_result"
    },
    {
     "data": {
      "image/png": "[encoded data removed]",
      "text/plain": [
       "<Figure size 432x288 with 1 Axes>"
      ]
     },
     "metadata": {
      "needs_background": "light"
     },
     "output_type": "display_data"
    }
   ],
   "source": [
    "sns.boxplot(x=DF_IIN0['TEMP'])"
   ]
  },
  {
   "cell_type": "markdown",
   "metadata": {},
   "source": [
    "Abbiamo trovato in questo caso che l'anomalia della temperatura inizia quando il valore è superiore a 32°C, quindi siamo andati a studiare il dataset che presenta valori di temperatura superiori a 32°C.\n",
    "\n",
    "Abbiamo trovato che ci sono 2312 casi su totale di 2471286. se veda nella cella successiva"
   ]
  },
  {
   "cell_type": "code",
   "execution_count": 12,
   "metadata": {},
   "outputs": [
    {
     "data": {
      "text/html": [
       "<div>\n",
       "<style scoped>\n",
       "    .dataframe tbody tr th:only-of-type {\n",
       "        vertical-align: middle;\n",
       "    }\n",
       "\n",
       "    .dataframe tbody tr th {\n",
       "        vertical-align: top;\n",
       "    }\n",
       "\n",
       "    .dataframe thead th {\n",
       "        text-align: right;\n",
       "    }\n",
       "</style>\n",
       "<table border=\"1\" class=\"dataframe\">\n",
       "  <thead>\n",
       "    <tr style=\"text-align: right;\">\n",
       "      <th></th>\n",
       "      <th>DATE</th>\n",
       "      <th>VIN</th>\n",
       "      <th>VOUT</th>\n",
       "      <th>VBATT</th>\n",
       "      <th>IBATT</th>\n",
       "      <th>TEMP</th>\n",
       "      <th>CNT</th>\n",
       "      <th>POWER</th>\n",
       "      <th>time</th>\n",
       "      <th>date</th>\n",
       "      <th>host_id</th>\n",
       "    </tr>\n",
       "  </thead>\n",
       "  <tbody>\n",
       "    <tr>\n",
       "      <th>51830</th>\n",
       "      <td>2020-10-31 14:16:45</td>\n",
       "      <td>0</td>\n",
       "      <td>26524</td>\n",
       "      <td>26411</td>\n",
       "      <td>673</td>\n",
       "      <td>325</td>\n",
       "      <td>62949</td>\n",
       "      <td>17774</td>\n",
       "      <td>14:16:45</td>\n",
       "      <td>2020-10-31</td>\n",
       "      <td>814U01M70081</td>\n",
       "    </tr>\n",
       "    <tr>\n",
       "      <th>51831</th>\n",
       "      <td>2020-10-31 14:17:45</td>\n",
       "      <td>0</td>\n",
       "      <td>26524</td>\n",
       "      <td>26476</td>\n",
       "      <td>662</td>\n",
       "      <td>325</td>\n",
       "      <td>62950</td>\n",
       "      <td>17527</td>\n",
       "      <td>14:17:45</td>\n",
       "      <td>2020-10-31</td>\n",
       "      <td>814U01M70081</td>\n",
       "    </tr>\n",
       "    <tr>\n",
       "      <th>51832</th>\n",
       "      <td>2020-10-31 14:18:44</td>\n",
       "      <td>0</td>\n",
       "      <td>26524</td>\n",
       "      <td>26402</td>\n",
       "      <td>648</td>\n",
       "      <td>325</td>\n",
       "      <td>62951</td>\n",
       "      <td>17108</td>\n",
       "      <td>14:18:44</td>\n",
       "      <td>2020-10-31</td>\n",
       "      <td>814U01M70081</td>\n",
       "    </tr>\n",
       "    <tr>\n",
       "      <th>51833</th>\n",
       "      <td>2020-10-31 14:19:43</td>\n",
       "      <td>0</td>\n",
       "      <td>26524</td>\n",
       "      <td>26476</td>\n",
       "      <td>522</td>\n",
       "      <td>325</td>\n",
       "      <td>62952</td>\n",
       "      <td>13820</td>\n",
       "      <td>14:19:43</td>\n",
       "      <td>2020-10-31</td>\n",
       "      <td>814U01M70081</td>\n",
       "    </tr>\n",
       "    <tr>\n",
       "      <th>51834</th>\n",
       "      <td>2020-10-31 14:20:42</td>\n",
       "      <td>0</td>\n",
       "      <td>26524</td>\n",
       "      <td>26395</td>\n",
       "      <td>533</td>\n",
       "      <td>325</td>\n",
       "      <td>62953</td>\n",
       "      <td>14068</td>\n",
       "      <td>14:20:42</td>\n",
       "      <td>2020-10-31</td>\n",
       "      <td>814U01M70081</td>\n",
       "    </tr>\n",
       "    <tr>\n",
       "      <th>...</th>\n",
       "      <td>...</td>\n",
       "      <td>...</td>\n",
       "      <td>...</td>\n",
       "      <td>...</td>\n",
       "      <td>...</td>\n",
       "      <td>...</td>\n",
       "      <td>...</td>\n",
       "      <td>...</td>\n",
       "      <td>...</td>\n",
       "      <td>...</td>\n",
       "      <td>...</td>\n",
       "    </tr>\n",
       "    <tr>\n",
       "      <th>5996542</th>\n",
       "      <td>2020-11-05 14:27:04</td>\n",
       "      <td>0</td>\n",
       "      <td>26441</td>\n",
       "      <td>26486</td>\n",
       "      <td>652</td>\n",
       "      <td>330</td>\n",
       "      <td>371840</td>\n",
       "      <td>17268</td>\n",
       "      <td>14:27:04</td>\n",
       "      <td>2020-11-05</td>\n",
       "      <td>814U01M71142</td>\n",
       "    </tr>\n",
       "    <tr>\n",
       "      <th>5996543</th>\n",
       "      <td>2020-11-05 14:28:03</td>\n",
       "      <td>0</td>\n",
       "      <td>26441</td>\n",
       "      <td>26522</td>\n",
       "      <td>763</td>\n",
       "      <td>330</td>\n",
       "      <td>371841</td>\n",
       "      <td>20236</td>\n",
       "      <td>14:28:03</td>\n",
       "      <td>2020-11-05</td>\n",
       "      <td>814U01M71142</td>\n",
       "    </tr>\n",
       "    <tr>\n",
       "      <th>5996544</th>\n",
       "      <td>2020-11-05 14:29:02</td>\n",
       "      <td>0</td>\n",
       "      <td>26441</td>\n",
       "      <td>26521</td>\n",
       "      <td>627</td>\n",
       "      <td>330</td>\n",
       "      <td>371842</td>\n",
       "      <td>16628</td>\n",
       "      <td>14:29:02</td>\n",
       "      <td>2020-11-05</td>\n",
       "      <td>814U01M71142</td>\n",
       "    </tr>\n",
       "    <tr>\n",
       "      <th>5996545</th>\n",
       "      <td>2020-11-05 14:30:01</td>\n",
       "      <td>0</td>\n",
       "      <td>26441</td>\n",
       "      <td>26511</td>\n",
       "      <td>646</td>\n",
       "      <td>325</td>\n",
       "      <td>371843</td>\n",
       "      <td>17126</td>\n",
       "      <td>14:30:01</td>\n",
       "      <td>2020-11-05</td>\n",
       "      <td>814U01M71142</td>\n",
       "    </tr>\n",
       "    <tr>\n",
       "      <th>5996546</th>\n",
       "      <td>2020-11-05 14:31:01</td>\n",
       "      <td>0</td>\n",
       "      <td>26441</td>\n",
       "      <td>26415</td>\n",
       "      <td>676</td>\n",
       "      <td>325</td>\n",
       "      <td>371844</td>\n",
       "      <td>17856</td>\n",
       "      <td>14:31:01</td>\n",
       "      <td>2020-11-05</td>\n",
       "      <td>814U01M71142</td>\n",
       "    </tr>\n",
       "  </tbody>\n",
       "</table>\n",
       "<p>2312 rows × 11 columns</p>\n",
       "</div>"
      ],
      "text/plain": [
       "                        DATE  VIN   VOUT  VBATT  IBATT  TEMP     CNT  POWER  \\\n",
       "51830    2020-10-31 14:16:45    0  26524  26411    673   325   62949  17774   \n",
       "51831    2020-10-31 14:17:45    0  26524  26476    662   325   62950  17527   \n",
       "51832    2020-10-31 14:18:44    0  26524  26402    648   325   62951  17108   \n",
       "51833    2020-10-31 14:19:43    0  26524  26476    522   325   62952  13820   \n",
       "51834    2020-10-31 14:20:42    0  26524  26395    533   325   62953  14068   \n",
       "...                      ...  ...    ...    ...    ...   ...     ...    ...   \n",
       "5996542  2020-11-05 14:27:04    0  26441  26486    652   330  371840  17268   \n",
       "5996543  2020-11-05 14:28:03    0  26441  26522    763   330  371841  20236   \n",
       "5996544  2020-11-05 14:29:02    0  26441  26521    627   330  371842  16628   \n",
       "5996545  2020-11-05 14:30:01    0  26441  26511    646   325  371843  17126   \n",
       "5996546  2020-11-05 14:31:01    0  26441  26415    676   325  371844  17856   \n",
       "\n",
       "             time        date       host_id  \n",
       "51830    14:16:45  2020-10-31  814U01M70081  \n",
       "51831    14:17:45  2020-10-31  814U01M70081  \n",
       "51832    14:18:44  2020-10-31  814U01M70081  \n",
       "51833    14:19:43  2020-10-31  814U01M70081  \n",
       "51834    14:20:42  2020-10-31  814U01M70081  \n",
       "...           ...         ...           ...  \n",
       "5996542  14:27:04  2020-11-05  814U01M71142  \n",
       "5996543  14:28:03  2020-11-05  814U01M71142  \n",
       "5996544  14:29:02  2020-11-05  814U01M71142  \n",
       "5996545  14:30:01  2020-11-05  814U01M71142  \n",
       "5996546  14:31:01  2020-11-05  814U01M71142  \n",
       "\n",
       "[2312 rows x 11 columns]"
      ]
     },
     "execution_count": 12,
     "metadata": {},
     "output_type": "execute_result"
    }
   ],
   "source": [
    "Outlier_temp=DF_IIN0[DF_IIN0.TEMP>320]\n",
    "Outlier_temp"
   ]
  },
  {
   "cell_type": "markdown",
   "metadata": {},
   "source": [
    "Il numero degli host che hanno riscontrato questi valori della temperatura (temp>32°C) sono 37 su totale di 730. Si veda nella cella successiva "
   ]
  },
  {
   "cell_type": "code",
   "execution_count": 13,
   "metadata": {},
   "outputs": [
    {
     "data": {
      "text/plain": [
       "37"
      ]
     },
     "execution_count": 13,
     "metadata": {},
     "output_type": "execute_result"
    }
   ],
   "source": [
    "c=[ c for c in  Outlier_temp.host_id.unique()]\n",
    "len(c)"
   ]
  },
  {
   "cell_type": "markdown",
   "metadata": {},
   "source": [
    "Studiando la distribuzione dei valori di : VBATT, VOUT, POWER e IBATT quando la temperatura è superiore à 32°C: i punti neri indicano le ouliers invece il plobox blu indicano la distirbuzione normale. Si veda nei grafici seguenti"
   ]
  },
  {
   "cell_type": "code",
   "execution_count": 14,
   "metadata": {},
   "outputs": [
    {
     "data": {
      "text/plain": [
       "<AxesSubplot:xlabel='IBATT'>"
      ]
     },
     "execution_count": 14,
     "metadata": {},
     "output_type": "execute_result"
    },
    {
     "data": {
      "image/png": "[encoded data removed]",
      "text/plain": [
       "<Figure size 864x288 with 2 Axes>"
      ]
     },
     "metadata": {
      "needs_background": "light"
     },
     "output_type": "display_data"
    },
    {
     "data": {
      "image/png": "[encoded data removed]",
      "text/plain": [
       "<Figure size 864x288 with 2 Axes>"
      ]
     },
     "metadata": {
      "needs_background": "light"
     },
     "output_type": "display_data"
    }
   ],
   "source": [
    "plt.figure(figsize=(12,4))\n",
    "plt.subplot(1,2,1)\n",
    "sns.boxplot(x=Outlier_temp['VBATT'])\n",
    "plt.subplot(1,2,2)\n",
    "sns.boxplot(x=Outlier_temp['VOUT'])\n",
    "plt.figure(figsize=(12,4))\n",
    "plt.subplot(1,2,1)\n",
    "sns.boxplot(x=Outlier_temp['POWER'])\n",
    "plt.subplot(1,2,2)\n",
    "sns.boxplot(x=Outlier_temp['IBATT'])"
   ]
  },
  {
   "cell_type": "markdown",
   "metadata": {},
   "source": [
    "Studiando la distribuzione dei valori di VIN quando la temperatura è superiore a 32°C: si vede della la cella successiva che VIN è stato sempre nullo tranne 7 casi che sono indicati sotto il grafico"
   ]
  },
  {
   "cell_type": "code",
   "execution_count": 15,
   "metadata": {},
   "outputs": [
    {
     "data": {
      "text/plain": [
       "<AxesSubplot:xlabel='VIN'>"
      ]
     },
     "execution_count": 15,
     "metadata": {},
     "output_type": "execute_result"
    },
    {
     "data": {
      "image/png": "[encoded data removed]",
      "text/plain": [
       "<Figure size 432x288 with 1 Axes>"
      ]
     },
     "metadata": {
      "needs_background": "light"
     },
     "output_type": "display_data"
    }
   ],
   "source": [
    "sns.boxplot(x=Outlier_temp['VIN'])"
   ]
  },
  {
   "cell_type": "code",
   "execution_count": 17,
   "metadata": {},
   "outputs": [
    {
     "data": {
      "text/html": [
       "<div>\n",
       "<style scoped>\n",
       "    .dataframe tbody tr th:only-of-type {\n",
       "        vertical-align: middle;\n",
       "    }\n",
       "\n",
       "    .dataframe tbody tr th {\n",
       "        vertical-align: top;\n",
       "    }\n",
       "\n",
       "    .dataframe thead th {\n",
       "        text-align: right;\n",
       "    }\n",
       "</style>\n",
       "<table border=\"1\" class=\"dataframe\">\n",
       "  <thead>\n",
       "    <tr style=\"text-align: right;\">\n",
       "      <th></th>\n",
       "      <th>DATE</th>\n",
       "      <th>VIN</th>\n",
       "      <th>VOUT</th>\n",
       "      <th>VBATT</th>\n",
       "      <th>IBATT</th>\n",
       "      <th>TEMP</th>\n",
       "      <th>CNT</th>\n",
       "      <th>POWER</th>\n",
       "      <th>time</th>\n",
       "      <th>date</th>\n",
       "      <th>host_id</th>\n",
       "    </tr>\n",
       "  </thead>\n",
       "  <tbody>\n",
       "  </tbody>\n",
       "</table>\n",
       "</div>"
      ],
      "text/plain": [
       "Empty DataFrame\n",
       "Columns: [DATE, VIN, VOUT, VBATT, IBATT, TEMP, CNT, POWER, time, date, host_id]\n",
       "Index: []"
      ]
     },
     "execution_count": 17,
     "metadata": {},
     "output_type": "execute_result"
    }
   ],
   "source": [
    "test=Outlier_temp[Outlier_temp['VIN']>29700]\n",
    "test"
   ]
  },
  {
   "cell_type": "markdown",
   "metadata": {},
   "source": [
    "### Tornando al dataset iniziale che corrisponde à IIN=0 per tutte le oservazioni "
   ]
  },
  {
   "cell_type": "markdown",
   "metadata": {},
   "source": [
    "Studiando la distribuzione dei valori VBATT, VOUT, POWER e IBATT quando la corrente d'ingresso lato caricabatteria è nulla. I punti indicano le ouliers invece il box blu indica la distirbuzione normale"
   ]
  },
  {
   "cell_type": "code",
   "execution_count": 18,
   "metadata": {},
   "outputs": [
    {
     "data": {
      "text/plain": [
       "Text(0.5, 1.0, 'La distribuzione di IBAT mentre IIN=0')"
      ]
     },
     "execution_count": 18,
     "metadata": {},
     "output_type": "execute_result"
    },
    {
     "data": {
      "image/png": "[encoded data removed]",
      "text/plain": [
       "<Figure size 864x288 with 2 Axes>"
      ]
     },
     "metadata": {
      "needs_background": "light"
     },
     "output_type": "display_data"
    },
    {
     "data": {
      "image/png": "[encoded data removed]",
      "text/plain": [
       "<Figure size 864x288 with 2 Axes>"
      ]
     },
     "metadata": {
      "needs_background": "light"
     },
     "output_type": "display_data"
    }
   ],
   "source": [
    "plt.figure(figsize=(12,4))\n",
    "plt.subplot(1,2,1)\n",
    "plt.title('La distribuzione di VBATT mentre IIN=0')\n",
    "sns.boxplot(x=DF_IIN0['VBATT'])\n",
    "plt.subplot(1,2,2)\n",
    "sns.boxplot(x=DF_IIN0['VOUT'])\n",
    "plt.title('La distribuzione di VOUT mentre IIN=0')\n",
    "plt.figure(figsize=(12,4))\n",
    "plt.subplot(1,2,1)\n",
    "sns.boxplot(x=DF_IIN0['POWER'])\n",
    "plt.title('La distribuzione di POWER mentre IIN=0')\n",
    "plt.subplot(1,2,2)\n",
    "sns.boxplot(x=DF_IIN0['IBATT'])\n",
    "plt.title('La distribuzione di IBAT mentre IIN=0')\n"
   ]
  },
  {
   "cell_type": "markdown",
   "metadata": {},
   "source": [
    "La tensione in ingresso lato caricabatterie è stato sempre 0 trane alcuni valori di 'ouliers' indicati con i punti neri"
   ]
  },
  {
   "cell_type": "code",
   "execution_count": 19,
   "metadata": {},
   "outputs": [
    {
     "data": {
      "text/plain": [
       "<AxesSubplot:title={'center':'La distribuzione di VIN mentre IIN=0'}, xlabel='VIN'>"
      ]
     },
     "execution_count": 19,
     "metadata": {},
     "output_type": "execute_result"
    },
    {
     "data": {
      "image/png": "[encoded data removed]",
      "text/plain": [
       "<Figure size 864x288 with 1 Axes>"
      ]
     },
     "metadata": {
      "needs_background": "light"
     },
     "output_type": "display_data"
    }
   ],
   "source": [
    "plt.figure(figsize=(12,4))\n",
    "plt.title('La distribuzione di VIN mentre IIN=0')\n",
    "sns.boxplot(x=DF_IIN0['VIN'])"
   ]
  },
  {
   "cell_type": "markdown",
   "metadata": {},
   "source": [
    "#### Abbiamo provato a studiare la distibuzione di VIN, VOUT, POWER e IBATT quando VBATT>28 V e IIN=0 però non abbiamo trovato niente di particolare\n",
    "Vediamo la cella successiva"
   ]
  },
  {
   "cell_type": "code",
   "execution_count": 20,
   "metadata": {},
   "outputs": [
    {
     "data": {
      "text/html": [
       "<div>\n",
       "<style scoped>\n",
       "    .dataframe tbody tr th:only-of-type {\n",
       "        vertical-align: middle;\n",
       "    }\n",
       "\n",
       "    .dataframe tbody tr th {\n",
       "        vertical-align: top;\n",
       "    }\n",
       "\n",
       "    .dataframe thead th {\n",
       "        text-align: right;\n",
       "    }\n",
       "</style>\n",
       "<table border=\"1\" class=\"dataframe\">\n",
       "  <thead>\n",
       "    <tr style=\"text-align: right;\">\n",
       "      <th></th>\n",
       "      <th>DATE</th>\n",
       "      <th>VIN</th>\n",
       "      <th>VOUT</th>\n",
       "      <th>VBATT</th>\n",
       "      <th>IBATT</th>\n",
       "      <th>TEMP</th>\n",
       "      <th>CNT</th>\n",
       "      <th>POWER</th>\n",
       "      <th>time</th>\n",
       "      <th>date</th>\n",
       "      <th>host_id</th>\n",
       "    </tr>\n",
       "  </thead>\n",
       "  <tbody>\n",
       "    <tr>\n",
       "      <th>66728</th>\n",
       "      <td>2020-10-31 18:54:26</td>\n",
       "      <td>29326</td>\n",
       "      <td>29180</td>\n",
       "      <td>29051</td>\n",
       "      <td>588</td>\n",
       "      <td>325</td>\n",
       "      <td>64902</td>\n",
       "      <td>17081</td>\n",
       "      <td>18:54:26</td>\n",
       "      <td>2020-10-31</td>\n",
       "      <td>814U01M70095</td>\n",
       "    </tr>\n",
       "    <tr>\n",
       "      <th>128157</th>\n",
       "      <td>2020-10-31 18:43:18</td>\n",
       "      <td>29365</td>\n",
       "      <td>29014</td>\n",
       "      <td>29067</td>\n",
       "      <td>598</td>\n",
       "      <td>325</td>\n",
       "      <td>199364</td>\n",
       "      <td>17382</td>\n",
       "      <td>18:43:18</td>\n",
       "      <td>2020-10-31</td>\n",
       "      <td>814U01M70173</td>\n",
       "    </tr>\n",
       "    <tr>\n",
       "      <th>135007</th>\n",
       "      <td>2020-10-31 11:05:55</td>\n",
       "      <td>0</td>\n",
       "      <td>29097</td>\n",
       "      <td>29137</td>\n",
       "      <td>553</td>\n",
       "      <td>280</td>\n",
       "      <td>6748</td>\n",
       "      <td>16112</td>\n",
       "      <td>11:05:55</td>\n",
       "      <td>2020-10-31</td>\n",
       "      <td>814U01M70180</td>\n",
       "    </tr>\n",
       "    <tr>\n",
       "      <th>156281</th>\n",
       "      <td>2020-10-31 18:44:09</td>\n",
       "      <td>29313</td>\n",
       "      <td>29097</td>\n",
       "      <td>29048</td>\n",
       "      <td>633</td>\n",
       "      <td>335</td>\n",
       "      <td>617838</td>\n",
       "      <td>18387</td>\n",
       "      <td>18:44:09</td>\n",
       "      <td>2020-10-31</td>\n",
       "      <td>814U01M70215</td>\n",
       "    </tr>\n",
       "    <tr>\n",
       "      <th>294362</th>\n",
       "      <td>2020-10-31 05:30:02</td>\n",
       "      <td>29353</td>\n",
       "      <td>29180</td>\n",
       "      <td>29095</td>\n",
       "      <td>612</td>\n",
       "      <td>245</td>\n",
       "      <td>157042</td>\n",
       "      <td>17806</td>\n",
       "      <td>05:30:02</td>\n",
       "      <td>2020-10-31</td>\n",
       "      <td>814U01M70362</td>\n",
       "    </tr>\n",
       "    <tr>\n",
       "      <th>...</th>\n",
       "      <td>...</td>\n",
       "      <td>...</td>\n",
       "      <td>...</td>\n",
       "      <td>...</td>\n",
       "      <td>...</td>\n",
       "      <td>...</td>\n",
       "      <td>...</td>\n",
       "      <td>...</td>\n",
       "      <td>...</td>\n",
       "      <td>...</td>\n",
       "      <td>...</td>\n",
       "    </tr>\n",
       "    <tr>\n",
       "      <th>5505257</th>\n",
       "      <td>2020-11-05 18:32:24</td>\n",
       "      <td>29386</td>\n",
       "      <td>28890</td>\n",
       "      <td>29101</td>\n",
       "      <td>578</td>\n",
       "      <td>265</td>\n",
       "      <td>174085</td>\n",
       "      <td>16820</td>\n",
       "      <td>18:32:24</td>\n",
       "      <td>2020-11-05</td>\n",
       "      <td>814U01M70567</td>\n",
       "    </tr>\n",
       "    <tr>\n",
       "      <th>5505264</th>\n",
       "      <td>2020-11-05 18:39:19</td>\n",
       "      <td>29381</td>\n",
       "      <td>28931</td>\n",
       "      <td>29107</td>\n",
       "      <td>571</td>\n",
       "      <td>255</td>\n",
       "      <td>174092</td>\n",
       "      <td>16620</td>\n",
       "      <td>18:39:19</td>\n",
       "      <td>2020-11-05</td>\n",
       "      <td>814U01M70567</td>\n",
       "    </tr>\n",
       "    <tr>\n",
       "      <th>5553831</th>\n",
       "      <td>2020-11-05 18:46:49</td>\n",
       "      <td>29335</td>\n",
       "      <td>29139</td>\n",
       "      <td>29077</td>\n",
       "      <td>607</td>\n",
       "      <td>245</td>\n",
       "      <td>468489</td>\n",
       "      <td>17649</td>\n",
       "      <td>18:46:49</td>\n",
       "      <td>2020-11-05</td>\n",
       "      <td>814U01M70610</td>\n",
       "    </tr>\n",
       "    <tr>\n",
       "      <th>5558897</th>\n",
       "      <td>2020-11-05 18:50:40</td>\n",
       "      <td>29313</td>\n",
       "      <td>28973</td>\n",
       "      <td>29070</td>\n",
       "      <td>576</td>\n",
       "      <td>255</td>\n",
       "      <td>450848</td>\n",
       "      <td>16744</td>\n",
       "      <td>18:50:40</td>\n",
       "      <td>2020-11-05</td>\n",
       "      <td>814U01M70615</td>\n",
       "    </tr>\n",
       "    <tr>\n",
       "      <th>5657541</th>\n",
       "      <td>2020-11-05 07:36:07</td>\n",
       "      <td>0</td>\n",
       "      <td>29222</td>\n",
       "      <td>29121</td>\n",
       "      <td>556</td>\n",
       "      <td>175</td>\n",
       "      <td>27037</td>\n",
       "      <td>16191</td>\n",
       "      <td>07:36:07</td>\n",
       "      <td>2020-11-05</td>\n",
       "      <td>814U01M70711</td>\n",
       "    </tr>\n",
       "  </tbody>\n",
       "</table>\n",
       "<p>165 rows × 11 columns</p>\n",
       "</div>"
      ],
      "text/plain": [
       "                        DATE    VIN   VOUT  VBATT  IBATT  TEMP     CNT  POWER  \\\n",
       "66728    2020-10-31 18:54:26  29326  29180  29051    588   325   64902  17081   \n",
       "128157   2020-10-31 18:43:18  29365  29014  29067    598   325  199364  17382   \n",
       "135007   2020-10-31 11:05:55      0  29097  29137    553   280    6748  16112   \n",
       "156281   2020-10-31 18:44:09  29313  29097  29048    633   335  617838  18387   \n",
       "294362   2020-10-31 05:30:02  29353  29180  29095    612   245  157042  17806   \n",
       "...                      ...    ...    ...    ...    ...   ...     ...    ...   \n",
       "5505257  2020-11-05 18:32:24  29386  28890  29101    578   265  174085  16820   \n",
       "5505264  2020-11-05 18:39:19  29381  28931  29107    571   255  174092  16620   \n",
       "5553831  2020-11-05 18:46:49  29335  29139  29077    607   245  468489  17649   \n",
       "5558897  2020-11-05 18:50:40  29313  28973  29070    576   255  450848  16744   \n",
       "5657541  2020-11-05 07:36:07      0  29222  29121    556   175   27037  16191   \n",
       "\n",
       "             time        date       host_id  \n",
       "66728    18:54:26  2020-10-31  814U01M70095  \n",
       "128157   18:43:18  2020-10-31  814U01M70173  \n",
       "135007   11:05:55  2020-10-31  814U01M70180  \n",
       "156281   18:44:09  2020-10-31  814U01M70215  \n",
       "294362   05:30:02  2020-10-31  814U01M70362  \n",
       "...           ...         ...           ...  \n",
       "5505257  18:32:24  2020-11-05  814U01M70567  \n",
       "5505264  18:39:19  2020-11-05  814U01M70567  \n",
       "5553831  18:46:49  2020-11-05  814U01M70610  \n",
       "5558897  18:50:40  2020-11-05  814U01M70615  \n",
       "5657541  07:36:07  2020-11-05  814U01M70711  \n",
       "\n",
       "[165 rows x 11 columns]"
      ]
     },
     "execution_count": 20,
     "metadata": {},
     "output_type": "execute_result"
    }
   ],
   "source": [
    "VBATT_Greater28=DF_IIN0[DF_IIN0.VBATT>29000]\n",
    "VBATT_Greater28"
   ]
  },
  {
   "cell_type": "code",
   "execution_count": 21,
   "metadata": {},
   "outputs": [
    {
     "data": {
      "text/plain": [
       "30"
      ]
     },
     "execution_count": 21,
     "metadata": {},
     "output_type": "execute_result"
    }
   ],
   "source": [
    "c=[c for c in VBATT_Greater28.host_id.unique()]\n",
    "len(c)"
   ]
  },
  {
   "cell_type": "markdown",
   "metadata": {},
   "source": [
    "#### Nella Part 2 dobbiamo sudiare il comportamento degli host quando la corrente di carica lato caricabatterie è superiore à 100 mA"
   ]
  },
  {
   "cell_type": "markdown",
   "metadata": {},
   "source": [
    "\n",
    "## Part 2: IIN>100 mA"
   ]
  },
  {
   "cell_type": "code",
   "execution_count": 22,
   "metadata": {},
   "outputs": [
    {
     "data": {
      "text/html": [
       "<div>\n",
       "<style scoped>\n",
       "    .dataframe tbody tr th:only-of-type {\n",
       "        vertical-align: middle;\n",
       "    }\n",
       "\n",
       "    .dataframe tbody tr th {\n",
       "        vertical-align: top;\n",
       "    }\n",
       "\n",
       "    .dataframe thead th {\n",
       "        text-align: right;\n",
       "    }\n",
       "</style>\n",
       "<table border=\"1\" class=\"dataframe\">\n",
       "  <thead>\n",
       "    <tr style=\"text-align: right;\">\n",
       "      <th></th>\n",
       "      <th>DATE</th>\n",
       "      <th>VIN</th>\n",
       "      <th>IIN</th>\n",
       "      <th>VOUT</th>\n",
       "      <th>VBATT</th>\n",
       "      <th>IBATT</th>\n",
       "      <th>TEMP</th>\n",
       "      <th>CNT</th>\n",
       "      <th>POWER</th>\n",
       "      <th>time</th>\n",
       "      <th>date</th>\n",
       "      <th>host_id</th>\n",
       "    </tr>\n",
       "  </thead>\n",
       "  <tbody>\n",
       "    <tr>\n",
       "      <th>0</th>\n",
       "      <td>2020-10-31 00:00:32</td>\n",
       "      <td>29167</td>\n",
       "      <td>618</td>\n",
       "      <td>29097</td>\n",
       "      <td>29066</td>\n",
       "      <td>795</td>\n",
       "      <td>265</td>\n",
       "      <td>12497</td>\n",
       "      <td>23107</td>\n",
       "      <td>00:00:32</td>\n",
       "      <td>2020-10-31</td>\n",
       "      <td>814U01M70006</td>\n",
       "    </tr>\n",
       "    <tr>\n",
       "      <th>1</th>\n",
       "      <td>2020-10-31 00:01:31</td>\n",
       "      <td>29167</td>\n",
       "      <td>619</td>\n",
       "      <td>29097</td>\n",
       "      <td>29048</td>\n",
       "      <td>576</td>\n",
       "      <td>265</td>\n",
       "      <td>12498</td>\n",
       "      <td>16731</td>\n",
       "      <td>00:01:31</td>\n",
       "      <td>2020-10-31</td>\n",
       "      <td>814U01M70006</td>\n",
       "    </tr>\n",
       "    <tr>\n",
       "      <th>2</th>\n",
       "      <td>2020-10-31 00:02:30</td>\n",
       "      <td>29166</td>\n",
       "      <td>691</td>\n",
       "      <td>29097</td>\n",
       "      <td>29065</td>\n",
       "      <td>746</td>\n",
       "      <td>265</td>\n",
       "      <td>12499</td>\n",
       "      <td>21682</td>\n",
       "      <td>00:02:30</td>\n",
       "      <td>2020-10-31</td>\n",
       "      <td>814U01M70006</td>\n",
       "    </tr>\n",
       "    <tr>\n",
       "      <th>3</th>\n",
       "      <td>2020-10-31 00:03:29</td>\n",
       "      <td>29170</td>\n",
       "      <td>643</td>\n",
       "      <td>29097</td>\n",
       "      <td>29050</td>\n",
       "      <td>557</td>\n",
       "      <td>265</td>\n",
       "      <td>12500</td>\n",
       "      <td>16180</td>\n",
       "      <td>00:03:29</td>\n",
       "      <td>2020-10-31</td>\n",
       "      <td>814U01M70006</td>\n",
       "    </tr>\n",
       "  </tbody>\n",
       "</table>\n",
       "</div>"
      ],
      "text/plain": [
       "                  DATE    VIN  IIN   VOUT  VBATT  IBATT  TEMP    CNT  POWER  \\\n",
       "0  2020-10-31 00:00:32  29167  618  29097  29066    795   265  12497  23107   \n",
       "1  2020-10-31 00:01:31  29167  619  29097  29048    576   265  12498  16731   \n",
       "2  2020-10-31 00:02:30  29166  691  29097  29065    746   265  12499  21682   \n",
       "3  2020-10-31 00:03:29  29170  643  29097  29050    557   265  12500  16180   \n",
       "\n",
       "       time        date       host_id  \n",
       "0  00:00:32  2020-10-31  814U01M70006  \n",
       "1  00:01:31  2020-10-31  814U01M70006  \n",
       "2  00:02:30  2020-10-31  814U01M70006  \n",
       "3  00:03:29  2020-10-31  814U01M70006  "
      ]
     },
     "execution_count": 22,
     "metadata": {},
     "output_type": "execute_result"
    }
   ],
   "source": [
    "coll=['DATE', 'VIN', 'IIN','VOUT', 'VBATT', 'IBATT', 'TEMP','CNT','POWER', 'time','date','host_id']\n",
    "DF_IIN_large=my_Data[my_Data.IIN>100]\n",
    "DF_IIN_large=DF_IIN_large[coll]\n",
    "DF_IIN_large.head(4)"
   ]
  },
  {
   "cell_type": "code",
   "execution_count": 68,
   "metadata": {},
   "outputs": [
    {
     "data": {
      "text/html": [
       "<div>\n",
       "<style scoped>\n",
       "    .dataframe tbody tr th:only-of-type {\n",
       "        vertical-align: middle;\n",
       "    }\n",
       "\n",
       "    .dataframe tbody tr th {\n",
       "        vertical-align: top;\n",
       "    }\n",
       "\n",
       "    .dataframe thead th {\n",
       "        text-align: right;\n",
       "    }\n",
       "</style>\n",
       "<table border=\"1\" class=\"dataframe\">\n",
       "  <thead>\n",
       "    <tr style=\"text-align: right;\">\n",
       "      <th></th>\n",
       "      <th>DATE</th>\n",
       "      <th>VIN</th>\n",
       "      <th>IIN</th>\n",
       "      <th>VOUT</th>\n",
       "      <th>VBATT</th>\n",
       "      <th>IBATT</th>\n",
       "      <th>TEMP</th>\n",
       "      <th>CNT</th>\n",
       "      <th>POWER</th>\n",
       "      <th>time</th>\n",
       "      <th>date</th>\n",
       "      <th>host_id</th>\n",
       "    </tr>\n",
       "  </thead>\n",
       "  <tbody>\n",
       "  </tbody>\n",
       "</table>\n",
       "</div>"
      ],
      "text/plain": [
       "Empty DataFrame\n",
       "Columns: [DATE, VIN, IIN, VOUT, VBATT, IBATT, TEMP, CNT, POWER, time, date, host_id]\n",
       "Index: []"
      ]
     },
     "execution_count": 68,
     "metadata": {},
     "output_type": "execute_result"
    }
   ],
   "source": [
    "test=DF_IIN_large[DF_IIN_large.VBATT>29500]\n",
    "test\n"
   ]
  },
  {
   "cell_type": "markdown",
   "metadata": {},
   "source": [
    "### La correlazione tra la temperatura e le altri variabili quando IIN> 100 mA ==> La temperatura è correlata con IBATT e IIN"
   ]
  },
  {
   "cell_type": "code",
   "execution_count": 23,
   "metadata": {},
   "outputs": [
    {
     "data": {
      "text/plain": [
       "<AxesSubplot:title={'center':'Correlation when IIN>100 mA'}>"
      ]
     },
     "execution_count": 23,
     "metadata": {},
     "output_type": "execute_result"
    },
    {
     "data": {
      "image/png": "[encoded data removed]",
      "text/plain": [
       "<Figure size 576x576 with 2 Axes>"
      ]
     },
     "metadata": {
      "needs_background": "light"
     },
     "output_type": "display_data"
    }
   ],
   "source": [
    "# master_table correlation matrix \n",
    "# calculate the correlation matrix\n",
    "corr_large = DF_IIN_large.corr()\n",
    "\n",
    "# plot the heatmap\n",
    "fig, ax = plt.subplots(figsize=(8,8)) \n",
    "ax.set_title('Correlation when IIN>100 mA')\n",
    "sns.heatmap(corr_large, \n",
    "        xticklabels=corr_large.columns,\n",
    "        yticklabels=corr_large.columns, annot=True, cmap= 'Blues',ax=ax)"
   ]
  },
  {
   "cell_type": "markdown",
   "metadata": {},
   "source": [
    "Studiando la distribuzione dei valori di : VBATT, VOUT, POWER e IBATT quando la corrente d'ingresso lato caricabatteria è superiore à 100 mA. I punti indicano le ouliers invece il box blu indica la distirbuzione normale. Si veda nella cella successiva"
   ]
  },
  {
   "cell_type": "code",
   "execution_count": 24,
   "metadata": {},
   "outputs": [
    {
     "data": {
      "text/plain": [
       "Text(0.5, 1.0, 'La distribuzione di IBATT mentre IIN>100 mA')"
      ]
     },
     "execution_count": 24,
     "metadata": {},
     "output_type": "execute_result"
    },
    {
     "data": {
      "image/png": "[encoded data removed]",
      "text/plain": [
       "<Figure size 864x288 with 2 Axes>"
      ]
     },
     "metadata": {
      "needs_background": "light"
     },
     "output_type": "display_data"
    },
    {
     "data": {
      "image/png": "[encoded data removed]",
      "text/plain": [
       "<Figure size 864x288 with 2 Axes>"
      ]
     },
     "metadata": {
      "needs_background": "light"
     },
     "output_type": "display_data"
    }
   ],
   "source": [
    "plt.figure(figsize=(12,4))\n",
    "plt.subplot(1,2,1)\n",
    "sns.boxplot(x=DF_IIN_large['VBATT'])\n",
    "plt.title('La distribuzione di VBATT mentre IIN>100 mA')\n",
    "plt.subplot(1,2,2)\n",
    "sns.boxplot(x=DF_IIN_large['VOUT'])\n",
    "plt.title('La distribuzione di VOUT mentre IIN>100 mA')\n",
    "plt.figure(figsize=(12,4))\n",
    "plt.subplot(1,2,1)\n",
    "sns.boxplot(x=DF_IIN_large['POWER'])\n",
    "plt.title('La distribuzione di POWER mentre IIN>100 mA')\n",
    "plt.subplot(1,2,2)\n",
    "sns.boxplot(x=DF_IIN_large['IBATT'])\n",
    "plt.title('La distribuzione di IBATT mentre IIN>100 mA')"
   ]
  },
  {
   "cell_type": "code",
   "execution_count": 25,
   "metadata": {},
   "outputs": [
    {
     "data": {
      "text/plain": [
       "Text(0.5, 1.0, 'La distribuzione di IIN mentre IIN>100 mA')"
      ]
     },
     "execution_count": 25,
     "metadata": {},
     "output_type": "execute_result"
    },
    {
     "data": {
      "image/png": "[encoded data removed]",
      "text/plain": [
       "<Figure size 864x288 with 2 Axes>"
      ]
     },
     "metadata": {
      "needs_background": "light"
     },
     "output_type": "display_data"
    }
   ],
   "source": [
    "plt.figure(figsize=(12,4))\n",
    "plt.subplot(1,2,1)\n",
    "sns.boxplot(x=DF_IIN_large['VIN'])\n",
    "plt.title('La distribuzione di VIN mentre IIN>100 mA')\n",
    "plt.subplot(1,2,2)\n",
    "sns.boxplot(x=DF_IIN_large['IIN'])\n",
    "plt.title('La distribuzione di IIN mentre IIN>100 mA')"
   ]
  },
  {
   "cell_type": "markdown",
   "metadata": {},
   "source": [
    "La cella successiva rappresenta quando IIN>8000 mA, quali sono gli host che hanno avuto questa condizione"
   ]
  },
  {
   "cell_type": "code",
   "execution_count": 69,
   "metadata": {},
   "outputs": [
    {
     "data": {
      "text/html": [
       "<div>\n",
       "<style scoped>\n",
       "    .dataframe tbody tr th:only-of-type {\n",
       "        vertical-align: middle;\n",
       "    }\n",
       "\n",
       "    .dataframe tbody tr th {\n",
       "        vertical-align: top;\n",
       "    }\n",
       "\n",
       "    .dataframe thead th {\n",
       "        text-align: right;\n",
       "    }\n",
       "</style>\n",
       "<table border=\"1\" class=\"dataframe\">\n",
       "  <thead>\n",
       "    <tr style=\"text-align: right;\">\n",
       "      <th></th>\n",
       "      <th>DATE</th>\n",
       "      <th>VIN</th>\n",
       "      <th>IIN</th>\n",
       "      <th>VOUT</th>\n",
       "      <th>VBATT</th>\n",
       "      <th>IBATT</th>\n",
       "      <th>TEMP</th>\n",
       "      <th>CNT</th>\n",
       "      <th>POWER</th>\n",
       "      <th>time</th>\n",
       "      <th>date</th>\n",
       "      <th>host_id</th>\n",
       "    </tr>\n",
       "  </thead>\n",
       "  <tbody>\n",
       "    <tr>\n",
       "      <th>1559906</th>\n",
       "      <td>2020-11-01 19:32:22</td>\n",
       "      <td>24690</td>\n",
       "      <td>8254</td>\n",
       "      <td>26482</td>\n",
       "      <td>26470</td>\n",
       "      <td>692</td>\n",
       "      <td>255</td>\n",
       "      <td>516248</td>\n",
       "      <td>18317</td>\n",
       "      <td>19:32:22</td>\n",
       "      <td>2020-11-01</td>\n",
       "      <td>814U01M70613</td>\n",
       "    </tr>\n",
       "    <tr>\n",
       "      <th>1559987</th>\n",
       "      <td>2020-11-01 20:52:10</td>\n",
       "      <td>24676</td>\n",
       "      <td>9796</td>\n",
       "      <td>26482</td>\n",
       "      <td>26468</td>\n",
       "      <td>647</td>\n",
       "      <td>260</td>\n",
       "      <td>516329</td>\n",
       "      <td>17124</td>\n",
       "      <td>20:52:10</td>\n",
       "      <td>2020-11-01</td>\n",
       "      <td>814U01M70613</td>\n",
       "    </tr>\n",
       "  </tbody>\n",
       "</table>\n",
       "</div>"
      ],
      "text/plain": [
       "                        DATE    VIN   IIN   VOUT  VBATT  IBATT  TEMP     CNT  \\\n",
       "1559906  2020-11-01 19:32:22  24690  8254  26482  26470    692   255  516248   \n",
       "1559987  2020-11-01 20:52:10  24676  9796  26482  26468    647   260  516329   \n",
       "\n",
       "         POWER      time        date       host_id  \n",
       "1559906  18317  19:32:22  2020-11-01  814U01M70613  \n",
       "1559987  17124  20:52:10  2020-11-01  814U01M70613  "
      ]
     },
     "execution_count": 69,
     "metadata": {},
     "output_type": "execute_result"
    }
   ],
   "source": [
    "test=DF_IIN_large[DF_IIN_large.IIN>8000]\n",
    "test"
   ]
  },
  {
   "cell_type": "markdown",
   "metadata": {},
   "source": [
    "##### La cella successiva rappresenta quando VIN è 0 mentre IIN diverso da zero,  vogliamo chiedere se questi casi sono giusti o no?"
   ]
  },
  {
   "cell_type": "code",
   "execution_count": 29,
   "metadata": {},
   "outputs": [
    {
     "data": {
      "text/html": [
       "<div>\n",
       "<style scoped>\n",
       "    .dataframe tbody tr th:only-of-type {\n",
       "        vertical-align: middle;\n",
       "    }\n",
       "\n",
       "    .dataframe tbody tr th {\n",
       "        vertical-align: top;\n",
       "    }\n",
       "\n",
       "    .dataframe thead th {\n",
       "        text-align: right;\n",
       "    }\n",
       "</style>\n",
       "<table border=\"1\" class=\"dataframe\">\n",
       "  <thead>\n",
       "    <tr style=\"text-align: right;\">\n",
       "      <th></th>\n",
       "      <th>DATE</th>\n",
       "      <th>VIN</th>\n",
       "      <th>IIN</th>\n",
       "      <th>VOUT</th>\n",
       "      <th>VBATT</th>\n",
       "      <th>IBATT</th>\n",
       "      <th>TEMP</th>\n",
       "      <th>CNT</th>\n",
       "      <th>POWER</th>\n",
       "      <th>time</th>\n",
       "      <th>date</th>\n",
       "      <th>host_id</th>\n",
       "    </tr>\n",
       "  </thead>\n",
       "  <tbody>\n",
       "    <tr>\n",
       "      <th>135008</th>\n",
       "      <td>2020-10-31 11:06:55</td>\n",
       "      <td>0</td>\n",
       "      <td>614</td>\n",
       "      <td>29097</td>\n",
       "      <td>29138</td>\n",
       "      <td>545</td>\n",
       "      <td>285</td>\n",
       "      <td>6749</td>\n",
       "      <td>15880</td>\n",
       "      <td>11:06:55</td>\n",
       "      <td>2020-10-31</td>\n",
       "      <td>814U01M70180</td>\n",
       "    </tr>\n",
       "    <tr>\n",
       "      <th>342803</th>\n",
       "      <td>2020-10-31 08:12:34</td>\n",
       "      <td>0</td>\n",
       "      <td>743</td>\n",
       "      <td>29263</td>\n",
       "      <td>29142</td>\n",
       "      <td>684</td>\n",
       "      <td>300</td>\n",
       "      <td>150650</td>\n",
       "      <td>19262</td>\n",
       "      <td>08:12:34</td>\n",
       "      <td>2020-10-31</td>\n",
       "      <td>814U01M70410</td>\n",
       "    </tr>\n",
       "    <tr>\n",
       "      <th>426655</th>\n",
       "      <td>2020-10-31 07:22:06</td>\n",
       "      <td>0</td>\n",
       "      <td>636</td>\n",
       "      <td>28848</td>\n",
       "      <td>28970</td>\n",
       "      <td>556</td>\n",
       "      <td>245</td>\n",
       "      <td>355154</td>\n",
       "      <td>16107</td>\n",
       "      <td>07:22:06</td>\n",
       "      <td>2020-10-31</td>\n",
       "      <td>814U01M70492</td>\n",
       "    </tr>\n",
       "    <tr>\n",
       "      <th>1130909</th>\n",
       "      <td>2020-11-01 11:47:48</td>\n",
       "      <td>0</td>\n",
       "      <td>688</td>\n",
       "      <td>29097</td>\n",
       "      <td>29137</td>\n",
       "      <td>568</td>\n",
       "      <td>295</td>\n",
       "      <td>8204</td>\n",
       "      <td>16549</td>\n",
       "      <td>11:47:48</td>\n",
       "      <td>2020-11-01</td>\n",
       "      <td>814U01M70180</td>\n",
       "    </tr>\n",
       "    <tr>\n",
       "      <th>1130910</th>\n",
       "      <td>2020-11-01 11:48:47</td>\n",
       "      <td>0</td>\n",
       "      <td>635</td>\n",
       "      <td>29097</td>\n",
       "      <td>29136</td>\n",
       "      <td>627</td>\n",
       "      <td>295</td>\n",
       "      <td>8205</td>\n",
       "      <td>18268</td>\n",
       "      <td>11:48:47</td>\n",
       "      <td>2020-11-01</td>\n",
       "      <td>814U01M70180</td>\n",
       "    </tr>\n",
       "  </tbody>\n",
       "</table>\n",
       "</div>"
      ],
      "text/plain": [
       "                        DATE  VIN  IIN   VOUT  VBATT  IBATT  TEMP     CNT  \\\n",
       "135008   2020-10-31 11:06:55    0  614  29097  29138    545   285    6749   \n",
       "342803   2020-10-31 08:12:34    0  743  29263  29142    684   300  150650   \n",
       "426655   2020-10-31 07:22:06    0  636  28848  28970    556   245  355154   \n",
       "1130909  2020-11-01 11:47:48    0  688  29097  29137    568   295    8204   \n",
       "1130910  2020-11-01 11:48:47    0  635  29097  29136    627   295    8205   \n",
       "\n",
       "         POWER      time        date       host_id  \n",
       "135008   15880  11:06:55  2020-10-31  814U01M70180  \n",
       "342803   19262  08:12:34  2020-10-31  814U01M70410  \n",
       "426655   16107  07:22:06  2020-10-31  814U01M70492  \n",
       "1130909  16549  11:47:48  2020-11-01  814U01M70180  \n",
       "1130910  18268  11:48:47  2020-11-01  814U01M70180  "
      ]
     },
     "execution_count": 29,
     "metadata": {},
     "output_type": "execute_result"
    }
   ],
   "source": [
    "test=DF_IIN_large[DF_IIN_large.VIN==0]\n",
    "test.head(5)"
   ]
  },
  {
   "cell_type": "markdown",
   "metadata": {},
   "source": [
    "Gli host che hanno avuto questa condizione sono nella seguente cella "
   ]
  },
  {
   "cell_type": "code",
   "execution_count": 27,
   "metadata": {},
   "outputs": [
    {
     "data": {
      "text/plain": [
       "['814U01M70180',\n",
       " '814U01M70410',\n",
       " '814U01M70492',\n",
       " '814U01M70524',\n",
       " '814U01M70468',\n",
       " '814U01M70928',\n",
       " '814U01M70321',\n",
       " '814U01M70330']"
      ]
     },
     "execution_count": 27,
     "metadata": {},
     "output_type": "execute_result"
    }
   ],
   "source": [
    "c=[c for c in test.host_id.unique()]\n",
    "c"
   ]
  },
  {
   "cell_type": "markdown",
   "metadata": {},
   "source": [
    "### Studiando l'anomalia di VIN ==> se VIN meno di 24 e diverso di  zero && IIN>100 mA"
   ]
  },
  {
   "cell_type": "code",
   "execution_count": 32,
   "metadata": {},
   "outputs": [
    {
     "data": {
      "text/html": [
       "<div>\n",
       "<style scoped>\n",
       "    .dataframe tbody tr th:only-of-type {\n",
       "        vertical-align: middle;\n",
       "    }\n",
       "\n",
       "    .dataframe tbody tr th {\n",
       "        vertical-align: top;\n",
       "    }\n",
       "\n",
       "    .dataframe thead th {\n",
       "        text-align: right;\n",
       "    }\n",
       "</style>\n",
       "<table border=\"1\" class=\"dataframe\">\n",
       "  <thead>\n",
       "    <tr style=\"text-align: right;\">\n",
       "      <th></th>\n",
       "      <th>DATE</th>\n",
       "      <th>VIN</th>\n",
       "      <th>IIN</th>\n",
       "      <th>VOUT</th>\n",
       "      <th>VBATT</th>\n",
       "      <th>IBATT</th>\n",
       "      <th>TEMP</th>\n",
       "      <th>CNT</th>\n",
       "      <th>POWER</th>\n",
       "      <th>time</th>\n",
       "      <th>date</th>\n",
       "      <th>host_id</th>\n",
       "    </tr>\n",
       "  </thead>\n",
       "  <tbody>\n",
       "    <tr>\n",
       "      <th>1620515</th>\n",
       "      <td>2020-11-01 06:42:49</td>\n",
       "      <td>23591</td>\n",
       "      <td>7147</td>\n",
       "      <td>23245</td>\n",
       "      <td>23091</td>\n",
       "      <td>809</td>\n",
       "      <td>220</td>\n",
       "      <td>2</td>\n",
       "      <td>18680</td>\n",
       "      <td>06:42:49</td>\n",
       "      <td>2020-11-01</td>\n",
       "      <td>814U01M70674</td>\n",
       "    </tr>\n",
       "    <tr>\n",
       "      <th>2346729</th>\n",
       "      <td>2020-11-02 06:29:00</td>\n",
       "      <td>23242</td>\n",
       "      <td>7004</td>\n",
       "      <td>22829</td>\n",
       "      <td>22781</td>\n",
       "      <td>712</td>\n",
       "      <td>195</td>\n",
       "      <td>1</td>\n",
       "      <td>16220</td>\n",
       "      <td>06:29:00</td>\n",
       "      <td>2020-11-02</td>\n",
       "      <td>814U01M70401</td>\n",
       "    </tr>\n",
       "    <tr>\n",
       "      <th>2346730</th>\n",
       "      <td>2020-11-02 06:29:00</td>\n",
       "      <td>23753</td>\n",
       "      <td>6995</td>\n",
       "      <td>23369</td>\n",
       "      <td>23286</td>\n",
       "      <td>681</td>\n",
       "      <td>205</td>\n",
       "      <td>2</td>\n",
       "      <td>15857</td>\n",
       "      <td>06:29:00</td>\n",
       "      <td>2020-11-02</td>\n",
       "      <td>814U01M70401</td>\n",
       "    </tr>\n",
       "    <tr>\n",
       "      <th>5543544</th>\n",
       "      <td>2020-11-05 17:45:55</td>\n",
       "      <td>23833</td>\n",
       "      <td>7220</td>\n",
       "      <td>23369</td>\n",
       "      <td>23235</td>\n",
       "      <td>792</td>\n",
       "      <td>150</td>\n",
       "      <td>2</td>\n",
       "      <td>18402</td>\n",
       "      <td>17:45:55</td>\n",
       "      <td>2020-11-05</td>\n",
       "      <td>814U01M70600</td>\n",
       "    </tr>\n",
       "  </tbody>\n",
       "</table>\n",
       "</div>"
      ],
      "text/plain": [
       "                        DATE    VIN   IIN   VOUT  VBATT  IBATT  TEMP  CNT  \\\n",
       "1620515  2020-11-01 06:42:49  23591  7147  23245  23091    809   220    2   \n",
       "2346729  2020-11-02 06:29:00  23242  7004  22829  22781    712   195    1   \n",
       "2346730  2020-11-02 06:29:00  23753  6995  23369  23286    681   205    2   \n",
       "5543544  2020-11-05 17:45:55  23833  7220  23369  23235    792   150    2   \n",
       "\n",
       "         POWER      time        date       host_id  \n",
       "1620515  18680  06:42:49  2020-11-01  814U01M70674  \n",
       "2346729  16220  06:29:00  2020-11-02  814U01M70401  \n",
       "2346730  15857  06:29:00  2020-11-02  814U01M70401  \n",
       "5543544  18402  17:45:55  2020-11-05  814U01M70600  "
      ]
     },
     "execution_count": 32,
     "metadata": {},
     "output_type": "execute_result"
    }
   ],
   "source": [
    "DF_IIN_large_less24=DF_IIN_large[(DF_IIN_large.VIN<24000)&(DF_IIN_large.VIN>0)]\n",
    "DF_IIN_large_less24 #"
   ]
  },
  {
   "cell_type": "markdown",
   "metadata": {},
   "source": [
    "è chiaro che VBATT e VOUT sono sempre stati 23 V per i 4 casi "
   ]
  },
  {
   "cell_type": "code",
   "execution_count": 33,
   "metadata": {},
   "outputs": [
    {
     "data": {
      "text/plain": [
       "['814U01M70674', '814U01M70401', '814U01M70600']"
      ]
     },
     "execution_count": 33,
     "metadata": {},
     "output_type": "execute_result"
    }
   ],
   "source": [
    "c=[c for c in DF_IIN_large_less24.host_id.unique()]\n",
    "c"
   ]
  },
  {
   "cell_type": "markdown",
   "metadata": {},
   "source": [
    "### Studiando i casi quando VIN: meno di 24 e superiore à 0 su tutto il dataset "
   ]
  },
  {
   "cell_type": "code",
   "execution_count": 34,
   "metadata": {},
   "outputs": [
    {
     "data": {
      "text/html": [
       "<div>\n",
       "<style scoped>\n",
       "    .dataframe tbody tr th:only-of-type {\n",
       "        vertical-align: middle;\n",
       "    }\n",
       "\n",
       "    .dataframe tbody tr th {\n",
       "        vertical-align: top;\n",
       "    }\n",
       "\n",
       "    .dataframe thead th {\n",
       "        text-align: right;\n",
       "    }\n",
       "</style>\n",
       "<table border=\"1\" class=\"dataframe\">\n",
       "  <thead>\n",
       "    <tr style=\"text-align: right;\">\n",
       "      <th></th>\n",
       "      <th>VIN</th>\n",
       "      <th>IIN</th>\n",
       "      <th>VOUT</th>\n",
       "      <th>VBATT</th>\n",
       "      <th>IBATT</th>\n",
       "      <th>TEMP</th>\n",
       "      <th>POWER</th>\n",
       "      <th>time</th>\n",
       "      <th>date</th>\n",
       "      <th>host_id</th>\n",
       "    </tr>\n",
       "  </thead>\n",
       "  <tbody>\n",
       "    <tr>\n",
       "      <th>1910</th>\n",
       "      <td>13538</td>\n",
       "      <td>-14</td>\n",
       "      <td>28682</td>\n",
       "      <td>28918</td>\n",
       "      <td>546</td>\n",
       "      <td>225</td>\n",
       "      <td>15789</td>\n",
       "      <td>07:25:33</td>\n",
       "      <td>2020-10-31</td>\n",
       "      <td>814U01M70009</td>\n",
       "    </tr>\n",
       "    <tr>\n",
       "      <th>4835</th>\n",
       "      <td>8482</td>\n",
       "      <td>-12</td>\n",
       "      <td>28682</td>\n",
       "      <td>28817</td>\n",
       "      <td>713</td>\n",
       "      <td>240</td>\n",
       "      <td>20546</td>\n",
       "      <td>07:36:21</td>\n",
       "      <td>2020-10-31</td>\n",
       "      <td>814U01M700106</td>\n",
       "    </tr>\n",
       "    <tr>\n",
       "      <th>9196</th>\n",
       "      <td>14920</td>\n",
       "      <td>-14</td>\n",
       "      <td>28973</td>\n",
       "      <td>28870</td>\n",
       "      <td>591</td>\n",
       "      <td>230</td>\n",
       "      <td>17062</td>\n",
       "      <td>07:15:44</td>\n",
       "      <td>2020-10-31</td>\n",
       "      <td>814U01M700118</td>\n",
       "    </tr>\n",
       "    <tr>\n",
       "      <th>10680</th>\n",
       "      <td>23398</td>\n",
       "      <td>-12</td>\n",
       "      <td>28765</td>\n",
       "      <td>28946</td>\n",
       "      <td>543</td>\n",
       "      <td>235</td>\n",
       "      <td>15717</td>\n",
       "      <td>07:38:02</td>\n",
       "      <td>2020-10-31</td>\n",
       "      <td>814U01M700119</td>\n",
       "    </tr>\n",
       "    <tr>\n",
       "      <th>12117</th>\n",
       "      <td>21543</td>\n",
       "      <td>-13</td>\n",
       "      <td>29097</td>\n",
       "      <td>29007</td>\n",
       "      <td>572</td>\n",
       "      <td>250</td>\n",
       "      <td>16592</td>\n",
       "      <td>07:17:10</td>\n",
       "      <td>2020-10-31</td>\n",
       "      <td>814U01M70012</td>\n",
       "    </tr>\n",
       "    <tr>\n",
       "      <th>...</th>\n",
       "      <td>...</td>\n",
       "      <td>...</td>\n",
       "      <td>...</td>\n",
       "      <td>...</td>\n",
       "      <td>...</td>\n",
       "      <td>...</td>\n",
       "      <td>...</td>\n",
       "      <td>...</td>\n",
       "      <td>...</td>\n",
       "      <td>...</td>\n",
       "    </tr>\n",
       "    <tr>\n",
       "      <th>5952210</th>\n",
       "      <td>19548</td>\n",
       "      <td>-14</td>\n",
       "      <td>28890</td>\n",
       "      <td>28923</td>\n",
       "      <td>532</td>\n",
       "      <td>160</td>\n",
       "      <td>15387</td>\n",
       "      <td>07:31:02</td>\n",
       "      <td>2020-11-05</td>\n",
       "      <td>814U01M71063</td>\n",
       "    </tr>\n",
       "    <tr>\n",
       "      <th>5972689</th>\n",
       "      <td>6883</td>\n",
       "      <td>-14</td>\n",
       "      <td>28931</td>\n",
       "      <td>28856</td>\n",
       "      <td>560</td>\n",
       "      <td>165</td>\n",
       "      <td>16159</td>\n",
       "      <td>07:32:48</td>\n",
       "      <td>2020-11-05</td>\n",
       "      <td>814U01M71114</td>\n",
       "    </tr>\n",
       "    <tr>\n",
       "      <th>5988809</th>\n",
       "      <td>16305</td>\n",
       "      <td>-14</td>\n",
       "      <td>29180</td>\n",
       "      <td>28866</td>\n",
       "      <td>708</td>\n",
       "      <td>160</td>\n",
       "      <td>20437</td>\n",
       "      <td>07:38:18</td>\n",
       "      <td>2020-11-05</td>\n",
       "      <td>814U01M71136</td>\n",
       "    </tr>\n",
       "    <tr>\n",
       "      <th>6000513</th>\n",
       "      <td>21400</td>\n",
       "      <td>-14</td>\n",
       "      <td>29222</td>\n",
       "      <td>28933</td>\n",
       "      <td>577</td>\n",
       "      <td>175</td>\n",
       "      <td>16694</td>\n",
       "      <td>07:44:35</td>\n",
       "      <td>2020-11-05</td>\n",
       "      <td>814U01M71145</td>\n",
       "    </tr>\n",
       "    <tr>\n",
       "      <th>6001966</th>\n",
       "      <td>14455</td>\n",
       "      <td>-13</td>\n",
       "      <td>29014</td>\n",
       "      <td>28835</td>\n",
       "      <td>548</td>\n",
       "      <td>155</td>\n",
       "      <td>15801</td>\n",
       "      <td>07:36:05</td>\n",
       "      <td>2020-11-05</td>\n",
       "      <td>814U01M71146</td>\n",
       "    </tr>\n",
       "  </tbody>\n",
       "</table>\n",
       "<p>939 rows × 10 columns</p>\n",
       "</div>"
      ],
      "text/plain": [
       "           VIN  IIN   VOUT  VBATT  IBATT  TEMP  POWER      time        date  \\\n",
       "1910     13538  -14  28682  28918    546   225  15789  07:25:33  2020-10-31   \n",
       "4835      8482  -12  28682  28817    713   240  20546  07:36:21  2020-10-31   \n",
       "9196     14920  -14  28973  28870    591   230  17062  07:15:44  2020-10-31   \n",
       "10680    23398  -12  28765  28946    543   235  15717  07:38:02  2020-10-31   \n",
       "12117    21543  -13  29097  29007    572   250  16592  07:17:10  2020-10-31   \n",
       "...        ...  ...    ...    ...    ...   ...    ...       ...         ...   \n",
       "5952210  19548  -14  28890  28923    532   160  15387  07:31:02  2020-11-05   \n",
       "5972689   6883  -14  28931  28856    560   165  16159  07:32:48  2020-11-05   \n",
       "5988809  16305  -14  29180  28866    708   160  20437  07:38:18  2020-11-05   \n",
       "6000513  21400  -14  29222  28933    577   175  16694  07:44:35  2020-11-05   \n",
       "6001966  14455  -13  29014  28835    548   155  15801  07:36:05  2020-11-05   \n",
       "\n",
       "               host_id  \n",
       "1910      814U01M70009  \n",
       "4835     814U01M700106  \n",
       "9196     814U01M700118  \n",
       "10680    814U01M700119  \n",
       "12117     814U01M70012  \n",
       "...                ...  \n",
       "5952210   814U01M71063  \n",
       "5972689   814U01M71114  \n",
       "5988809   814U01M71136  \n",
       "6000513   814U01M71145  \n",
       "6001966   814U01M71146  \n",
       "\n",
       "[939 rows x 10 columns]"
      ]
     },
     "execution_count": 34,
     "metadata": {},
     "output_type": "execute_result"
    }
   ],
   "source": [
    "tot_less24=my_Data[(my_Data.VIN<24000) & (my_Data.VIN>0)]\n",
    "tot_less24=tot_less24[['VIN','IIN','VOUT','VBATT','IBATT','TEMP','POWER','time','date','host_id']]\n",
    "tot_less24"
   ]
  },
  {
   "cell_type": "markdown",
   "metadata": {},
   "source": [
    "Studiando la distribuzione dei valori di : VBATT, VOUT, POWER e IBATT quando la corrente d'ingresso lato caricabatteria è superiore à 100 mA è la tensione di ingresso: 0< VIN < 24V. I punti indicano le ouliers invece il box blu indica la distirbuzione normale. Si veda nella cella successiva"
   ]
  },
  {
   "cell_type": "code",
   "execution_count": 35,
   "metadata": {},
   "outputs": [
    {
     "data": {
      "image/png": "[encoded data removed]",
      "text/plain": [
       "<Figure size 864x288 with 2 Axes>"
      ]
     },
     "metadata": {
      "needs_background": "light"
     },
     "output_type": "display_data"
    },
    {
     "data": {
      "image/png": "[encoded data removed]",
      "text/plain": [
       "<Figure size 864x288 with 2 Axes>"
      ]
     },
     "metadata": {
      "needs_background": "light"
     },
     "output_type": "display_data"
    }
   ],
   "source": [
    "plt.figure(figsize=(12,4))\n",
    "plt.subplot(1,2,1)\n",
    "sns.boxplot(x=tot_less24['VBATT'])\n",
    "plt.title('Distribuzione di VBATT : IIN>100 mA e 0< VIN< 24V ')\n",
    "plt.subplot(1,2,2)\n",
    "sns.boxplot(x=tot_less24['VOUT'])\n",
    "plt.title('Distribuzione di VOUT : IIN>100 mA e 0< VIN< 24V ')\n",
    "plt.figure(figsize=(12,4))\n",
    "plt.subplot(1,2,1)\n",
    "sns.boxplot(x=tot_less24['POWER'])\n",
    "plt.title('Distribuzione di POWER : IIN>100 mA e 0< VIN< 24V ')\n",
    "fig.subplots_adjust(hspace=1.5)\n",
    "plt.subplot(1,2,2)\n",
    "sns.boxplot(x=tot_less24['IBATT'])\n",
    "plt.title('Distribuzione di IBATT : IIN>100 mA e 0< VIN< 24V ')\n",
    "plt.show()"
   ]
  },
  {
   "cell_type": "code",
   "execution_count": 36,
   "metadata": {},
   "outputs": [
    {
     "data": {
      "text/plain": [
       "Text(0.5, 1.0, 'Distribuzione di IIN : IIN>100 mA e 0< VIN< 24V')"
      ]
     },
     "execution_count": 36,
     "metadata": {},
     "output_type": "execute_result"
    },
    {
     "data": {
      "image/png": "[encoded data removed]",
      "text/plain": [
       "<Figure size 864x288 with 2 Axes>"
      ]
     },
     "metadata": {
      "needs_background": "light"
     },
     "output_type": "display_data"
    }
   ],
   "source": [
    "plt.figure(figsize=(12,4))\n",
    "plt.subplot(1,2,1)\n",
    "sns.boxplot(x=tot_less24['VIN'])\n",
    "plt.title('Distribuzione di VIN : IIN>100 mA e 0< VIN< 24V')\n",
    "plt.subplot(1,2,2)\n",
    "sns.boxplot(x=tot_less24['IIN'])\n",
    "plt.title('Distribuzione di IIN : IIN>100 mA e 0< VIN< 24V')"
   ]
  },
  {
   "cell_type": "markdown",
   "metadata": {},
   "source": [
    "Il numero degli host che hanno avuto IIN>100 mA e 0< VIN< 24V  nel nostro Master Tabel sono 514 su 743"
   ]
  },
  {
   "cell_type": "code",
   "execution_count": 70,
   "metadata": {},
   "outputs": [
    {
     "data": {
      "text/plain": [
       "514"
      ]
     },
     "execution_count": 70,
     "metadata": {},
     "output_type": "execute_result"
    }
   ],
   "source": [
    "c=[c for c in tot_less24.host_id.unique()]\n",
    "len(c)"
   ]
  },
  {
   "cell_type": "markdown",
   "metadata": {},
   "source": [
    "### Studiando la durata della carica della batteria per ogni dispositivo \n"
   ]
  },
  {
   "cell_type": "markdown",
   "metadata": {},
   "source": [
    "Abbiamo selezionato quando IIN è stata superiore a 5500 : perchè sapiamo che per la curva ideale IIN deve raggiungere il valore 7000 mA solo quando l'illuminazione pubblica viene accesa, quindi alle 17:00"
   ]
  },
  {
   "cell_type": "code",
   "execution_count": 43,
   "metadata": {},
   "outputs": [
    {
     "data": {
      "text/html": [
       "<div>\n",
       "<style scoped>\n",
       "    .dataframe tbody tr th:only-of-type {\n",
       "        vertical-align: middle;\n",
       "    }\n",
       "\n",
       "    .dataframe tbody tr th {\n",
       "        vertical-align: top;\n",
       "    }\n",
       "\n",
       "    .dataframe thead th {\n",
       "        text-align: right;\n",
       "    }\n",
       "</style>\n",
       "<table border=\"1\" class=\"dataframe\">\n",
       "  <thead>\n",
       "    <tr style=\"text-align: right;\">\n",
       "      <th></th>\n",
       "      <th>DATE</th>\n",
       "      <th>VIN</th>\n",
       "      <th>IIN</th>\n",
       "      <th>VOUT</th>\n",
       "      <th>VBATT</th>\n",
       "      <th>IBATT</th>\n",
       "      <th>TEMP</th>\n",
       "      <th>CNT</th>\n",
       "      <th>POWER</th>\n",
       "      <th>time</th>\n",
       "      <th>date</th>\n",
       "      <th>host_id</th>\n",
       "    </tr>\n",
       "  </thead>\n",
       "  <tbody>\n",
       "    <tr>\n",
       "      <th>0</th>\n",
       "      <td>2020-10-31 17:37:15</td>\n",
       "      <td>27552</td>\n",
       "      <td>7007</td>\n",
       "      <td>27063</td>\n",
       "      <td>27031</td>\n",
       "      <td>582</td>\n",
       "      <td>225</td>\n",
       "      <td>13568</td>\n",
       "      <td>15732</td>\n",
       "      <td>17:37:15</td>\n",
       "      <td>2020-10-31</td>\n",
       "      <td>814U01M70006</td>\n",
       "    </tr>\n",
       "    <tr>\n",
       "      <th>1</th>\n",
       "      <td>2020-10-31 17:38:14</td>\n",
       "      <td>27820</td>\n",
       "      <td>6995</td>\n",
       "      <td>27312</td>\n",
       "      <td>27288</td>\n",
       "      <td>604</td>\n",
       "      <td>230</td>\n",
       "      <td>13569</td>\n",
       "      <td>16481</td>\n",
       "      <td>17:38:14</td>\n",
       "      <td>2020-10-31</td>\n",
       "      <td>814U01M70006</td>\n",
       "    </tr>\n",
       "    <tr>\n",
       "      <th>2</th>\n",
       "      <td>2020-10-31 17:39:14</td>\n",
       "      <td>27898</td>\n",
       "      <td>6978</td>\n",
       "      <td>27395</td>\n",
       "      <td>27363</td>\n",
       "      <td>734</td>\n",
       "      <td>235</td>\n",
       "      <td>13570</td>\n",
       "      <td>20084</td>\n",
       "      <td>17:39:14</td>\n",
       "      <td>2020-10-31</td>\n",
       "      <td>814U01M70006</td>\n",
       "    </tr>\n",
       "    <tr>\n",
       "      <th>3</th>\n",
       "      <td>2020-10-31 17:40:13</td>\n",
       "      <td>27923</td>\n",
       "      <td>6974</td>\n",
       "      <td>27437</td>\n",
       "      <td>27390</td>\n",
       "      <td>715</td>\n",
       "      <td>240</td>\n",
       "      <td>13571</td>\n",
       "      <td>19583</td>\n",
       "      <td>17:40:13</td>\n",
       "      <td>2020-10-31</td>\n",
       "      <td>814U01M70006</td>\n",
       "    </tr>\n",
       "    <tr>\n",
       "      <th>4</th>\n",
       "      <td>2020-10-31 17:41:12</td>\n",
       "      <td>27928</td>\n",
       "      <td>7008</td>\n",
       "      <td>27437</td>\n",
       "      <td>27385</td>\n",
       "      <td>621</td>\n",
       "      <td>245</td>\n",
       "      <td>13572</td>\n",
       "      <td>17006</td>\n",
       "      <td>17:41:12</td>\n",
       "      <td>2020-10-31</td>\n",
       "      <td>814U01M70006</td>\n",
       "    </tr>\n",
       "    <tr>\n",
       "      <th>...</th>\n",
       "      <td>...</td>\n",
       "      <td>...</td>\n",
       "      <td>...</td>\n",
       "      <td>...</td>\n",
       "      <td>...</td>\n",
       "      <td>...</td>\n",
       "      <td>...</td>\n",
       "      <td>...</td>\n",
       "      <td>...</td>\n",
       "      <td>...</td>\n",
       "      <td>...</td>\n",
       "      <td>...</td>\n",
       "    </tr>\n",
       "    <tr>\n",
       "      <th>322785</th>\n",
       "      <td>2020-11-05 18:28:36</td>\n",
       "      <td>28216</td>\n",
       "      <td>7093</td>\n",
       "      <td>27894</td>\n",
       "      <td>27726</td>\n",
       "      <td>683</td>\n",
       "      <td>260</td>\n",
       "      <td>15131</td>\n",
       "      <td>18936</td>\n",
       "      <td>18:28:36</td>\n",
       "      <td>2020-11-05</td>\n",
       "      <td>814U01M71146</td>\n",
       "    </tr>\n",
       "    <tr>\n",
       "      <th>322786</th>\n",
       "      <td>2020-11-05 18:29:35</td>\n",
       "      <td>28300</td>\n",
       "      <td>7183</td>\n",
       "      <td>27977</td>\n",
       "      <td>27808</td>\n",
       "      <td>635</td>\n",
       "      <td>260</td>\n",
       "      <td>15132</td>\n",
       "      <td>17658</td>\n",
       "      <td>18:29:35</td>\n",
       "      <td>2020-11-05</td>\n",
       "      <td>814U01M71146</td>\n",
       "    </tr>\n",
       "    <tr>\n",
       "      <th>322787</th>\n",
       "      <td>2020-11-05 18:30:34</td>\n",
       "      <td>28386</td>\n",
       "      <td>6987</td>\n",
       "      <td>28060</td>\n",
       "      <td>27908</td>\n",
       "      <td>582</td>\n",
       "      <td>265</td>\n",
       "      <td>15133</td>\n",
       "      <td>16242</td>\n",
       "      <td>18:30:34</td>\n",
       "      <td>2020-11-05</td>\n",
       "      <td>814U01M71146</td>\n",
       "    </tr>\n",
       "    <tr>\n",
       "      <th>322788</th>\n",
       "      <td>2020-11-05 18:31:34</td>\n",
       "      <td>28556</td>\n",
       "      <td>7109</td>\n",
       "      <td>28267</td>\n",
       "      <td>28083</td>\n",
       "      <td>597</td>\n",
       "      <td>265</td>\n",
       "      <td>15134</td>\n",
       "      <td>16765</td>\n",
       "      <td>18:31:34</td>\n",
       "      <td>2020-11-05</td>\n",
       "      <td>814U01M71146</td>\n",
       "    </tr>\n",
       "    <tr>\n",
       "      <th>322789</th>\n",
       "      <td>2020-11-05 18:32:33</td>\n",
       "      <td>28923</td>\n",
       "      <td>7090</td>\n",
       "      <td>28599</td>\n",
       "      <td>28430</td>\n",
       "      <td>595</td>\n",
       "      <td>265</td>\n",
       "      <td>15135</td>\n",
       "      <td>16915</td>\n",
       "      <td>18:32:33</td>\n",
       "      <td>2020-11-05</td>\n",
       "      <td>814U01M71146</td>\n",
       "    </tr>\n",
       "  </tbody>\n",
       "</table>\n",
       "<p>322790 rows × 12 columns</p>\n",
       "</div>"
      ],
      "text/plain": [
       "                       DATE    VIN   IIN   VOUT  VBATT  IBATT  TEMP    CNT  \\\n",
       "0       2020-10-31 17:37:15  27552  7007  27063  27031    582   225  13568   \n",
       "1       2020-10-31 17:38:14  27820  6995  27312  27288    604   230  13569   \n",
       "2       2020-10-31 17:39:14  27898  6978  27395  27363    734   235  13570   \n",
       "3       2020-10-31 17:40:13  27923  6974  27437  27390    715   240  13571   \n",
       "4       2020-10-31 17:41:12  27928  7008  27437  27385    621   245  13572   \n",
       "...                     ...    ...   ...    ...    ...    ...   ...    ...   \n",
       "322785  2020-11-05 18:28:36  28216  7093  27894  27726    683   260  15131   \n",
       "322786  2020-11-05 18:29:35  28300  7183  27977  27808    635   260  15132   \n",
       "322787  2020-11-05 18:30:34  28386  6987  28060  27908    582   265  15133   \n",
       "322788  2020-11-05 18:31:34  28556  7109  28267  28083    597   265  15134   \n",
       "322789  2020-11-05 18:32:33  28923  7090  28599  28430    595   265  15135   \n",
       "\n",
       "        POWER      time        date       host_id  \n",
       "0       15732  17:37:15  2020-10-31  814U01M70006  \n",
       "1       16481  17:38:14  2020-10-31  814U01M70006  \n",
       "2       20084  17:39:14  2020-10-31  814U01M70006  \n",
       "3       19583  17:40:13  2020-10-31  814U01M70006  \n",
       "4       17006  17:41:12  2020-10-31  814U01M70006  \n",
       "...       ...       ...         ...           ...  \n",
       "322785  18936  18:28:36  2020-11-05  814U01M71146  \n",
       "322786  17658  18:29:35  2020-11-05  814U01M71146  \n",
       "322787  16242  18:30:34  2020-11-05  814U01M71146  \n",
       "322788  16765  18:31:34  2020-11-05  814U01M71146  \n",
       "322789  16915  18:32:33  2020-11-05  814U01M71146  \n",
       "\n",
       "[322790 rows x 12 columns]"
      ]
     },
     "execution_count": 43,
     "metadata": {},
     "output_type": "execute_result"
    }
   ],
   "source": [
    "Col=['DATE', 'VIN','IIN', 'VOUT',  'VBATT',  'IBATT',  'TEMP',  'CNT',  'POWER',  'time',  'date',  'host_id']\n",
    "DF_IIN_7000=my_Data[my_Data.IIN>6000]\n",
    "DF_IIN_7000=DF_IIN_7000[Col]\n",
    "DF_IIN_7000=DF_IIN_7000.reset_index(drop=True)\n",
    "DF_IIN_7000"
   ]
  },
  {
   "cell_type": "markdown",
   "metadata": {},
   "source": [
    "##### Studiando la correlazione abbiamo trovato che quando IIN>7000 mA : solo IBATT e POWER sono correlati positivamente con la temperatura. Nella cella successiva vediamo la matrice di correlazione "
   ]
  },
  {
   "cell_type": "code",
   "execution_count": 41,
   "metadata": {},
   "outputs": [
    {
     "data": {
      "text/plain": [
       "<AxesSubplot:title={'center':'IIN>5500 mA'}>"
      ]
     },
     "execution_count": 41,
     "metadata": {},
     "output_type": "execute_result"
    },
    {
     "data": {
      "image/png": "[encoded data removed]",
      "text/plain": [
       "<Figure size 576x576 with 2 Axes>"
      ]
     },
     "metadata": {
      "needs_background": "light"
     },
     "output_type": "display_data"
    }
   ],
   "source": [
    "# master_table correlation matrix \n",
    "# calculate the correlation matrix\n",
    "corr_7000 = DF_IIN_7000.corr()\n",
    "# plot the heatmap\n",
    "fig, ax = plt.subplots(figsize=(8,8)) \n",
    "ax.set_title('IIN>5500 mA')\n",
    "sns.heatmap(corr_7000, \n",
    "        xticklabels=corr_7000.columns,\n",
    "        yticklabels=corr_7000.columns, annot=True, cmap= 'Blues',ax=ax)"
   ]
  },
  {
   "cell_type": "markdown",
   "metadata": {},
   "source": [
    "Studiando la distribuzione dei valori di : VBATT, VOUT, POWER e IBATT quando la corrente d'ingresso lato caricabatteria è superiore à 7000 mA. I punti indicano le ouliers invece il box blu indica la distirbuzione normale. Si veda nella cella successiva"
   ]
  },
  {
   "cell_type": "code",
   "execution_count": 71,
   "metadata": {},
   "outputs": [
    {
     "data": {
      "text/plain": [
       "Text(0.5, 1.0, 'Distribuzione di IBATT mentre IIN>6000 mA')"
      ]
     },
     "execution_count": 71,
     "metadata": {},
     "output_type": "execute_result"
    },
    {
     "data": {
      "image/png": "[encoded data removed]",
      "text/plain": [
       "<Figure size 864x288 with 2 Axes>"
      ]
     },
     "metadata": {
      "needs_background": "light"
     },
     "output_type": "display_data"
    },
    {
     "data": {
      "image/png": "[encoded data removed]",
      "text/plain": [
       "<Figure size 864x288 with 2 Axes>"
      ]
     },
     "metadata": {
      "needs_background": "light"
     },
     "output_type": "display_data"
    }
   ],
   "source": [
    "plt.figure(figsize=(12,4))\n",
    "plt.subplot(1,2,1)\n",
    "sns.boxplot(x=DF_IIN_7000['VBATT'])\n",
    "plt.title('Distribuzione di VBATT mentre IIN>6000 mA')\n",
    "plt.subplot(1,2,2)\n",
    "sns.boxplot(x=DF_IIN_7000['VOUT'])\n",
    "plt.title('Distribuzione di VOUT mentre IIN>6000 mA')\n",
    "plt.figure(figsize=(12,4))\n",
    "plt.subplot(1,2,1)\n",
    "sns.boxplot(x=DF_IIN_7000['POWER'])\n",
    "plt.title('Distribuzione di POWER mentre IIN>6000 mA')\n",
    "plt.subplot(1,2,2)\n",
    "sns.boxplot(x=DF_IIN_7000['IBATT'])\n",
    "plt.title('Distribuzione di IBATT mentre IIN>6000 mA')"
   ]
  },
  {
   "cell_type": "markdown",
   "metadata": {},
   "source": [
    "Studiando la distribuzione dei valori di : VIN, IIN e TEMP quando la corrente d'ingresso lato caricabatteria è superiore à 7000 mA. I punti indicano le ouliers invece il box blu indica la distirbuzione normale. Si veda nella cella successiva"
   ]
  },
  {
   "cell_type": "code",
   "execution_count": 72,
   "metadata": {},
   "outputs": [
    {
     "data": {
      "text/plain": [
       "Text(0.5, 1.0, 'Distribuzione di TEMP mentre IIN>6000 mA')"
      ]
     },
     "execution_count": 72,
     "metadata": {},
     "output_type": "execute_result"
    },
    {
     "data": {
      "image/png": "[encoded data removed]",
      "text/plain": [
       "<Figure size 1080x288 with 3 Axes>"
      ]
     },
     "metadata": {
      "needs_background": "light"
     },
     "output_type": "display_data"
    }
   ],
   "source": [
    "plt.figure(figsize=(15,4))\n",
    "plt.subplot(1,3,1)\n",
    "ax =sns.boxplot(x=DF_IIN_7000['VIN'])\n",
    "plt.title('Distribuzione di VIN mentre IIN>6000 mA')\n",
    "plt.subplot(1,3,2)\n",
    "ax =sns.boxplot(x=DF_IIN_7000['IIN'])\n",
    "plt.title('Distribuzione di IIN mentre IIN>6000 mA')\n",
    "plt.subplot(1,3,3)\n",
    "ax =sns.boxplot(x=DF_IIN_7000['TEMP'])\n",
    "plt.title('Distribuzione di TEMP mentre IIN>6000 mA')"
   ]
  },
  {
   "cell_type": "code",
   "execution_count": 84,
   "metadata": {},
   "outputs": [
    {
     "data": {
      "text/html": [
       "<div>\n",
       "<style scoped>\n",
       "    .dataframe tbody tr th:only-of-type {\n",
       "        vertical-align: middle;\n",
       "    }\n",
       "\n",
       "    .dataframe tbody tr th {\n",
       "        vertical-align: top;\n",
       "    }\n",
       "\n",
       "    .dataframe thead th {\n",
       "        text-align: right;\n",
       "    }\n",
       "</style>\n",
       "<table border=\"1\" class=\"dataframe\">\n",
       "  <thead>\n",
       "    <tr style=\"text-align: right;\">\n",
       "      <th></th>\n",
       "      <th>DATE</th>\n",
       "      <th>VIN</th>\n",
       "      <th>IIN</th>\n",
       "      <th>VOUT</th>\n",
       "      <th>VBATT</th>\n",
       "      <th>IBATT</th>\n",
       "      <th>TEMP</th>\n",
       "      <th>CNT</th>\n",
       "      <th>POWER</th>\n",
       "      <th>time</th>\n",
       "      <th>date</th>\n",
       "      <th>host_id</th>\n",
       "      <th>time_sec</th>\n",
       "    </tr>\n",
       "  </thead>\n",
       "  <tbody>\n",
       "    <tr>\n",
       "      <th>84889</th>\n",
       "      <td>2020-11-01 19:32:22</td>\n",
       "      <td>24690</td>\n",
       "      <td>8254</td>\n",
       "      <td>26482</td>\n",
       "      <td>26470</td>\n",
       "      <td>692</td>\n",
       "      <td>255</td>\n",
       "      <td>516248</td>\n",
       "      <td>18317</td>\n",
       "      <td>19:32:22</td>\n",
       "      <td>2020-11-01</td>\n",
       "      <td>814U01M70613</td>\n",
       "      <td>70342</td>\n",
       "    </tr>\n",
       "    <tr>\n",
       "      <th>84895</th>\n",
       "      <td>2020-11-01 20:52:10</td>\n",
       "      <td>24676</td>\n",
       "      <td>9796</td>\n",
       "      <td>26482</td>\n",
       "      <td>26468</td>\n",
       "      <td>647</td>\n",
       "      <td>260</td>\n",
       "      <td>516329</td>\n",
       "      <td>17124</td>\n",
       "      <td>20:52:10</td>\n",
       "      <td>2020-11-01</td>\n",
       "      <td>814U01M70613</td>\n",
       "      <td>75130</td>\n",
       "    </tr>\n",
       "  </tbody>\n",
       "</table>\n",
       "</div>"
      ],
      "text/plain": [
       "                      DATE    VIN   IIN   VOUT  VBATT  IBATT  TEMP     CNT  \\\n",
       "84889  2020-11-01 19:32:22  24690  8254  26482  26470    692   255  516248   \n",
       "84895  2020-11-01 20:52:10  24676  9796  26482  26468    647   260  516329   \n",
       "\n",
       "       POWER      time        date       host_id  time_sec  \n",
       "84889  18317  19:32:22  2020-11-01  814U01M70613     70342  \n",
       "84895  17124  20:52:10  2020-11-01  814U01M70613     75130  "
      ]
     },
     "execution_count": 84,
     "metadata": {},
     "output_type": "execute_result"
    }
   ],
   "source": [
    "test=DF_IIN_7000[DF_IIN_7000.IIN>8000]\n",
    "test"
   ]
  },
  {
   "cell_type": "code",
   "execution_count": null,
   "metadata": {},
   "outputs": [],
   "source": [
    "# plt.figure(figsize=(15,4))\n",
    "# plt.subplot(1,3,1)\n",
    "# ax =sns.boxplot(x=DF_IIN_7000['date'], y=DF_IIN_7000['VIN'])\n",
    "# ax.set_xticklabels(list_date, rotation=30)\n",
    "# plt.subplot(1,3,2)\n",
    "# ax =sns.boxplot(x=DF_IIN_7000['date'], y=DF_IIN_7000['IIN'])\n",
    "# ax.set_xticklabels(list_date, rotation=30)\n",
    "# plt.subplot(1,3,3)\n",
    "# ax =sns.boxplot(x=DF_IIN_7000['date'], y=DF_IIN_7000['TEMP'])\n",
    "# ax.set_xticklabels(list_date, rotation=30)"
   ]
  },
  {
   "cell_type": "code",
   "execution_count": 44,
   "metadata": {},
   "outputs": [
    {
     "data": {
      "text/plain": [
       "[Text(0, 0, '2020-10-31'),\n",
       " Text(1, 0, '2020-11-01'),\n",
       " Text(2, 0, '2020-11-02'),\n",
       " Text(3, 0, '2020-11-03'),\n",
       " Text(4, 0, '2020-11-04'),\n",
       " Text(5, 0, '2020-11-05')]"
      ]
     },
     "execution_count": 44,
     "metadata": {},
     "output_type": "execute_result"
    },
    {
     "data": {
      "image/png": "[encoded data removed]",
      "text/plain": [
       "<Figure size 432x288 with 1 Axes>"
      ]
     },
     "metadata": {
      "needs_background": "light"
     },
     "output_type": "display_data"
    }
   ],
   "source": [
    "ax = sns.boxplot(x=DF_IIN_7000['date'], y=DF_IIN_7000['TEMP'])\n",
    "ax.set_xticklabels(list_date, rotation=30)"
   ]
  },
  {
   "cell_type": "code",
   "execution_count": null,
   "metadata": {},
   "outputs": [],
   "source": [
    "# ax = sns.boxplot(x=DF_IIN_7000['date'], y=DF_IIN_7000['IIN'])\n",
    "# ax.set_xticklabels(list_date, rotation=30)"
   ]
  },
  {
   "cell_type": "markdown",
   "metadata": {},
   "source": [
    "Conversione del tempo dal formato '%H:%M:%S' in secondi totali e mettiamo questo valore ricavato nella colonna 'time_sec'"
   ]
  },
  {
   "cell_type": "code",
   "execution_count": 45,
   "metadata": {},
   "outputs": [],
   "source": [
    "DF_IIN_7000['time']=[datetime.datetime.strptime(x,'%H:%M:%S').time() for x in DF_IIN_7000['time']]\n",
    "DF_IIN_7000['time_sec']=[sum([x.hour*3600,x.minute*60,x.second]) for x in DF_IIN_7000['time']]"
   ]
  },
  {
   "cell_type": "code",
   "execution_count": 46,
   "metadata": {},
   "outputs": [
    {
     "data": {
      "text/plain": [
       "0         63435\n",
       "1         63494\n",
       "2         63554\n",
       "3         63613\n",
       "4         63672\n",
       "          ...  \n",
       "322785    66516\n",
       "322786    66575\n",
       "322787    66634\n",
       "322788    66694\n",
       "322789    66753\n",
       "Name: time_sec, Length: 322790, dtype: int64"
      ]
     },
     "execution_count": 46,
     "metadata": {},
     "output_type": "execute_result"
    }
   ],
   "source": [
    "DF_IIN_7000['time_sec']"
   ]
  },
  {
   "cell_type": "markdown",
   "metadata": {},
   "source": [
    "Selezioniamo il Max e il Min di IIN e il 'time_sec' per ogni host e ogni giorno e facciamo la differenza per avere la durata del caricamento in secondi"
   ]
  },
  {
   "cell_type": "code",
   "execution_count": 47,
   "metadata": {},
   "outputs": [
    {
     "data": {
      "text/html": [
       "<div>\n",
       "<style scoped>\n",
       "    .dataframe tbody tr th:only-of-type {\n",
       "        vertical-align: middle;\n",
       "    }\n",
       "\n",
       "    .dataframe tbody tr th {\n",
       "        vertical-align: top;\n",
       "    }\n",
       "\n",
       "    .dataframe thead th {\n",
       "        text-align: right;\n",
       "    }\n",
       "</style>\n",
       "<table border=\"1\" class=\"dataframe\">\n",
       "  <thead>\n",
       "    <tr style=\"text-align: right;\">\n",
       "      <th></th>\n",
       "      <th>date</th>\n",
       "      <th>host_id</th>\n",
       "      <th>DATE</th>\n",
       "      <th>VIN</th>\n",
       "      <th>IIN</th>\n",
       "      <th>VOUT</th>\n",
       "      <th>VBATT</th>\n",
       "      <th>IBATT</th>\n",
       "      <th>TEMP</th>\n",
       "      <th>CNT</th>\n",
       "      <th>POWER</th>\n",
       "      <th>time</th>\n",
       "      <th>time_sec</th>\n",
       "    </tr>\n",
       "  </thead>\n",
       "  <tbody>\n",
       "    <tr>\n",
       "      <th>0</th>\n",
       "      <td>2020-10-31</td>\n",
       "      <td>814U01M70006</td>\n",
       "      <td>2020-10-31 18:34:27</td>\n",
       "      <td>28885</td>\n",
       "      <td>7036</td>\n",
       "      <td>28350</td>\n",
       "      <td>28315</td>\n",
       "      <td>734</td>\n",
       "      <td>325</td>\n",
       "      <td>13626</td>\n",
       "      <td>20084</td>\n",
       "      <td>18:34:27</td>\n",
       "      <td>66867</td>\n",
       "    </tr>\n",
       "    <tr>\n",
       "      <th>1</th>\n",
       "      <td>2020-10-31</td>\n",
       "      <td>814U01M70009</td>\n",
       "      <td>2020-10-31 18:27:12</td>\n",
       "      <td>28911</td>\n",
       "      <td>7084</td>\n",
       "      <td>28060</td>\n",
       "      <td>28318</td>\n",
       "      <td>738</td>\n",
       "      <td>330</td>\n",
       "      <td>592086</td>\n",
       "      <td>20221</td>\n",
       "      <td>18:27:12</td>\n",
       "      <td>66432</td>\n",
       "    </tr>\n",
       "    <tr>\n",
       "      <th>2</th>\n",
       "      <td>2020-10-31</td>\n",
       "      <td>814U01M70010</td>\n",
       "      <td>2020-10-31 18:27:53</td>\n",
       "      <td>28937</td>\n",
       "      <td>7083</td>\n",
       "      <td>28558</td>\n",
       "      <td>28405</td>\n",
       "      <td>744</td>\n",
       "      <td>335</td>\n",
       "      <td>584864</td>\n",
       "      <td>20402</td>\n",
       "      <td>18:27:53</td>\n",
       "      <td>66473</td>\n",
       "    </tr>\n",
       "    <tr>\n",
       "      <th>3</th>\n",
       "      <td>2020-10-31</td>\n",
       "      <td>814U01M700106</td>\n",
       "      <td>2020-10-31 18:33:14</td>\n",
       "      <td>28867</td>\n",
       "      <td>7118</td>\n",
       "      <td>28143</td>\n",
       "      <td>28333</td>\n",
       "      <td>748</td>\n",
       "      <td>335</td>\n",
       "      <td>574899</td>\n",
       "      <td>20451</td>\n",
       "      <td>18:33:14</td>\n",
       "      <td>66794</td>\n",
       "    </tr>\n",
       "    <tr>\n",
       "      <th>4</th>\n",
       "      <td>2020-10-31</td>\n",
       "      <td>814U01M70011</td>\n",
       "      <td>2020-10-31 18:32:42</td>\n",
       "      <td>29018</td>\n",
       "      <td>7211</td>\n",
       "      <td>28475</td>\n",
       "      <td>28352</td>\n",
       "      <td>752</td>\n",
       "      <td>380</td>\n",
       "      <td>106864</td>\n",
       "      <td>20701</td>\n",
       "      <td>18:32:42</td>\n",
       "      <td>66762</td>\n",
       "    </tr>\n",
       "    <tr>\n",
       "      <th>...</th>\n",
       "      <td>...</td>\n",
       "      <td>...</td>\n",
       "      <td>...</td>\n",
       "      <td>...</td>\n",
       "      <td>...</td>\n",
       "      <td>...</td>\n",
       "      <td>...</td>\n",
       "      <td>...</td>\n",
       "      <td>...</td>\n",
       "      <td>...</td>\n",
       "      <td>...</td>\n",
       "      <td>...</td>\n",
       "      <td>...</td>\n",
       "    </tr>\n",
       "    <tr>\n",
       "      <th>4021</th>\n",
       "      <td>2020-11-05</td>\n",
       "      <td>814U01M71142</td>\n",
       "      <td>2020-11-05 18:27:19</td>\n",
       "      <td>28760</td>\n",
       "      <td>7130</td>\n",
       "      <td>28226</td>\n",
       "      <td>28220</td>\n",
       "      <td>820</td>\n",
       "      <td>265</td>\n",
       "      <td>372084</td>\n",
       "      <td>22339</td>\n",
       "      <td>18:27:19</td>\n",
       "      <td>66439</td>\n",
       "    </tr>\n",
       "    <tr>\n",
       "      <th>4022</th>\n",
       "      <td>2020-11-05</td>\n",
       "      <td>814U01M71143</td>\n",
       "      <td>2020-11-05 18:29:38</td>\n",
       "      <td>28658</td>\n",
       "      <td>7028</td>\n",
       "      <td>28475</td>\n",
       "      <td>28200</td>\n",
       "      <td>742</td>\n",
       "      <td>260</td>\n",
       "      <td>367527</td>\n",
       "      <td>20256</td>\n",
       "      <td>18:29:38</td>\n",
       "      <td>66578</td>\n",
       "    </tr>\n",
       "    <tr>\n",
       "      <th>4023</th>\n",
       "      <td>2020-11-05</td>\n",
       "      <td>814U01M71144</td>\n",
       "      <td>2020-11-05 18:33:02</td>\n",
       "      <td>28950</td>\n",
       "      <td>7054</td>\n",
       "      <td>28599</td>\n",
       "      <td>28517</td>\n",
       "      <td>796</td>\n",
       "      <td>260</td>\n",
       "      <td>370413</td>\n",
       "      <td>21859</td>\n",
       "      <td>18:33:02</td>\n",
       "      <td>66782</td>\n",
       "    </tr>\n",
       "    <tr>\n",
       "      <th>4024</th>\n",
       "      <td>2020-11-05</td>\n",
       "      <td>814U01M71145</td>\n",
       "      <td>2020-11-05 18:29:06</td>\n",
       "      <td>29025</td>\n",
       "      <td>7088</td>\n",
       "      <td>28890</td>\n",
       "      <td>28608</td>\n",
       "      <td>766</td>\n",
       "      <td>260</td>\n",
       "      <td>381513</td>\n",
       "      <td>20948</td>\n",
       "      <td>18:29:06</td>\n",
       "      <td>66546</td>\n",
       "    </tr>\n",
       "    <tr>\n",
       "      <th>4025</th>\n",
       "      <td>2020-11-05</td>\n",
       "      <td>814U01M71146</td>\n",
       "      <td>2020-11-05 18:32:33</td>\n",
       "      <td>28923</td>\n",
       "      <td>7183</td>\n",
       "      <td>28599</td>\n",
       "      <td>28430</td>\n",
       "      <td>768</td>\n",
       "      <td>265</td>\n",
       "      <td>15135</td>\n",
       "      <td>20706</td>\n",
       "      <td>18:32:33</td>\n",
       "      <td>66753</td>\n",
       "    </tr>\n",
       "  </tbody>\n",
       "</table>\n",
       "<p>4026 rows × 13 columns</p>\n",
       "</div>"
      ],
      "text/plain": [
       "            date        host_id                 DATE    VIN   IIN   VOUT  \\\n",
       "0     2020-10-31   814U01M70006  2020-10-31 18:34:27  28885  7036  28350   \n",
       "1     2020-10-31   814U01M70009  2020-10-31 18:27:12  28911  7084  28060   \n",
       "2     2020-10-31   814U01M70010  2020-10-31 18:27:53  28937  7083  28558   \n",
       "3     2020-10-31  814U01M700106  2020-10-31 18:33:14  28867  7118  28143   \n",
       "4     2020-10-31   814U01M70011  2020-10-31 18:32:42  29018  7211  28475   \n",
       "...          ...            ...                  ...    ...   ...    ...   \n",
       "4021  2020-11-05   814U01M71142  2020-11-05 18:27:19  28760  7130  28226   \n",
       "4022  2020-11-05   814U01M71143  2020-11-05 18:29:38  28658  7028  28475   \n",
       "4023  2020-11-05   814U01M71144  2020-11-05 18:33:02  28950  7054  28599   \n",
       "4024  2020-11-05   814U01M71145  2020-11-05 18:29:06  29025  7088  28890   \n",
       "4025  2020-11-05   814U01M71146  2020-11-05 18:32:33  28923  7183  28599   \n",
       "\n",
       "      VBATT  IBATT  TEMP     CNT  POWER      time  time_sec  \n",
       "0     28315    734   325   13626  20084  18:34:27     66867  \n",
       "1     28318    738   330  592086  20221  18:27:12     66432  \n",
       "2     28405    744   335  584864  20402  18:27:53     66473  \n",
       "3     28333    748   335  574899  20451  18:33:14     66794  \n",
       "4     28352    752   380  106864  20701  18:32:42     66762  \n",
       "...     ...    ...   ...     ...    ...       ...       ...  \n",
       "4021  28220    820   265  372084  22339  18:27:19     66439  \n",
       "4022  28200    742   260  367527  20256  18:29:38     66578  \n",
       "4023  28517    796   260  370413  21859  18:33:02     66782  \n",
       "4024  28608    766   260  381513  20948  18:29:06     66546  \n",
       "4025  28430    768   265   15135  20706  18:32:33     66753  \n",
       "\n",
       "[4026 rows x 13 columns]"
      ]
     },
     "execution_count": 47,
     "metadata": {},
     "output_type": "execute_result"
    }
   ],
   "source": [
    "DF_IIN_7000_max=DF_IIN_7000.groupby(['date','host_id']).max()\n",
    "DF_IIN_7000_max=DF_IIN_7000_max.reset_index(level=['date','host_id'], drop=False)\n",
    "DF_IIN_7000_max"
   ]
  },
  {
   "cell_type": "code",
   "execution_count": 74,
   "metadata": {},
   "outputs": [
    {
     "data": {
      "text/html": [
       "<div>\n",
       "<style scoped>\n",
       "    .dataframe tbody tr th:only-of-type {\n",
       "        vertical-align: middle;\n",
       "    }\n",
       "\n",
       "    .dataframe tbody tr th {\n",
       "        vertical-align: top;\n",
       "    }\n",
       "\n",
       "    .dataframe thead th {\n",
       "        text-align: right;\n",
       "    }\n",
       "</style>\n",
       "<table border=\"1\" class=\"dataframe\">\n",
       "  <thead>\n",
       "    <tr style=\"text-align: right;\">\n",
       "      <th></th>\n",
       "      <th>date</th>\n",
       "      <th>host_id</th>\n",
       "      <th>DATE</th>\n",
       "      <th>VIN</th>\n",
       "      <th>IIN</th>\n",
       "      <th>VOUT</th>\n",
       "      <th>VBATT</th>\n",
       "      <th>IBATT</th>\n",
       "      <th>TEMP</th>\n",
       "      <th>CNT</th>\n",
       "      <th>POWER</th>\n",
       "      <th>time</th>\n",
       "      <th>time_sec</th>\n",
       "      <th>durata</th>\n",
       "    </tr>\n",
       "  </thead>\n",
       "  <tbody>\n",
       "    <tr>\n",
       "      <th>10</th>\n",
       "      <td>2020-10-31</td>\n",
       "      <td>814U01M70019</td>\n",
       "      <td>2020-10-31 18:44:36</td>\n",
       "      <td>29148</td>\n",
       "      <td>7084</td>\n",
       "      <td>28682</td>\n",
       "      <td>28663</td>\n",
       "      <td>705</td>\n",
       "      <td>340</td>\n",
       "      <td>63510</td>\n",
       "      <td>19324</td>\n",
       "      <td>18:44:36</td>\n",
       "      <td>67476</td>\n",
       "      <td>3598</td>\n",
       "    </tr>\n",
       "    <tr>\n",
       "      <th>1355</th>\n",
       "      <td>2020-11-02</td>\n",
       "      <td>814U01M70019</td>\n",
       "      <td>2020-11-02 18:37:51</td>\n",
       "      <td>29140</td>\n",
       "      <td>7052</td>\n",
       "      <td>28682</td>\n",
       "      <td>28658</td>\n",
       "      <td>562</td>\n",
       "      <td>305</td>\n",
       "      <td>66432</td>\n",
       "      <td>15790</td>\n",
       "      <td>18:37:51</td>\n",
       "      <td>67071</td>\n",
       "      <td>118</td>\n",
       "    </tr>\n",
       "    <tr>\n",
       "      <th>2028</th>\n",
       "      <td>2020-11-03</td>\n",
       "      <td>814U01M70019</td>\n",
       "      <td>2020-11-03 18:38:01</td>\n",
       "      <td>29012</td>\n",
       "      <td>7077</td>\n",
       "      <td>28516</td>\n",
       "      <td>28510</td>\n",
       "      <td>702</td>\n",
       "      <td>275</td>\n",
       "      <td>67896</td>\n",
       "      <td>19319</td>\n",
       "      <td>18:38:01</td>\n",
       "      <td>67081</td>\n",
       "      <td>3481</td>\n",
       "    </tr>\n",
       "    <tr>\n",
       "      <th>2695</th>\n",
       "      <td>2020-11-04</td>\n",
       "      <td>814U01M70019</td>\n",
       "      <td>2020-11-04 18:38:23</td>\n",
       "      <td>29150</td>\n",
       "      <td>7063</td>\n",
       "      <td>28724</td>\n",
       "      <td>28693</td>\n",
       "      <td>725</td>\n",
       "      <td>270</td>\n",
       "      <td>69360</td>\n",
       "      <td>19946</td>\n",
       "      <td>18:38:23</td>\n",
       "      <td>67103</td>\n",
       "      <td>3599</td>\n",
       "    </tr>\n",
       "    <tr>\n",
       "      <th>3363</th>\n",
       "      <td>2020-11-05</td>\n",
       "      <td>814U01M70019</td>\n",
       "      <td>2020-11-05 18:35:59</td>\n",
       "      <td>29142</td>\n",
       "      <td>7067</td>\n",
       "      <td>28724</td>\n",
       "      <td>28690</td>\n",
       "      <td>738</td>\n",
       "      <td>265</td>\n",
       "      <td>70821</td>\n",
       "      <td>20310</td>\n",
       "      <td>18:35:59</td>\n",
       "      <td>66959</td>\n",
       "      <td>3541</td>\n",
       "    </tr>\n",
       "  </tbody>\n",
       "</table>\n",
       "</div>"
      ],
      "text/plain": [
       "            date       host_id                 DATE    VIN   IIN   VOUT  \\\n",
       "10    2020-10-31  814U01M70019  2020-10-31 18:44:36  29148  7084  28682   \n",
       "1355  2020-11-02  814U01M70019  2020-11-02 18:37:51  29140  7052  28682   \n",
       "2028  2020-11-03  814U01M70019  2020-11-03 18:38:01  29012  7077  28516   \n",
       "2695  2020-11-04  814U01M70019  2020-11-04 18:38:23  29150  7063  28724   \n",
       "3363  2020-11-05  814U01M70019  2020-11-05 18:35:59  29142  7067  28724   \n",
       "\n",
       "      VBATT  IBATT  TEMP    CNT  POWER      time  time_sec  durata  \n",
       "10    28663    705   340  63510  19324  18:44:36     67476    3598  \n",
       "1355  28658    562   305  66432  15790  18:37:51     67071     118  \n",
       "2028  28510    702   275  67896  19319  18:38:01     67081    3481  \n",
       "2695  28693    725   270  69360  19946  18:38:23     67103    3599  \n",
       "3363  28690    738   265  70821  20310  18:35:59     66959    3541  "
      ]
     },
     "execution_count": 74,
     "metadata": {},
     "output_type": "execute_result"
    }
   ],
   "source": [
    "test=DF_IIN_7000_max[DF_IIN_7000_max.host_id=='814U01M70019']\n",
    "test"
   ]
  },
  {
   "cell_type": "code",
   "execution_count": 75,
   "metadata": {},
   "outputs": [
    {
     "data": {
      "text/html": [
       "<div>\n",
       "<style scoped>\n",
       "    .dataframe tbody tr th:only-of-type {\n",
       "        vertical-align: middle;\n",
       "    }\n",
       "\n",
       "    .dataframe tbody tr th {\n",
       "        vertical-align: top;\n",
       "    }\n",
       "\n",
       "    .dataframe thead th {\n",
       "        text-align: right;\n",
       "    }\n",
       "</style>\n",
       "<table border=\"1\" class=\"dataframe\">\n",
       "  <thead>\n",
       "    <tr style=\"text-align: right;\">\n",
       "      <th></th>\n",
       "      <th>date</th>\n",
       "      <th>host_id</th>\n",
       "      <th>DATE</th>\n",
       "      <th>VIN</th>\n",
       "      <th>IIN</th>\n",
       "      <th>VOUT</th>\n",
       "      <th>VBATT</th>\n",
       "      <th>IBATT</th>\n",
       "      <th>TEMP</th>\n",
       "      <th>CNT</th>\n",
       "      <th>POWER</th>\n",
       "      <th>time</th>\n",
       "      <th>time_sec</th>\n",
       "      <th>diff_maxmin_IIN</th>\n",
       "    </tr>\n",
       "  </thead>\n",
       "  <tbody>\n",
       "    <tr>\n",
       "      <th>10</th>\n",
       "      <td>2020-10-31</td>\n",
       "      <td>814U01M70019</td>\n",
       "      <td>2020-10-31 17:44:38</td>\n",
       "      <td>27603</td>\n",
       "      <td>6513</td>\n",
       "      <td>27105</td>\n",
       "      <td>27096</td>\n",
       "      <td>518</td>\n",
       "      <td>240</td>\n",
       "      <td>63449</td>\n",
       "      <td>14260</td>\n",
       "      <td>17:44:38</td>\n",
       "      <td>63878</td>\n",
       "      <td>571</td>\n",
       "    </tr>\n",
       "    <tr>\n",
       "      <th>1355</th>\n",
       "      <td>2020-11-02</td>\n",
       "      <td>814U01M70019</td>\n",
       "      <td>2020-11-02 18:35:53</td>\n",
       "      <td>28552</td>\n",
       "      <td>6678</td>\n",
       "      <td>28060</td>\n",
       "      <td>28035</td>\n",
       "      <td>551</td>\n",
       "      <td>300</td>\n",
       "      <td>66430</td>\n",
       "      <td>15659</td>\n",
       "      <td>18:35:53</td>\n",
       "      <td>66953</td>\n",
       "      <td>374</td>\n",
       "    </tr>\n",
       "    <tr>\n",
       "      <th>2028</th>\n",
       "      <td>2020-11-03</td>\n",
       "      <td>814U01M70019</td>\n",
       "      <td>2020-11-03 17:40:00</td>\n",
       "      <td>27747</td>\n",
       "      <td>7008</td>\n",
       "      <td>27271</td>\n",
       "      <td>27250</td>\n",
       "      <td>507</td>\n",
       "      <td>185</td>\n",
       "      <td>67837</td>\n",
       "      <td>14161</td>\n",
       "      <td>17:40:00</td>\n",
       "      <td>63600</td>\n",
       "      <td>69</td>\n",
       "    </tr>\n",
       "    <tr>\n",
       "      <th>2695</th>\n",
       "      <td>2020-11-04</td>\n",
       "      <td>814U01M70019</td>\n",
       "      <td>2020-11-04 17:38:24</td>\n",
       "      <td>27526</td>\n",
       "      <td>6506</td>\n",
       "      <td>27063</td>\n",
       "      <td>27040</td>\n",
       "      <td>509</td>\n",
       "      <td>185</td>\n",
       "      <td>69299</td>\n",
       "      <td>14515</td>\n",
       "      <td>17:38:24</td>\n",
       "      <td>63504</td>\n",
       "      <td>557</td>\n",
       "    </tr>\n",
       "    <tr>\n",
       "      <th>3363</th>\n",
       "      <td>2020-11-05</td>\n",
       "      <td>814U01M70019</td>\n",
       "      <td>2020-11-05 17:36:58</td>\n",
       "      <td>27747</td>\n",
       "      <td>6572</td>\n",
       "      <td>27271</td>\n",
       "      <td>27255</td>\n",
       "      <td>527</td>\n",
       "      <td>180</td>\n",
       "      <td>70761</td>\n",
       "      <td>14453</td>\n",
       "      <td>17:36:58</td>\n",
       "      <td>63418</td>\n",
       "      <td>495</td>\n",
       "    </tr>\n",
       "  </tbody>\n",
       "</table>\n",
       "</div>"
      ],
      "text/plain": [
       "            date       host_id                 DATE    VIN   IIN   VOUT  \\\n",
       "10    2020-10-31  814U01M70019  2020-10-31 17:44:38  27603  6513  27105   \n",
       "1355  2020-11-02  814U01M70019  2020-11-02 18:35:53  28552  6678  28060   \n",
       "2028  2020-11-03  814U01M70019  2020-11-03 17:40:00  27747  7008  27271   \n",
       "2695  2020-11-04  814U01M70019  2020-11-04 17:38:24  27526  6506  27063   \n",
       "3363  2020-11-05  814U01M70019  2020-11-05 17:36:58  27747  6572  27271   \n",
       "\n",
       "      VBATT  IBATT  TEMP    CNT  POWER      time  time_sec  diff_maxmin_IIN  \n",
       "10    27096    518   240  63449  14260  17:44:38     63878              571  \n",
       "1355  28035    551   300  66430  15659  18:35:53     66953              374  \n",
       "2028  27250    507   185  67837  14161  17:40:00     63600               69  \n",
       "2695  27040    509   185  69299  14515  17:38:24     63504              557  \n",
       "3363  27255    527   180  70761  14453  17:36:58     63418              495  "
      ]
     },
     "execution_count": 75,
     "metadata": {},
     "output_type": "execute_result"
    }
   ],
   "source": [
    "test=DF_IIN_7000_min[DF_IIN_7000_min.host_id=='814U01M70019']\n",
    "test"
   ]
  },
  {
   "cell_type": "code",
   "execution_count": 48,
   "metadata": {},
   "outputs": [
    {
     "data": {
      "text/html": [
       "<div>\n",
       "<style scoped>\n",
       "    .dataframe tbody tr th:only-of-type {\n",
       "        vertical-align: middle;\n",
       "    }\n",
       "\n",
       "    .dataframe tbody tr th {\n",
       "        vertical-align: top;\n",
       "    }\n",
       "\n",
       "    .dataframe thead th {\n",
       "        text-align: right;\n",
       "    }\n",
       "</style>\n",
       "<table border=\"1\" class=\"dataframe\">\n",
       "  <thead>\n",
       "    <tr style=\"text-align: right;\">\n",
       "      <th></th>\n",
       "      <th>date</th>\n",
       "      <th>host_id</th>\n",
       "      <th>DATE</th>\n",
       "      <th>VIN</th>\n",
       "      <th>IIN</th>\n",
       "      <th>VOUT</th>\n",
       "      <th>VBATT</th>\n",
       "      <th>IBATT</th>\n",
       "      <th>TEMP</th>\n",
       "      <th>CNT</th>\n",
       "      <th>POWER</th>\n",
       "      <th>time</th>\n",
       "      <th>time_sec</th>\n",
       "    </tr>\n",
       "  </thead>\n",
       "  <tbody>\n",
       "    <tr>\n",
       "      <th>0</th>\n",
       "      <td>2020-10-31</td>\n",
       "      <td>814U01M70006</td>\n",
       "      <td>2020-10-31 17:37:15</td>\n",
       "      <td>27552</td>\n",
       "      <td>6958</td>\n",
       "      <td>27063</td>\n",
       "      <td>27031</td>\n",
       "      <td>532</td>\n",
       "      <td>225</td>\n",
       "      <td>13568</td>\n",
       "      <td>14576</td>\n",
       "      <td>17:37:15</td>\n",
       "      <td>63435</td>\n",
       "    </tr>\n",
       "    <tr>\n",
       "      <th>1</th>\n",
       "      <td>2020-10-31</td>\n",
       "      <td>814U01M70009</td>\n",
       "      <td>2020-10-31 17:27:16</td>\n",
       "      <td>27715</td>\n",
       "      <td>6983</td>\n",
       "      <td>26897</td>\n",
       "      <td>27175</td>\n",
       "      <td>532</td>\n",
       "      <td>230</td>\n",
       "      <td>592025</td>\n",
       "      <td>14569</td>\n",
       "      <td>17:27:16</td>\n",
       "      <td>62836</td>\n",
       "    </tr>\n",
       "    <tr>\n",
       "      <th>2</th>\n",
       "      <td>2020-10-31</td>\n",
       "      <td>814U01M70010</td>\n",
       "      <td>2020-10-31 17:27:24</td>\n",
       "      <td>27681</td>\n",
       "      <td>7022</td>\n",
       "      <td>27312</td>\n",
       "      <td>27166</td>\n",
       "      <td>560</td>\n",
       "      <td>235</td>\n",
       "      <td>584803</td>\n",
       "      <td>15327</td>\n",
       "      <td>17:27:24</td>\n",
       "      <td>62844</td>\n",
       "    </tr>\n",
       "    <tr>\n",
       "      <th>3</th>\n",
       "      <td>2020-10-31</td>\n",
       "      <td>814U01M700106</td>\n",
       "      <td>2020-10-31 17:31:04</td>\n",
       "      <td>27717</td>\n",
       "      <td>7051</td>\n",
       "      <td>27022</td>\n",
       "      <td>27191</td>\n",
       "      <td>538</td>\n",
       "      <td>230</td>\n",
       "      <td>574836</td>\n",
       "      <td>14705</td>\n",
       "      <td>17:31:04</td>\n",
       "      <td>63064</td>\n",
       "    </tr>\n",
       "    <tr>\n",
       "      <th>4</th>\n",
       "      <td>2020-10-31</td>\n",
       "      <td>814U01M70011</td>\n",
       "      <td>2020-10-31 17:32:39</td>\n",
       "      <td>27958</td>\n",
       "      <td>6460</td>\n",
       "      <td>27395</td>\n",
       "      <td>27257</td>\n",
       "      <td>553</td>\n",
       "      <td>235</td>\n",
       "      <td>106803</td>\n",
       "      <td>15203</td>\n",
       "      <td>17:32:39</td>\n",
       "      <td>63159</td>\n",
       "    </tr>\n",
       "    <tr>\n",
       "      <th>...</th>\n",
       "      <td>...</td>\n",
       "      <td>...</td>\n",
       "      <td>...</td>\n",
       "      <td>...</td>\n",
       "      <td>...</td>\n",
       "      <td>...</td>\n",
       "      <td>...</td>\n",
       "      <td>...</td>\n",
       "      <td>...</td>\n",
       "      <td>...</td>\n",
       "      <td>...</td>\n",
       "      <td>...</td>\n",
       "      <td>...</td>\n",
       "    </tr>\n",
       "    <tr>\n",
       "      <th>4021</th>\n",
       "      <td>2020-11-05</td>\n",
       "      <td>814U01M71142</td>\n",
       "      <td>2020-11-05 17:25:17</td>\n",
       "      <td>27563</td>\n",
       "      <td>7039</td>\n",
       "      <td>27022</td>\n",
       "      <td>27053</td>\n",
       "      <td>542</td>\n",
       "      <td>180</td>\n",
       "      <td>372021</td>\n",
       "      <td>14961</td>\n",
       "      <td>17:25:17</td>\n",
       "      <td>62717</td>\n",
       "    </tr>\n",
       "    <tr>\n",
       "      <th>4022</th>\n",
       "      <td>2020-11-05</td>\n",
       "      <td>814U01M71143</td>\n",
       "      <td>2020-11-05 17:28:35</td>\n",
       "      <td>27405</td>\n",
       "      <td>6892</td>\n",
       "      <td>27229</td>\n",
       "      <td>26962</td>\n",
       "      <td>536</td>\n",
       "      <td>180</td>\n",
       "      <td>367465</td>\n",
       "      <td>14639</td>\n",
       "      <td>17:28:35</td>\n",
       "      <td>62915</td>\n",
       "    </tr>\n",
       "    <tr>\n",
       "      <th>4023</th>\n",
       "      <td>2020-11-05</td>\n",
       "      <td>814U01M71144</td>\n",
       "      <td>2020-11-05 17:29:44</td>\n",
       "      <td>27505</td>\n",
       "      <td>6021</td>\n",
       "      <td>27105</td>\n",
       "      <td>27026</td>\n",
       "      <td>556</td>\n",
       "      <td>165</td>\n",
       "      <td>370349</td>\n",
       "      <td>15209</td>\n",
       "      <td>17:29:44</td>\n",
       "      <td>62984</td>\n",
       "    </tr>\n",
       "    <tr>\n",
       "      <th>4024</th>\n",
       "      <td>2020-11-05</td>\n",
       "      <td>814U01M71145</td>\n",
       "      <td>2020-11-05 17:23:18</td>\n",
       "      <td>27577</td>\n",
       "      <td>6532</td>\n",
       "      <td>27395</td>\n",
       "      <td>27142</td>\n",
       "      <td>538</td>\n",
       "      <td>170</td>\n",
       "      <td>381446</td>\n",
       "      <td>14735</td>\n",
       "      <td>17:23:18</td>\n",
       "      <td>62598</td>\n",
       "    </tr>\n",
       "    <tr>\n",
       "      <th>4025</th>\n",
       "      <td>2020-11-05</td>\n",
       "      <td>814U01M71146</td>\n",
       "      <td>2020-11-05 17:29:15</td>\n",
       "      <td>27452</td>\n",
       "      <td>6987</td>\n",
       "      <td>27146</td>\n",
       "      <td>26962</td>\n",
       "      <td>549</td>\n",
       "      <td>175</td>\n",
       "      <td>15071</td>\n",
       "      <td>15138</td>\n",
       "      <td>17:29:15</td>\n",
       "      <td>62955</td>\n",
       "    </tr>\n",
       "  </tbody>\n",
       "</table>\n",
       "<p>4026 rows × 13 columns</p>\n",
       "</div>"
      ],
      "text/plain": [
       "            date        host_id                 DATE    VIN   IIN   VOUT  \\\n",
       "0     2020-10-31   814U01M70006  2020-10-31 17:37:15  27552  6958  27063   \n",
       "1     2020-10-31   814U01M70009  2020-10-31 17:27:16  27715  6983  26897   \n",
       "2     2020-10-31   814U01M70010  2020-10-31 17:27:24  27681  7022  27312   \n",
       "3     2020-10-31  814U01M700106  2020-10-31 17:31:04  27717  7051  27022   \n",
       "4     2020-10-31   814U01M70011  2020-10-31 17:32:39  27958  6460  27395   \n",
       "...          ...            ...                  ...    ...   ...    ...   \n",
       "4021  2020-11-05   814U01M71142  2020-11-05 17:25:17  27563  7039  27022   \n",
       "4022  2020-11-05   814U01M71143  2020-11-05 17:28:35  27405  6892  27229   \n",
       "4023  2020-11-05   814U01M71144  2020-11-05 17:29:44  27505  6021  27105   \n",
       "4024  2020-11-05   814U01M71145  2020-11-05 17:23:18  27577  6532  27395   \n",
       "4025  2020-11-05   814U01M71146  2020-11-05 17:29:15  27452  6987  27146   \n",
       "\n",
       "      VBATT  IBATT  TEMP     CNT  POWER      time  time_sec  \n",
       "0     27031    532   225   13568  14576  17:37:15     63435  \n",
       "1     27175    532   230  592025  14569  17:27:16     62836  \n",
       "2     27166    560   235  584803  15327  17:27:24     62844  \n",
       "3     27191    538   230  574836  14705  17:31:04     63064  \n",
       "4     27257    553   235  106803  15203  17:32:39     63159  \n",
       "...     ...    ...   ...     ...    ...       ...       ...  \n",
       "4021  27053    542   180  372021  14961  17:25:17     62717  \n",
       "4022  26962    536   180  367465  14639  17:28:35     62915  \n",
       "4023  27026    556   165  370349  15209  17:29:44     62984  \n",
       "4024  27142    538   170  381446  14735  17:23:18     62598  \n",
       "4025  26962    549   175   15071  15138  17:29:15     62955  \n",
       "\n",
       "[4026 rows x 13 columns]"
      ]
     },
     "execution_count": 48,
     "metadata": {},
     "output_type": "execute_result"
    }
   ],
   "source": [
    "DF_IIN_7000_min=DF_IIN_7000.groupby(['date','host_id']).min()\n",
    "DF_IIN_7000_min=DF_IIN_7000_min.reset_index(level=['date','host_id'], drop=False)\n",
    "DF_IIN_7000_min"
   ]
  },
  {
   "cell_type": "markdown",
   "metadata": {},
   "source": [
    "Nella cella successiva abbiamo calcolato la differenza di IIN per ogni host e per ogni giorno"
   ]
  },
  {
   "cell_type": "code",
   "execution_count": 49,
   "metadata": {},
   "outputs": [],
   "source": [
    "DF_IIN_7000_diff=DF_IIN_7000_max.IIN-DF_IIN_7000_min.IIN\n",
    "DF_IIN_7000_min['diff_maxmin_IIN']=DF_IIN_7000_diff"
   ]
  },
  {
   "cell_type": "markdown",
   "metadata": {},
   "source": [
    "Nella cella successiva abbiamo calcolato la durata di caricamento per ogni host e per ogni giorno. Abbiamo trovato che la durata è sempre stato al intorno di 3600 secondi cioè un'ora tranne alcuni outliers: i punti neri"
   ]
  },
  {
   "cell_type": "code",
   "execution_count": 50,
   "metadata": {},
   "outputs": [],
   "source": [
    "DF_IIN_7000_durata=DF_IIN_7000_max.time_sec-DF_IIN_7000_min.time_sec\n",
    "DF_IIN_7000_max['durata']=DF_IIN_7000_durata"
   ]
  },
  {
   "cell_type": "code",
   "execution_count": 51,
   "metadata": {},
   "outputs": [
    {
     "data": {
      "text/plain": [
       "<AxesSubplot:xlabel='time_sec'>"
      ]
     },
     "execution_count": 51,
     "metadata": {},
     "output_type": "execute_result"
    },
    {
     "data": {
      "image/png": "[encoded data removed]",
      "text/plain": [
       "<Figure size 432x288 with 1 Axes>"
      ]
     },
     "metadata": {
      "needs_background": "light"
     },
     "output_type": "display_data"
    }
   ],
   "source": [
    "sns.boxplot(x=DF_IIN_7000_durata)"
   ]
  },
  {
   "cell_type": "markdown",
   "metadata": {},
   "source": [
    "Nella cella successiva abbiamo selezionato quando la durata di caricamento è stata superiore à 80000 secondi cioè 22 ore"
   ]
  },
  {
   "cell_type": "code",
   "execution_count": 52,
   "metadata": {},
   "outputs": [
    {
     "data": {
      "text/html": [
       "<div>\n",
       "<style scoped>\n",
       "    .dataframe tbody tr th:only-of-type {\n",
       "        vertical-align: middle;\n",
       "    }\n",
       "\n",
       "    .dataframe tbody tr th {\n",
       "        vertical-align: top;\n",
       "    }\n",
       "\n",
       "    .dataframe thead th {\n",
       "        text-align: right;\n",
       "    }\n",
       "</style>\n",
       "<table border=\"1\" class=\"dataframe\">\n",
       "  <thead>\n",
       "    <tr style=\"text-align: right;\">\n",
       "      <th></th>\n",
       "      <th>date</th>\n",
       "      <th>host_id</th>\n",
       "      <th>DATE</th>\n",
       "      <th>VIN</th>\n",
       "      <th>IIN</th>\n",
       "      <th>VOUT</th>\n",
       "      <th>VBATT</th>\n",
       "      <th>IBATT</th>\n",
       "      <th>TEMP</th>\n",
       "      <th>CNT</th>\n",
       "      <th>POWER</th>\n",
       "      <th>time</th>\n",
       "      <th>time_sec</th>\n",
       "      <th>durata</th>\n",
       "    </tr>\n",
       "  </thead>\n",
       "  <tbody>\n",
       "    <tr>\n",
       "      <th>17</th>\n",
       "      <td>2020-10-31</td>\n",
       "      <td>814U01M70034</td>\n",
       "      <td>2020-10-31 23:54:50</td>\n",
       "      <td>29191</td>\n",
       "      <td>7044</td>\n",
       "      <td>28682</td>\n",
       "      <td>28675</td>\n",
       "      <td>765</td>\n",
       "      <td>335</td>\n",
       "      <td>571976</td>\n",
       "      <td>21061</td>\n",
       "      <td>23:54:50</td>\n",
       "      <td>86090</td>\n",
       "      <td>85771</td>\n",
       "    </tr>\n",
       "    <tr>\n",
       "      <th>21</th>\n",
       "      <td>2020-10-31</td>\n",
       "      <td>814U01M70042</td>\n",
       "      <td>2020-10-31 23:54:53</td>\n",
       "      <td>29217</td>\n",
       "      <td>7221</td>\n",
       "      <td>28848</td>\n",
       "      <td>28767</td>\n",
       "      <td>784</td>\n",
       "      <td>340</td>\n",
       "      <td>67657</td>\n",
       "      <td>21370</td>\n",
       "      <td>23:54:53</td>\n",
       "      <td>86093</td>\n",
       "      <td>86054</td>\n",
       "    </tr>\n",
       "    <tr>\n",
       "      <th>22</th>\n",
       "      <td>2020-10-31</td>\n",
       "      <td>814U01M70046</td>\n",
       "      <td>2020-10-31 23:57:55</td>\n",
       "      <td>29210</td>\n",
       "      <td>7069</td>\n",
       "      <td>28807</td>\n",
       "      <td>28731</td>\n",
       "      <td>845</td>\n",
       "      <td>340</td>\n",
       "      <td>180341</td>\n",
       "      <td>23296</td>\n",
       "      <td>23:57:55</td>\n",
       "      <td>86275</td>\n",
       "      <td>86078</td>\n",
       "    </tr>\n",
       "    <tr>\n",
       "      <th>27</th>\n",
       "      <td>2020-10-31</td>\n",
       "      <td>814U01M70058</td>\n",
       "      <td>2020-10-31 23:56:49</td>\n",
       "      <td>29152</td>\n",
       "      <td>6977</td>\n",
       "      <td>28890</td>\n",
       "      <td>28680</td>\n",
       "      <td>796</td>\n",
       "      <td>335</td>\n",
       "      <td>12049</td>\n",
       "      <td>22010</td>\n",
       "      <td>23:56:49</td>\n",
       "      <td>86209</td>\n",
       "      <td>86003</td>\n",
       "    </tr>\n",
       "    <tr>\n",
       "      <th>29</th>\n",
       "      <td>2020-10-31</td>\n",
       "      <td>814U01M70061</td>\n",
       "      <td>2020-10-31 23:54:53</td>\n",
       "      <td>29217</td>\n",
       "      <td>7221</td>\n",
       "      <td>28848</td>\n",
       "      <td>28767</td>\n",
       "      <td>784</td>\n",
       "      <td>340</td>\n",
       "      <td>67657</td>\n",
       "      <td>21370</td>\n",
       "      <td>23:54:53</td>\n",
       "      <td>86093</td>\n",
       "      <td>86054</td>\n",
       "    </tr>\n",
       "    <tr>\n",
       "      <th>...</th>\n",
       "      <td>...</td>\n",
       "      <td>...</td>\n",
       "      <td>...</td>\n",
       "      <td>...</td>\n",
       "      <td>...</td>\n",
       "      <td>...</td>\n",
       "      <td>...</td>\n",
       "      <td>...</td>\n",
       "      <td>...</td>\n",
       "      <td>...</td>\n",
       "      <td>...</td>\n",
       "      <td>...</td>\n",
       "      <td>...</td>\n",
       "      <td>...</td>\n",
       "    </tr>\n",
       "    <tr>\n",
       "      <th>3865</th>\n",
       "      <td>2020-11-05</td>\n",
       "      <td>814U01M70829</td>\n",
       "      <td>2020-11-05 23:58:52</td>\n",
       "      <td>29028</td>\n",
       "      <td>7077</td>\n",
       "      <td>28516</td>\n",
       "      <td>28348</td>\n",
       "      <td>757</td>\n",
       "      <td>250</td>\n",
       "      <td>390526</td>\n",
       "      <td>20829</td>\n",
       "      <td>23:58:52</td>\n",
       "      <td>86332</td>\n",
       "      <td>86009</td>\n",
       "    </tr>\n",
       "    <tr>\n",
       "      <th>3882</th>\n",
       "      <td>2020-11-05</td>\n",
       "      <td>814U01M70859</td>\n",
       "      <td>2020-11-05 23:59:45</td>\n",
       "      <td>29176</td>\n",
       "      <td>7141</td>\n",
       "      <td>28807</td>\n",
       "      <td>28746</td>\n",
       "      <td>976</td>\n",
       "      <td>265</td>\n",
       "      <td>24840</td>\n",
       "      <td>26910</td>\n",
       "      <td>23:59:45</td>\n",
       "      <td>86385</td>\n",
       "      <td>86044</td>\n",
       "    </tr>\n",
       "    <tr>\n",
       "      <th>3949</th>\n",
       "      <td>2020-11-05</td>\n",
       "      <td>814U01M70959</td>\n",
       "      <td>2020-11-05 23:58:40</td>\n",
       "      <td>29117</td>\n",
       "      <td>7021</td>\n",
       "      <td>28350</td>\n",
       "      <td>28421</td>\n",
       "      <td>1193</td>\n",
       "      <td>260</td>\n",
       "      <td>22500</td>\n",
       "      <td>32982</td>\n",
       "      <td>23:58:40</td>\n",
       "      <td>86320</td>\n",
       "      <td>86119</td>\n",
       "    </tr>\n",
       "    <tr>\n",
       "      <th>3962</th>\n",
       "      <td>2020-11-05</td>\n",
       "      <td>814U01M70987</td>\n",
       "      <td>2020-11-05 23:59:28</td>\n",
       "      <td>29240</td>\n",
       "      <td>7107</td>\n",
       "      <td>29056</td>\n",
       "      <td>28860</td>\n",
       "      <td>811</td>\n",
       "      <td>260</td>\n",
       "      <td>111862</td>\n",
       "      <td>22332</td>\n",
       "      <td>23:59:28</td>\n",
       "      <td>86368</td>\n",
       "      <td>86090</td>\n",
       "    </tr>\n",
       "    <tr>\n",
       "      <th>4003</th>\n",
       "      <td>2020-11-05</td>\n",
       "      <td>814U01M71106</td>\n",
       "      <td>2020-11-05 23:57:28</td>\n",
       "      <td>29145</td>\n",
       "      <td>7161</td>\n",
       "      <td>29180</td>\n",
       "      <td>28721</td>\n",
       "      <td>774</td>\n",
       "      <td>280</td>\n",
       "      <td>370410</td>\n",
       "      <td>21402</td>\n",
       "      <td>23:57:28</td>\n",
       "      <td>86248</td>\n",
       "      <td>85881</td>\n",
       "    </tr>\n",
       "  </tbody>\n",
       "</table>\n",
       "<p>485 rows × 14 columns</p>\n",
       "</div>"
      ],
      "text/plain": [
       "            date       host_id                 DATE    VIN   IIN   VOUT  \\\n",
       "17    2020-10-31  814U01M70034  2020-10-31 23:54:50  29191  7044  28682   \n",
       "21    2020-10-31  814U01M70042  2020-10-31 23:54:53  29217  7221  28848   \n",
       "22    2020-10-31  814U01M70046  2020-10-31 23:57:55  29210  7069  28807   \n",
       "27    2020-10-31  814U01M70058  2020-10-31 23:56:49  29152  6977  28890   \n",
       "29    2020-10-31  814U01M70061  2020-10-31 23:54:53  29217  7221  28848   \n",
       "...          ...           ...                  ...    ...   ...    ...   \n",
       "3865  2020-11-05  814U01M70829  2020-11-05 23:58:52  29028  7077  28516   \n",
       "3882  2020-11-05  814U01M70859  2020-11-05 23:59:45  29176  7141  28807   \n",
       "3949  2020-11-05  814U01M70959  2020-11-05 23:58:40  29117  7021  28350   \n",
       "3962  2020-11-05  814U01M70987  2020-11-05 23:59:28  29240  7107  29056   \n",
       "4003  2020-11-05  814U01M71106  2020-11-05 23:57:28  29145  7161  29180   \n",
       "\n",
       "      VBATT  IBATT  TEMP     CNT  POWER      time  time_sec  durata  \n",
       "17    28675    765   335  571976  21061  23:54:50     86090   85771  \n",
       "21    28767    784   340   67657  21370  23:54:53     86093   86054  \n",
       "22    28731    845   340  180341  23296  23:57:55     86275   86078  \n",
       "27    28680    796   335   12049  22010  23:56:49     86209   86003  \n",
       "29    28767    784   340   67657  21370  23:54:53     86093   86054  \n",
       "...     ...    ...   ...     ...    ...       ...       ...     ...  \n",
       "3865  28348    757   250  390526  20829  23:58:52     86332   86009  \n",
       "3882  28746    976   265   24840  26910  23:59:45     86385   86044  \n",
       "3949  28421   1193   260   22500  32982  23:58:40     86320   86119  \n",
       "3962  28860    811   260  111862  22332  23:59:28     86368   86090  \n",
       "4003  28721    774   280  370410  21402  23:57:28     86248   85881  \n",
       "\n",
       "[485 rows x 14 columns]"
      ]
     },
     "execution_count": 52,
     "metadata": {},
     "output_type": "execute_result"
    }
   ],
   "source": [
    "test1=DF_IIN_7000_max[DF_IIN_7000_max.durata>80000]\n",
    "test1"
   ]
  },
  {
   "cell_type": "markdown",
   "metadata": {},
   "source": [
    "Nella cella successiva troviamo il numero degli host che hanno avuto una durata di caricamento che è superiore à 80000 secondi cioè 22 ore"
   ]
  },
  {
   "cell_type": "code",
   "execution_count": 53,
   "metadata": {},
   "outputs": [
    {
     "data": {
      "text/plain": [
       "99"
      ]
     },
     "execution_count": 53,
     "metadata": {},
     "output_type": "execute_result"
    }
   ],
   "source": [
    "c=[c for c in test1.host_id.unique()]\n",
    "len(c)"
   ]
  },
  {
   "cell_type": "markdown",
   "metadata": {},
   "source": [
    "Nella cella successiva troviamo un esempio di un host '814U01M70006' che ha avuto una durata di caricamento che è superiore à 80000 secondi cioè 22 ore"
   ]
  },
  {
   "cell_type": "code",
   "execution_count": 54,
   "metadata": {},
   "outputs": [
    {
     "data": {
      "text/html": [
       "<div>\n",
       "<style scoped>\n",
       "    .dataframe tbody tr th:only-of-type {\n",
       "        vertical-align: middle;\n",
       "    }\n",
       "\n",
       "    .dataframe tbody tr th {\n",
       "        vertical-align: top;\n",
       "    }\n",
       "\n",
       "    .dataframe thead th {\n",
       "        text-align: right;\n",
       "    }\n",
       "</style>\n",
       "<table border=\"1\" class=\"dataframe\">\n",
       "  <thead>\n",
       "    <tr style=\"text-align: right;\">\n",
       "      <th></th>\n",
       "      <th>date</th>\n",
       "      <th>host_id</th>\n",
       "      <th>DATE</th>\n",
       "      <th>VIN</th>\n",
       "      <th>IIN</th>\n",
       "      <th>VOUT</th>\n",
       "      <th>VBATT</th>\n",
       "      <th>IBATT</th>\n",
       "      <th>TEMP</th>\n",
       "      <th>CNT</th>\n",
       "      <th>POWER</th>\n",
       "      <th>time</th>\n",
       "      <th>time_sec</th>\n",
       "      <th>durata</th>\n",
       "    </tr>\n",
       "  </thead>\n",
       "  <tbody>\n",
       "    <tr>\n",
       "      <th>510</th>\n",
       "      <td>2020-10-31</td>\n",
       "      <td>814U01M70829</td>\n",
       "      <td>2020-10-31 23:48:07</td>\n",
       "      <td>28885</td>\n",
       "      <td>7141</td>\n",
       "      <td>28309</td>\n",
       "      <td>28173</td>\n",
       "      <td>795</td>\n",
       "      <td>310</td>\n",
       "      <td>383161</td>\n",
       "      <td>21928</td>\n",
       "      <td>23:48:07</td>\n",
       "      <td>85687</td>\n",
       "      <td>85407</td>\n",
       "    </tr>\n",
       "    <tr>\n",
       "      <th>1185</th>\n",
       "      <td>2020-11-01</td>\n",
       "      <td>814U01M70829</td>\n",
       "      <td>2020-11-01 23:59:56</td>\n",
       "      <td>28936</td>\n",
       "      <td>7061</td>\n",
       "      <td>28392</td>\n",
       "      <td>28230</td>\n",
       "      <td>767</td>\n",
       "      <td>315</td>\n",
       "      <td>384644</td>\n",
       "      <td>21100</td>\n",
       "      <td>23:59:56</td>\n",
       "      <td>86396</td>\n",
       "      <td>86229</td>\n",
       "    </tr>\n",
       "    <tr>\n",
       "      <th>1857</th>\n",
       "      <td>2020-11-02</td>\n",
       "      <td>814U01M70829</td>\n",
       "      <td>2020-11-02 23:56:06</td>\n",
       "      <td>29163</td>\n",
       "      <td>7123</td>\n",
       "      <td>28641</td>\n",
       "      <td>28475</td>\n",
       "      <td>723</td>\n",
       "      <td>285</td>\n",
       "      <td>386111</td>\n",
       "      <td>20160</td>\n",
       "      <td>23:56:06</td>\n",
       "      <td>86166</td>\n",
       "      <td>84055</td>\n",
       "    </tr>\n",
       "    <tr>\n",
       "      <th>2524</th>\n",
       "      <td>2020-11-03</td>\n",
       "      <td>814U01M70829</td>\n",
       "      <td>2020-11-03 23:46:29</td>\n",
       "      <td>28981</td>\n",
       "      <td>7038</td>\n",
       "      <td>28475</td>\n",
       "      <td>28308</td>\n",
       "      <td>758</td>\n",
       "      <td>245</td>\n",
       "      <td>387572</td>\n",
       "      <td>20899</td>\n",
       "      <td>23:46:29</td>\n",
       "      <td>85589</td>\n",
       "      <td>84648</td>\n",
       "    </tr>\n",
       "    <tr>\n",
       "      <th>3193</th>\n",
       "      <td>2020-11-04</td>\n",
       "      <td>814U01M70829</td>\n",
       "      <td>2020-11-04 23:54:36</td>\n",
       "      <td>29161</td>\n",
       "      <td>7093</td>\n",
       "      <td>28724</td>\n",
       "      <td>28555</td>\n",
       "      <td>799</td>\n",
       "      <td>250</td>\n",
       "      <td>389051</td>\n",
       "      <td>21902</td>\n",
       "      <td>23:54:36</td>\n",
       "      <td>86076</td>\n",
       "      <td>86064</td>\n",
       "    </tr>\n",
       "    <tr>\n",
       "      <th>3865</th>\n",
       "      <td>2020-11-05</td>\n",
       "      <td>814U01M70829</td>\n",
       "      <td>2020-11-05 23:58:52</td>\n",
       "      <td>29028</td>\n",
       "      <td>7077</td>\n",
       "      <td>28516</td>\n",
       "      <td>28348</td>\n",
       "      <td>757</td>\n",
       "      <td>250</td>\n",
       "      <td>390526</td>\n",
       "      <td>20829</td>\n",
       "      <td>23:58:52</td>\n",
       "      <td>86332</td>\n",
       "      <td>86009</td>\n",
       "    </tr>\n",
       "  </tbody>\n",
       "</table>\n",
       "</div>"
      ],
      "text/plain": [
       "            date       host_id                 DATE    VIN   IIN   VOUT  \\\n",
       "510   2020-10-31  814U01M70829  2020-10-31 23:48:07  28885  7141  28309   \n",
       "1185  2020-11-01  814U01M70829  2020-11-01 23:59:56  28936  7061  28392   \n",
       "1857  2020-11-02  814U01M70829  2020-11-02 23:56:06  29163  7123  28641   \n",
       "2524  2020-11-03  814U01M70829  2020-11-03 23:46:29  28981  7038  28475   \n",
       "3193  2020-11-04  814U01M70829  2020-11-04 23:54:36  29161  7093  28724   \n",
       "3865  2020-11-05  814U01M70829  2020-11-05 23:58:52  29028  7077  28516   \n",
       "\n",
       "      VBATT  IBATT  TEMP     CNT  POWER      time  time_sec  durata  \n",
       "510   28173    795   310  383161  21928  23:48:07     85687   85407  \n",
       "1185  28230    767   315  384644  21100  23:59:56     86396   86229  \n",
       "1857  28475    723   285  386111  20160  23:56:06     86166   84055  \n",
       "2524  28308    758   245  387572  20899  23:46:29     85589   84648  \n",
       "3193  28555    799   250  389051  21902  23:54:36     86076   86064  \n",
       "3865  28348    757   250  390526  20829  23:58:52     86332   86009  "
      ]
     },
     "execution_count": 54,
     "metadata": {},
     "output_type": "execute_result"
    }
   ],
   "source": [
    "test=DF_IIN_7000_max[DF_IIN_7000_max.host_id=='814U01M70829']\n",
    "test"
   ]
  },
  {
   "cell_type": "markdown",
   "metadata": {},
   "source": [
    "Nella cella successiva abbiamo fatto il grafico della temperatura in funzione della durata di caricamento"
   ]
  },
  {
   "cell_type": "code",
   "execution_count": 55,
   "metadata": {},
   "outputs": [
    {
     "data": {
      "image/png": "[encoded data removed]",
      "text/plain": [
       "<Figure size 432x288 with 1 Axes>"
      ]
     },
     "metadata": {
      "needs_background": "light"
     },
     "output_type": "display_data"
    }
   ],
   "source": [
    "plt.figure( )\n",
    "plt.plot(DF_IIN_7000_max.durata,DF_IIN_7000_max.TEMP,'bo')\n",
    "plt.xlabel('Durata caricamento')\n",
    "plt.ylabel('Temperatura')\n",
    "plt.show()"
   ]
  },
  {
   "cell_type": "markdown",
   "metadata": {},
   "source": [
    "#### Abbiamo deciso di studiare gli host che hanno avuto la corrente d'ingresso IIN > 5500 mA dopo le ore 22 per ogni giorno"
   ]
  },
  {
   "cell_type": "markdown",
   "metadata": {},
   "source": [
    "## IIN> 5500 Dopo le 22 "
   ]
  },
  {
   "cell_type": "code",
   "execution_count": 56,
   "metadata": {},
   "outputs": [
    {
     "data": {
      "text/html": [
       "<div>\n",
       "<style scoped>\n",
       "    .dataframe tbody tr th:only-of-type {\n",
       "        vertical-align: middle;\n",
       "    }\n",
       "\n",
       "    .dataframe tbody tr th {\n",
       "        vertical-align: top;\n",
       "    }\n",
       "\n",
       "    .dataframe thead th {\n",
       "        text-align: right;\n",
       "    }\n",
       "</style>\n",
       "<table border=\"1\" class=\"dataframe\">\n",
       "  <thead>\n",
       "    <tr style=\"text-align: right;\">\n",
       "      <th></th>\n",
       "      <th>DATE</th>\n",
       "      <th>VIN</th>\n",
       "      <th>IIN</th>\n",
       "      <th>VOUT</th>\n",
       "      <th>VBATT</th>\n",
       "      <th>IBATT</th>\n",
       "      <th>TEMP</th>\n",
       "      <th>CNT</th>\n",
       "      <th>POWER</th>\n",
       "      <th>time</th>\n",
       "      <th>date</th>\n",
       "      <th>host_id</th>\n",
       "      <th>time_sec</th>\n",
       "    </tr>\n",
       "  </thead>\n",
       "  <tbody>\n",
       "    <tr>\n",
       "      <th>1256</th>\n",
       "      <td>2020-10-31 21:56:52</td>\n",
       "      <td>27986</td>\n",
       "      <td>6985</td>\n",
       "      <td>27520</td>\n",
       "      <td>27550</td>\n",
       "      <td>708</td>\n",
       "      <td>265</td>\n",
       "      <td>571856</td>\n",
       "      <td>19505</td>\n",
       "      <td>21:56:52</td>\n",
       "      <td>2020-10-31</td>\n",
       "      <td>814U01M70034</td>\n",
       "      <td>79012</td>\n",
       "    </tr>\n",
       "    <tr>\n",
       "      <th>1257</th>\n",
       "      <td>2020-10-31 22:02:46</td>\n",
       "      <td>27973</td>\n",
       "      <td>6968</td>\n",
       "      <td>27520</td>\n",
       "      <td>27545</td>\n",
       "      <td>566</td>\n",
       "      <td>260</td>\n",
       "      <td>571862</td>\n",
       "      <td>15590</td>\n",
       "      <td>22:02:46</td>\n",
       "      <td>2020-10-31</td>\n",
       "      <td>814U01M70034</td>\n",
       "      <td>79366</td>\n",
       "    </tr>\n",
       "    <tr>\n",
       "      <th>1258</th>\n",
       "      <td>2020-10-31 22:08:40</td>\n",
       "      <td>27981</td>\n",
       "      <td>6964</td>\n",
       "      <td>27520</td>\n",
       "      <td>27542</td>\n",
       "      <td>673</td>\n",
       "      <td>260</td>\n",
       "      <td>571868</td>\n",
       "      <td>18535</td>\n",
       "      <td>22:08:40</td>\n",
       "      <td>2020-10-31</td>\n",
       "      <td>814U01M70034</td>\n",
       "      <td>79720</td>\n",
       "    </tr>\n",
       "    <tr>\n",
       "      <th>1259</th>\n",
       "      <td>2020-10-31 22:14:34</td>\n",
       "      <td>27978</td>\n",
       "      <td>6945</td>\n",
       "      <td>27520</td>\n",
       "      <td>27543</td>\n",
       "      <td>646</td>\n",
       "      <td>260</td>\n",
       "      <td>571874</td>\n",
       "      <td>17792</td>\n",
       "      <td>22:14:34</td>\n",
       "      <td>2020-10-31</td>\n",
       "      <td>814U01M70034</td>\n",
       "      <td>80074</td>\n",
       "    </tr>\n",
       "    <tr>\n",
       "      <th>1260</th>\n",
       "      <td>2020-10-31 22:20:28</td>\n",
       "      <td>27971</td>\n",
       "      <td>6957</td>\n",
       "      <td>27520</td>\n",
       "      <td>27540</td>\n",
       "      <td>629</td>\n",
       "      <td>260</td>\n",
       "      <td>571880</td>\n",
       "      <td>17322</td>\n",
       "      <td>22:20:28</td>\n",
       "      <td>2020-10-31</td>\n",
       "      <td>814U01M70034</td>\n",
       "      <td>80428</td>\n",
       "    </tr>\n",
       "    <tr>\n",
       "      <th>1261</th>\n",
       "      <td>2020-10-31 22:26:22</td>\n",
       "      <td>27972</td>\n",
       "      <td>6961</td>\n",
       "      <td>27520</td>\n",
       "      <td>27533</td>\n",
       "      <td>616</td>\n",
       "      <td>260</td>\n",
       "      <td>571886</td>\n",
       "      <td>16960</td>\n",
       "      <td>22:26:22</td>\n",
       "      <td>2020-10-31</td>\n",
       "      <td>814U01M70034</td>\n",
       "      <td>80782</td>\n",
       "    </tr>\n",
       "    <tr>\n",
       "      <th>1262</th>\n",
       "      <td>2020-10-31 22:32:16</td>\n",
       "      <td>27973</td>\n",
       "      <td>6935</td>\n",
       "      <td>27520</td>\n",
       "      <td>27540</td>\n",
       "      <td>602</td>\n",
       "      <td>260</td>\n",
       "      <td>571892</td>\n",
       "      <td>16579</td>\n",
       "      <td>22:32:16</td>\n",
       "      <td>2020-10-31</td>\n",
       "      <td>814U01M70034</td>\n",
       "      <td>81136</td>\n",
       "    </tr>\n",
       "    <tr>\n",
       "      <th>1263</th>\n",
       "      <td>2020-10-31 22:38:09</td>\n",
       "      <td>27971</td>\n",
       "      <td>6933</td>\n",
       "      <td>27520</td>\n",
       "      <td>27537</td>\n",
       "      <td>618</td>\n",
       "      <td>260</td>\n",
       "      <td>571898</td>\n",
       "      <td>17017</td>\n",
       "      <td>22:38:09</td>\n",
       "      <td>2020-10-31</td>\n",
       "      <td>814U01M70034</td>\n",
       "      <td>81489</td>\n",
       "    </tr>\n",
       "    <tr>\n",
       "      <th>1264</th>\n",
       "      <td>2020-10-31 22:44:03</td>\n",
       "      <td>27972</td>\n",
       "      <td>6967</td>\n",
       "      <td>27520</td>\n",
       "      <td>27541</td>\n",
       "      <td>643</td>\n",
       "      <td>260</td>\n",
       "      <td>571904</td>\n",
       "      <td>17708</td>\n",
       "      <td>22:44:03</td>\n",
       "      <td>2020-10-31</td>\n",
       "      <td>814U01M70034</td>\n",
       "      <td>81843</td>\n",
       "    </tr>\n",
       "    <tr>\n",
       "      <th>1265</th>\n",
       "      <td>2020-10-31 22:49:57</td>\n",
       "      <td>27972</td>\n",
       "      <td>6947</td>\n",
       "      <td>27520</td>\n",
       "      <td>27536</td>\n",
       "      <td>748</td>\n",
       "      <td>260</td>\n",
       "      <td>571910</td>\n",
       "      <td>20596</td>\n",
       "      <td>22:49:57</td>\n",
       "      <td>2020-10-31</td>\n",
       "      <td>814U01M70034</td>\n",
       "      <td>82197</td>\n",
       "    </tr>\n",
       "  </tbody>\n",
       "</table>\n",
       "</div>"
      ],
      "text/plain": [
       "                     DATE    VIN   IIN   VOUT  VBATT  IBATT  TEMP     CNT  \\\n",
       "1256  2020-10-31 21:56:52  27986  6985  27520  27550    708   265  571856   \n",
       "1257  2020-10-31 22:02:46  27973  6968  27520  27545    566   260  571862   \n",
       "1258  2020-10-31 22:08:40  27981  6964  27520  27542    673   260  571868   \n",
       "1259  2020-10-31 22:14:34  27978  6945  27520  27543    646   260  571874   \n",
       "1260  2020-10-31 22:20:28  27971  6957  27520  27540    629   260  571880   \n",
       "1261  2020-10-31 22:26:22  27972  6961  27520  27533    616   260  571886   \n",
       "1262  2020-10-31 22:32:16  27973  6935  27520  27540    602   260  571892   \n",
       "1263  2020-10-31 22:38:09  27971  6933  27520  27537    618   260  571898   \n",
       "1264  2020-10-31 22:44:03  27972  6967  27520  27541    643   260  571904   \n",
       "1265  2020-10-31 22:49:57  27972  6947  27520  27536    748   260  571910   \n",
       "\n",
       "      POWER      time        date       host_id  time_sec  \n",
       "1256  19505  21:56:52  2020-10-31  814U01M70034     79012  \n",
       "1257  15590  22:02:46  2020-10-31  814U01M70034     79366  \n",
       "1258  18535  22:08:40  2020-10-31  814U01M70034     79720  \n",
       "1259  17792  22:14:34  2020-10-31  814U01M70034     80074  \n",
       "1260  17322  22:20:28  2020-10-31  814U01M70034     80428  \n",
       "1261  16960  22:26:22  2020-10-31  814U01M70034     80782  \n",
       "1262  16579  22:32:16  2020-10-31  814U01M70034     81136  \n",
       "1263  17017  22:38:09  2020-10-31  814U01M70034     81489  \n",
       "1264  17708  22:44:03  2020-10-31  814U01M70034     81843  \n",
       "1265  20596  22:49:57  2020-10-31  814U01M70034     82197  "
      ]
     },
     "execution_count": 56,
     "metadata": {},
     "output_type": "execute_result"
    }
   ],
   "source": [
    "DF_7000_dopo22=DF_IIN_7000[DF_IIN_7000.time_sec>79000]\n",
    "DF_7000_dopo22.head(10)"
   ]
  },
  {
   "cell_type": "markdown",
   "metadata": {},
   "source": [
    "Abbiamo trovato che solo 111 host hanno avuto la corrente d'ingresso superiore à 5500 mA dopo le ore 22. \n",
    "    \n",
    "Vi mandiamo il file CSV dove tutti gli host sono indicati.\n"
   ]
  },
  {
   "cell_type": "code",
   "execution_count": 58,
   "metadata": {},
   "outputs": [
    {
     "data": {
      "text/plain": [
       "111"
      ]
     },
     "execution_count": 58,
     "metadata": {},
     "output_type": "execute_result"
    }
   ],
   "source": [
    "c=[c for c in DF_7000_dopo22.host_id.unique()]\n",
    "len(c)"
   ]
  },
  {
   "cell_type": "code",
   "execution_count": 57,
   "metadata": {},
   "outputs": [],
   "source": [
    "DF_7000_dopo22.to_csv('7000_dopo22.csv',sep=';', index=False)"
   ]
  },
  {
   "cell_type": "code",
   "execution_count": 59,
   "metadata": {},
   "outputs": [],
   "source": [
    "my_Data['time']=[datetime.datetime.strptime(x,'%H:%M:%S').time() for x in my_Data['time']]\n",
    "pd.plotting.register_matplotlib_converters()\n",
    "start=min(my_Data['time'])\n",
    "end=max(my_Data['time'])\n",
    "interval=[datetime.time(i, 0) for i in range(start.hour, end.hour+1)]"
   ]
  },
  {
   "cell_type": "markdown",
   "metadata": {},
   "source": [
    "#### Nella cella successiva facciamo il plot di alcuni host che hanno presentato una anomalia cioè IIN> 5500 dope le ore 22: abbiamo preso come esempio l'host 814U01M70034"
   ]
  },
  {
   "cell_type": "code",
   "execution_count": 60,
   "metadata": {},
   "outputs": [
    {
     "data": {
      "text/plain": [
       "<Figure size 432x288 with 0 Axes>"
      ]
     },
     "metadata": {},
     "output_type": "display_data"
    },
    {
     "data": {
      "image/png": "[encoded data removed]",
      "text/plain": [
       "<Figure size 1440x432 with 1 Axes>"
      ]
     },
     "metadata": {
      "needs_background": "light"
     },
     "output_type": "display_data"
    },
    {
     "data": {
      "text/plain": [
       "<Figure size 432x288 with 0 Axes>"
      ]
     },
     "metadata": {},
     "output_type": "display_data"
    },
    {
     "data": {
      "image/png": "[encoded data removed]",
      "text/plain": [
       "<Figure size 1440x432 with 1 Axes>"
      ]
     },
     "metadata": {
      "needs_background": "light"
     },
     "output_type": "display_data"
    },
    {
     "data": {
      "text/plain": [
       "<Figure size 432x288 with 0 Axes>"
      ]
     },
     "metadata": {},
     "output_type": "display_data"
    },
    {
     "data": {
      "image/png": "[encoded data removed]",
      "text/plain": [
       "<Figure size 1440x432 with 1 Axes>"
      ]
     },
     "metadata": {
      "needs_background": "light"
     },
     "output_type": "display_data"
    },
    {
     "data": {
      "text/plain": [
       "<Figure size 432x288 with 0 Axes>"
      ]
     },
     "metadata": {},
     "output_type": "display_data"
    },
    {
     "data": {
      "image/png": "[encoded data removed]",
      "text/plain": [
       "<Figure size 1440x432 with 1 Axes>"
      ]
     },
     "metadata": {
      "needs_background": "light"
     },
     "output_type": "display_data"
    },
    {
     "data": {
      "text/plain": [
       "<Figure size 432x288 with 0 Axes>"
      ]
     },
     "metadata": {},
     "output_type": "display_data"
    },
    {
     "data": {
      "image/png": "[encoded data removed]",
      "text/plain": [
       "<Figure size 1440x432 with 1 Axes>"
      ]
     },
     "metadata": {
      "needs_background": "light"
     },
     "output_type": "display_data"
    },
    {
     "data": {
      "text/plain": [
       "<Figure size 432x288 with 0 Axes>"
      ]
     },
     "metadata": {},
     "output_type": "display_data"
    },
    {
     "data": {
      "image/png": "[encoded data removed]",
      "text/plain": [
       "<Figure size 1440x432 with 1 Axes>"
      ]
     },
     "metadata": {
      "needs_background": "light"
     },
     "output_type": "display_data"
    }
   ],
   "source": [
    "host='814U01M70034'\n",
    "for i, date in enumerate(list_date): \n",
    "    plt.figure(i)\n",
    "    fig, ax= plt.subplots(figsize=(20,6))\n",
    "    df=my_Data[(my_Data.date==date)& (my_Data.host_id==host)]\n",
    "    #ax1.set_title('Temperature and IIN behavior per day {}'.format(date))\n",
    "    plt.plot(df['time'], df['IIN'],'bo', label=date)\n",
    "    plt.ylabel('IIN')\n",
    "    plt.title(host)\n",
    "    plt.xticks(interval, rotation=90)\n",
    "    plt.grid()\n",
    "    plt.legend()\n",
    "    #ax1.set_xticklabels(interval,rotation=90)\n",
    "    plt.savefig('./anomali/IINVsTime{}.png'.format(date))\n",
    "    plt.show()"
   ]
  },
  {
   "cell_type": "code",
   "execution_count": 61,
   "metadata": {},
   "outputs": [],
   "source": [
    "new_data=my_Data[my_Data.host_id=='814U01M71106']\n",
    "new_data=new_data[['VIN','IIN','VOUT','VBATT','IBATT','TEMP','time','date','host_id']]\n",
    "new_data.to_csv('1106.csv',sep=';',index=False)"
   ]
  },
  {
   "cell_type": "code",
   "execution_count": null,
   "metadata": {},
   "outputs": [],
   "source": [
    "new_data=my_Data[my_Data.host_id=='814U01M70107')]\n",
    "new_data=new_data[['VIN','IIN','VOUT','VBATT','IBATT','TEMP','time','date','host_id']]\n",
    "new_data.to_csv('0107.csv',sep=';',index=False)"
   ]
  },
  {
   "cell_type": "code",
   "execution_count": 97,
   "metadata": {},
   "outputs": [
    {
     "data": {
      "text/html": [
       "<div>\n",
       "<style scoped>\n",
       "    .dataframe tbody tr th:only-of-type {\n",
       "        vertical-align: middle;\n",
       "    }\n",
       "\n",
       "    .dataframe tbody tr th {\n",
       "        vertical-align: top;\n",
       "    }\n",
       "\n",
       "    .dataframe thead th {\n",
       "        text-align: right;\n",
       "    }\n",
       "</style>\n",
       "<table border=\"1\" class=\"dataframe\">\n",
       "  <thead>\n",
       "    <tr style=\"text-align: right;\">\n",
       "      <th></th>\n",
       "      <th>DATE</th>\n",
       "      <th>VIN</th>\n",
       "      <th>IIN</th>\n",
       "      <th>VOUT</th>\n",
       "      <th>VBATT</th>\n",
       "      <th>IBATT</th>\n",
       "      <th>TEMP</th>\n",
       "      <th>CNT</th>\n",
       "      <th>POWER</th>\n",
       "      <th>time</th>\n",
       "      <th>date</th>\n",
       "      <th>host_id</th>\n",
       "    </tr>\n",
       "  </thead>\n",
       "  <tbody>\n",
       "    <tr>\n",
       "      <th>965381</th>\n",
       "      <td>2020-10-31 00:00:14</td>\n",
       "      <td>29247</td>\n",
       "      <td>857</td>\n",
       "      <td>29595</td>\n",
       "      <td>29140</td>\n",
       "      <td>596</td>\n",
       "      <td>270</td>\n",
       "      <td>361646</td>\n",
       "      <td>17367</td>\n",
       "      <td>00:00:14</td>\n",
       "      <td>2020-10-31</td>\n",
       "      <td>814U01M71106</td>\n",
       "    </tr>\n",
       "    <tr>\n",
       "      <th>965382</th>\n",
       "      <td>2020-10-31 00:01:13</td>\n",
       "      <td>29250</td>\n",
       "      <td>719</td>\n",
       "      <td>29637</td>\n",
       "      <td>29152</td>\n",
       "      <td>556</td>\n",
       "      <td>265</td>\n",
       "      <td>361647</td>\n",
       "      <td>16208</td>\n",
       "      <td>00:01:13</td>\n",
       "      <td>2020-10-31</td>\n",
       "      <td>814U01M71106</td>\n",
       "    </tr>\n",
       "    <tr>\n",
       "      <th>965383</th>\n",
       "      <td>2020-10-31 00:02:12</td>\n",
       "      <td>29236</td>\n",
       "      <td>-10</td>\n",
       "      <td>29595</td>\n",
       "      <td>29118</td>\n",
       "      <td>641</td>\n",
       "      <td>265</td>\n",
       "      <td>361648</td>\n",
       "      <td>18664</td>\n",
       "      <td>00:02:12</td>\n",
       "      <td>2020-10-31</td>\n",
       "      <td>814U01M71106</td>\n",
       "    </tr>\n",
       "    <tr>\n",
       "      <th>965384</th>\n",
       "      <td>2020-10-31 00:03:11</td>\n",
       "      <td>29245</td>\n",
       "      <td>-12</td>\n",
       "      <td>28848</td>\n",
       "      <td>28377</td>\n",
       "      <td>705</td>\n",
       "      <td>265</td>\n",
       "      <td>361649</td>\n",
       "      <td>20005</td>\n",
       "      <td>00:03:11</td>\n",
       "      <td>2020-10-31</td>\n",
       "      <td>814U01M71106</td>\n",
       "    </tr>\n",
       "    <tr>\n",
       "      <th>965385</th>\n",
       "      <td>2020-10-31 00:04:11</td>\n",
       "      <td>29296</td>\n",
       "      <td>-13</td>\n",
       "      <td>28433</td>\n",
       "      <td>27972</td>\n",
       "      <td>691</td>\n",
       "      <td>265</td>\n",
       "      <td>361650</td>\n",
       "      <td>19328</td>\n",
       "      <td>00:04:11</td>\n",
       "      <td>2020-10-31</td>\n",
       "      <td>814U01M71106</td>\n",
       "    </tr>\n",
       "    <tr>\n",
       "      <th>...</th>\n",
       "      <td>...</td>\n",
       "      <td>...</td>\n",
       "      <td>...</td>\n",
       "      <td>...</td>\n",
       "      <td>...</td>\n",
       "      <td>...</td>\n",
       "      <td>...</td>\n",
       "      <td>...</td>\n",
       "      <td>...</td>\n",
       "      <td>...</td>\n",
       "      <td>...</td>\n",
       "      <td>...</td>\n",
       "    </tr>\n",
       "    <tr>\n",
       "      <th>5969297</th>\n",
       "      <td>2020-11-05 23:55:30</td>\n",
       "      <td>29252</td>\n",
       "      <td>-12</td>\n",
       "      <td>27852</td>\n",
       "      <td>27437</td>\n",
       "      <td>707</td>\n",
       "      <td>180</td>\n",
       "      <td>370408</td>\n",
       "      <td>19397</td>\n",
       "      <td>23:55:30</td>\n",
       "      <td>2020-11-05</td>\n",
       "      <td>814U01M71106</td>\n",
       "    </tr>\n",
       "    <tr>\n",
       "      <th>5969298</th>\n",
       "      <td>2020-11-05 23:56:29</td>\n",
       "      <td>29248</td>\n",
       "      <td>-13</td>\n",
       "      <td>27728</td>\n",
       "      <td>27296</td>\n",
       "      <td>611</td>\n",
       "      <td>180</td>\n",
       "      <td>370409</td>\n",
       "      <td>16677</td>\n",
       "      <td>23:56:29</td>\n",
       "      <td>2020-11-05</td>\n",
       "      <td>814U01M71106</td>\n",
       "    </tr>\n",
       "    <tr>\n",
       "      <th>5969299</th>\n",
       "      <td>2020-11-05 23:57:28</td>\n",
       "      <td>27996</td>\n",
       "      <td>7100</td>\n",
       "      <td>27977</td>\n",
       "      <td>27598</td>\n",
       "      <td>696</td>\n",
       "      <td>180</td>\n",
       "      <td>370410</td>\n",
       "      <td>19208</td>\n",
       "      <td>23:57:28</td>\n",
       "      <td>2020-11-05</td>\n",
       "      <td>814U01M71106</td>\n",
       "    </tr>\n",
       "    <tr>\n",
       "      <th>5969300</th>\n",
       "      <td>2020-11-05 23:58:27</td>\n",
       "      <td>29241</td>\n",
       "      <td>1093</td>\n",
       "      <td>29595</td>\n",
       "      <td>29125</td>\n",
       "      <td>558</td>\n",
       "      <td>180</td>\n",
       "      <td>370411</td>\n",
       "      <td>16251</td>\n",
       "      <td>23:58:27</td>\n",
       "      <td>2020-11-05</td>\n",
       "      <td>814U01M71106</td>\n",
       "    </tr>\n",
       "    <tr>\n",
       "      <th>5969301</th>\n",
       "      <td>2020-11-05 23:59:27</td>\n",
       "      <td>29226</td>\n",
       "      <td>-8</td>\n",
       "      <td>29554</td>\n",
       "      <td>29095</td>\n",
       "      <td>572</td>\n",
       "      <td>180</td>\n",
       "      <td>370412</td>\n",
       "      <td>16642</td>\n",
       "      <td>23:59:27</td>\n",
       "      <td>2020-11-05</td>\n",
       "      <td>814U01M71106</td>\n",
       "    </tr>\n",
       "  </tbody>\n",
       "</table>\n",
       "<p>8767 rows × 12 columns</p>\n",
       "</div>"
      ],
      "text/plain": [
       "                        DATE    VIN   IIN   VOUT  VBATT  IBATT  TEMP     CNT  \\\n",
       "965381   2020-10-31 00:00:14  29247   857  29595  29140    596   270  361646   \n",
       "965382   2020-10-31 00:01:13  29250   719  29637  29152    556   265  361647   \n",
       "965383   2020-10-31 00:02:12  29236   -10  29595  29118    641   265  361648   \n",
       "965384   2020-10-31 00:03:11  29245   -12  28848  28377    705   265  361649   \n",
       "965385   2020-10-31 00:04:11  29296   -13  28433  27972    691   265  361650   \n",
       "...                      ...    ...   ...    ...    ...    ...   ...     ...   \n",
       "5969297  2020-11-05 23:55:30  29252   -12  27852  27437    707   180  370408   \n",
       "5969298  2020-11-05 23:56:29  29248   -13  27728  27296    611   180  370409   \n",
       "5969299  2020-11-05 23:57:28  27996  7100  27977  27598    696   180  370410   \n",
       "5969300  2020-11-05 23:58:27  29241  1093  29595  29125    558   180  370411   \n",
       "5969301  2020-11-05 23:59:27  29226    -8  29554  29095    572   180  370412   \n",
       "\n",
       "         POWER      time        date       host_id  \n",
       "965381   17367  00:00:14  2020-10-31  814U01M71106  \n",
       "965382   16208  00:01:13  2020-10-31  814U01M71106  \n",
       "965383   18664  00:02:12  2020-10-31  814U01M71106  \n",
       "965384   20005  00:03:11  2020-10-31  814U01M71106  \n",
       "965385   19328  00:04:11  2020-10-31  814U01M71106  \n",
       "...        ...       ...         ...           ...  \n",
       "5969297  19397  23:55:30  2020-11-05  814U01M71106  \n",
       "5969298  16677  23:56:29  2020-11-05  814U01M71106  \n",
       "5969299  19208  23:57:28  2020-11-05  814U01M71106  \n",
       "5969300  16251  23:58:27  2020-11-05  814U01M71106  \n",
       "5969301  16642  23:59:27  2020-11-05  814U01M71106  \n",
       "\n",
       "[8767 rows x 12 columns]"
      ]
     },
     "execution_count": 97,
     "metadata": {},
     "output_type": "execute_result"
    }
   ],
   "source": [
    "test=dati[(dati.host_id=='814U01M71106')&(date=='2020-11-05')]\n",
    "test"
   ]
  },
  {
   "cell_type": "code",
   "execution_count": 89,
   "metadata": {},
   "outputs": [
    {
     "data": {
      "text/plain": [
       "['2020-10-31',\n",
       " '2020-11-01',\n",
       " '2020-11-02',\n",
       " '2020-11-03',\n",
       " '2020-11-04',\n",
       " '2020-11-05']"
      ]
     },
     "execution_count": 89,
     "metadata": {},
     "output_type": "execute_result"
    }
   ],
   "source": [
    "c=[ c for c in dati.date.unique()]\n",
    "c"
   ]
  },
  {
   "cell_type": "code",
   "execution_count": 85,
   "metadata": {},
   "outputs": [
    {
     "data": {
      "text/html": [
       "<div>\n",
       "<style scoped>\n",
       "    .dataframe tbody tr th:only-of-type {\n",
       "        vertical-align: middle;\n",
       "    }\n",
       "\n",
       "    .dataframe tbody tr th {\n",
       "        vertical-align: top;\n",
       "    }\n",
       "\n",
       "    .dataframe thead th {\n",
       "        text-align: right;\n",
       "    }\n",
       "</style>\n",
       "<table border=\"1\" class=\"dataframe\">\n",
       "  <thead>\n",
       "    <tr style=\"text-align: right;\">\n",
       "      <th></th>\n",
       "      <th>DATE</th>\n",
       "      <th>VIN</th>\n",
       "      <th>IIN</th>\n",
       "      <th>VOUT</th>\n",
       "      <th>VBATT</th>\n",
       "      <th>IBATT</th>\n",
       "      <th>TEMP</th>\n",
       "      <th>CNT</th>\n",
       "      <th>POWER</th>\n",
       "      <th>time</th>\n",
       "      <th>date</th>\n",
       "      <th>host_id</th>\n",
       "    </tr>\n",
       "  </thead>\n",
       "  <tbody>\n",
       "    <tr>\n",
       "      <th>0</th>\n",
       "      <td>2020-10-31 00:00:32</td>\n",
       "      <td>29167</td>\n",
       "      <td>618</td>\n",
       "      <td>29097</td>\n",
       "      <td>29066</td>\n",
       "      <td>795</td>\n",
       "      <td>265</td>\n",
       "      <td>12497</td>\n",
       "      <td>23107</td>\n",
       "      <td>00:00:32</td>\n",
       "      <td>2020-10-31</td>\n",
       "      <td>814U01M70006</td>\n",
       "    </tr>\n",
       "    <tr>\n",
       "      <th>1</th>\n",
       "      <td>2020-10-31 00:01:31</td>\n",
       "      <td>29167</td>\n",
       "      <td>619</td>\n",
       "      <td>29097</td>\n",
       "      <td>29048</td>\n",
       "      <td>576</td>\n",
       "      <td>265</td>\n",
       "      <td>12498</td>\n",
       "      <td>16731</td>\n",
       "      <td>00:01:31</td>\n",
       "      <td>2020-10-31</td>\n",
       "      <td>814U01M70006</td>\n",
       "    </tr>\n",
       "    <tr>\n",
       "      <th>2</th>\n",
       "      <td>2020-10-31 00:02:30</td>\n",
       "      <td>29166</td>\n",
       "      <td>691</td>\n",
       "      <td>29097</td>\n",
       "      <td>29065</td>\n",
       "      <td>746</td>\n",
       "      <td>265</td>\n",
       "      <td>12499</td>\n",
       "      <td>21682</td>\n",
       "      <td>00:02:30</td>\n",
       "      <td>2020-10-31</td>\n",
       "      <td>814U01M70006</td>\n",
       "    </tr>\n",
       "  </tbody>\n",
       "</table>\n",
       "</div>"
      ],
      "text/plain": [
       "                  DATE    VIN  IIN   VOUT  VBATT  IBATT  TEMP    CNT  POWER  \\\n",
       "0  2020-10-31 00:00:32  29167  618  29097  29066    795   265  12497  23107   \n",
       "1  2020-10-31 00:01:31  29167  619  29097  29048    576   265  12498  16731   \n",
       "2  2020-10-31 00:02:30  29166  691  29097  29065    746   265  12499  21682   \n",
       "\n",
       "       time        date       host_id  \n",
       "0  00:00:32  2020-10-31  814U01M70006  \n",
       "1  00:01:31  2020-10-31  814U01M70006  \n",
       "2  00:02:30  2020-10-31  814U01M70006  "
      ]
     },
     "execution_count": 85,
     "metadata": {},
     "output_type": "execute_result"
    }
   ],
   "source": [
    "dati.head(3)"
   ]
  },
  {
   "cell_type": "markdown",
   "metadata": {},
   "source": [
    "Abbiamo anche selezionato gli host 814U01M71106 e 814U01M70107. Vi alleghiamo un file csv per ciascuno di questi host"
   ]
  },
  {
   "cell_type": "markdown",
   "metadata": {},
   "source": [
    "## I casi di caricamento chi ha durato  meno di un'ora "
   ]
  },
  {
   "cell_type": "markdown",
   "metadata": {},
   "source": [
    "Nella cella successiva abbiamo selezionato gli host che hanno avuto una durata di caraicamento meno di un'ora. A bbiamo trovato che la maggiore parte dei host hanno avuto una durata al intorno di 3600 secondi tranne alcuni outliers"
   ]
  },
  {
   "cell_type": "code",
   "execution_count": 62,
   "metadata": {},
   "outputs": [
    {
     "data": {
      "text/plain": [
       "[Text(0, 0, '2020-10-31'),\n",
       " Text(1, 0, '2020-11-01'),\n",
       " Text(2, 0, '2020-11-02'),\n",
       " Text(3, 0, '2020-11-03'),\n",
       " Text(4, 0, '2020-11-04'),\n",
       " Text(5, 0, '2020-11-05')]"
      ]
     },
     "execution_count": 62,
     "metadata": {},
     "output_type": "execute_result"
    },
    {
     "data": {
      "image/png": "[encoded data removed]",
      "text/plain": [
       "<Figure size 432x288 with 1 Axes>"
      ]
     },
     "metadata": {
      "needs_background": "light"
     },
     "output_type": "display_data"
    }
   ],
   "source": [
    "DF_Carica_menoora=DF_IIN_7000_max[DF_IIN_7000_max.durata<3600]\n",
    "ax = sns.boxplot(x=DF_Carica_menoora['date'], y=DF_Carica_menoora['durata'])\n",
    "ax.set_xticklabels(list_date, rotation=30)"
   ]
  },
  {
   "cell_type": "markdown",
   "metadata": {},
   "source": [
    "Nella cella successiva abbiamo selezionato gli host che hanno avuto una durata di caricamento di meno di un'ora. Abbiamo trovato che la maggior parte degli host hanno avuto una durata al intorno di 3600 secondi tranne alcuni outliers"
   ]
  },
  {
   "cell_type": "code",
   "execution_count": 63,
   "metadata": {},
   "outputs": [
    {
     "data": {
      "text/plain": [
       "231"
      ]
     },
     "execution_count": 63,
     "metadata": {},
     "output_type": "execute_result"
    }
   ],
   "source": [
    "c=[ c for c in DF_Carica_menoora.host_id.unique()]\n",
    "len(c)"
   ]
  },
  {
   "cell_type": "markdown",
   "metadata": {},
   "source": [
    "## I casi di caricamento chi ha durato meno di 2000 secondi (quasi mezz'ora)"
   ]
  },
  {
   "cell_type": "markdown",
   "metadata": {},
   "source": [
    "Nella cella successiva abbiamo selezionato gli host che hanno avuto una durata di caraicamento mno di 2000 secondi. Abbiamo trovato che solo 10 host hanno avuto questa condizione che sono indicati nel out [118]. Solo 5 giorni su 6 hanno avuto questo comportamento. la maggior parte dgli host hanno avuto una durata al intorno di 400 secondi  fino a 850 secondi. "
   ]
  },
  {
   "cell_type": "code",
   "execution_count": 64,
   "metadata": {},
   "outputs": [
    {
     "name": "stdout",
     "output_type": "stream",
     "text": [
      "10\n"
     ]
    },
    {
     "data": {
      "text/plain": [
       "['814U01M70098',\n",
       " '814U01M70316',\n",
       " '814U01M70412',\n",
       " '814U01M70778',\n",
       " '814U01M70019',\n",
       " '814U01M70024',\n",
       " '814U01M70101',\n",
       " '814U01M70251',\n",
       " '814U01M70360',\n",
       " '814U01M70321']"
      ]
     },
     "execution_count": 64,
     "metadata": {},
     "output_type": "execute_result"
    }
   ],
   "source": [
    "DF_Carica_meno30=DF_IIN_7000_max[DF_IIN_7000_max.durata<2000]\n",
    "c=[ c for c in DF_Carica_meno30.host_id.unique()]\n",
    "print(len(c))\n",
    "c"
   ]
  },
  {
   "cell_type": "code",
   "execution_count": 65,
   "metadata": {},
   "outputs": [
    {
     "data": {
      "text/plain": [
       "['2020-10-31', '2020-11-01', '2020-11-02', '2020-11-03', '2020-11-05']"
      ]
     },
     "execution_count": 65,
     "metadata": {},
     "output_type": "execute_result"
    }
   ],
   "source": [
    "list_dat=[c for c in DF_Carica_meno30.date.unique()]\n",
    "list_dat"
   ]
  },
  {
   "cell_type": "code",
   "execution_count": 66,
   "metadata": {},
   "outputs": [
    {
     "data": {
      "text/plain": [
       "[Text(0, 0, '2020-10-31'),\n",
       " Text(1, 0, '2020-11-01'),\n",
       " Text(2, 0, '2020-11-02'),\n",
       " Text(3, 0, '2020-11-03'),\n",
       " Text(4, 0, '2020-11-05')]"
      ]
     },
     "execution_count": 66,
     "metadata": {},
     "output_type": "execute_result"
    },
    {
     "data": {
      "image/png": "[encoded data removed]",
      "text/plain": [
       "<Figure size 432x288 with 1 Axes>"
      ]
     },
     "metadata": {
      "needs_background": "light"
     },
     "output_type": "display_data"
    }
   ],
   "source": [
    "ax = sns.boxplot(x=DF_Carica_meno30['date'], y=DF_Carica_meno30['durata'])\n",
    "ax.set_xticklabels(list_dat, rotation=30)"
   ]
  },
  {
   "cell_type": "code",
   "execution_count": 73,
   "metadata": {},
   "outputs": [
    {
     "data": {
      "text/html": [
       "<div>\n",
       "<style scoped>\n",
       "    .dataframe tbody tr th:only-of-type {\n",
       "        vertical-align: middle;\n",
       "    }\n",
       "\n",
       "    .dataframe tbody tr th {\n",
       "        vertical-align: top;\n",
       "    }\n",
       "\n",
       "    .dataframe thead th {\n",
       "        text-align: right;\n",
       "    }\n",
       "</style>\n",
       "<table border=\"1\" class=\"dataframe\">\n",
       "  <thead>\n",
       "    <tr style=\"text-align: right;\">\n",
       "      <th></th>\n",
       "      <th>date</th>\n",
       "      <th>host_id</th>\n",
       "      <th>DATE</th>\n",
       "      <th>VIN</th>\n",
       "      <th>IIN</th>\n",
       "      <th>VOUT</th>\n",
       "      <th>VBATT</th>\n",
       "      <th>IBATT</th>\n",
       "      <th>TEMP</th>\n",
       "      <th>CNT</th>\n",
       "      <th>POWER</th>\n",
       "      <th>time</th>\n",
       "      <th>time_sec</th>\n",
       "      <th>durata</th>\n",
       "    </tr>\n",
       "  </thead>\n",
       "  <tbody>\n",
       "    <tr>\n",
       "      <th>45</th>\n",
       "      <td>2020-10-31</td>\n",
       "      <td>814U01M70098</td>\n",
       "      <td>2020-10-31 18:45:00</td>\n",
       "      <td>28950</td>\n",
       "      <td>7091</td>\n",
       "      <td>28516</td>\n",
       "      <td>28450</td>\n",
       "      <td>772</td>\n",
       "      <td>335</td>\n",
       "      <td>383061</td>\n",
       "      <td>21570</td>\n",
       "      <td>18:45:00</td>\n",
       "      <td>67500</td>\n",
       "      <td>943</td>\n",
       "    </tr>\n",
       "    <tr>\n",
       "      <th>163</th>\n",
       "      <td>2020-10-31</td>\n",
       "      <td>814U01M70316</td>\n",
       "      <td>2020-10-31 17:18:48</td>\n",
       "      <td>27641</td>\n",
       "      <td>7148</td>\n",
       "      <td>27188</td>\n",
       "      <td>27136</td>\n",
       "      <td>602</td>\n",
       "      <td>245</td>\n",
       "      <td>82695</td>\n",
       "      <td>16222</td>\n",
       "      <td>17:18:48</td>\n",
       "      <td>62328</td>\n",
       "      <td>59</td>\n",
       "    </tr>\n",
       "    <tr>\n",
       "      <th>229</th>\n",
       "      <td>2020-10-31</td>\n",
       "      <td>814U01M70412</td>\n",
       "      <td>2020-10-31 17:39:31</td>\n",
       "      <td>28756</td>\n",
       "      <td>7041</td>\n",
       "      <td>28309</td>\n",
       "      <td>28242</td>\n",
       "      <td>784</td>\n",
       "      <td>285</td>\n",
       "      <td>480669</td>\n",
       "      <td>21581</td>\n",
       "      <td>17:39:31</td>\n",
       "      <td>63571</td>\n",
       "      <td>415</td>\n",
       "    </tr>\n",
       "    <tr>\n",
       "      <th>486</th>\n",
       "      <td>2020-10-31</td>\n",
       "      <td>814U01M70778</td>\n",
       "      <td>2020-10-31 17:57:50</td>\n",
       "      <td>29048</td>\n",
       "      <td>7172</td>\n",
       "      <td>28392</td>\n",
       "      <td>28411</td>\n",
       "      <td>740</td>\n",
       "      <td>265</td>\n",
       "      <td>16</td>\n",
       "      <td>19957</td>\n",
       "      <td>17:57:50</td>\n",
       "      <td>64670</td>\n",
       "      <td>827</td>\n",
       "    </tr>\n",
       "    <tr>\n",
       "      <th>902</th>\n",
       "      <td>2020-11-01</td>\n",
       "      <td>814U01M70412</td>\n",
       "      <td>2020-11-01 17:36:32</td>\n",
       "      <td>28137</td>\n",
       "      <td>7037</td>\n",
       "      <td>27686</td>\n",
       "      <td>27605</td>\n",
       "      <td>751</td>\n",
       "      <td>275</td>\n",
       "      <td>482125</td>\n",
       "      <td>20731</td>\n",
       "      <td>17:36:32</td>\n",
       "      <td>63392</td>\n",
       "      <td>355</td>\n",
       "    </tr>\n",
       "    <tr>\n",
       "      <th>1355</th>\n",
       "      <td>2020-11-02</td>\n",
       "      <td>814U01M70019</td>\n",
       "      <td>2020-11-02 18:37:51</td>\n",
       "      <td>29140</td>\n",
       "      <td>7052</td>\n",
       "      <td>28682</td>\n",
       "      <td>28658</td>\n",
       "      <td>562</td>\n",
       "      <td>305</td>\n",
       "      <td>66432</td>\n",
       "      <td>15790</td>\n",
       "      <td>18:37:51</td>\n",
       "      <td>67071</td>\n",
       "      <td>118</td>\n",
       "    </tr>\n",
       "    <tr>\n",
       "      <th>1357</th>\n",
       "      <td>2020-11-02</td>\n",
       "      <td>814U01M70024</td>\n",
       "      <td>2020-11-02 11:33:05</td>\n",
       "      <td>28857</td>\n",
       "      <td>7008</td>\n",
       "      <td>28184</td>\n",
       "      <td>28263</td>\n",
       "      <td>918</td>\n",
       "      <td>300</td>\n",
       "      <td>577959</td>\n",
       "      <td>24864</td>\n",
       "      <td>11:33:05</td>\n",
       "      <td>41585</td>\n",
       "      <td>354</td>\n",
       "    </tr>\n",
       "    <tr>\n",
       "      <th>1395</th>\n",
       "      <td>2020-11-02</td>\n",
       "      <td>814U01M70101</td>\n",
       "      <td>2020-11-02 17:40:34</td>\n",
       "      <td>28066</td>\n",
       "      <td>7182</td>\n",
       "      <td>27769</td>\n",
       "      <td>27431</td>\n",
       "      <td>755</td>\n",
       "      <td>265</td>\n",
       "      <td>4875</td>\n",
       "      <td>20699</td>\n",
       "      <td>17:40:34</td>\n",
       "      <td>63634</td>\n",
       "      <td>709</td>\n",
       "    </tr>\n",
       "    <tr>\n",
       "      <th>1833</th>\n",
       "      <td>2020-11-02</td>\n",
       "      <td>814U01M70778</td>\n",
       "      <td>2020-11-02 09:25:47</td>\n",
       "      <td>27693</td>\n",
       "      <td>7165</td>\n",
       "      <td>26980</td>\n",
       "      <td>26960</td>\n",
       "      <td>595</td>\n",
       "      <td>265</td>\n",
       "      <td>961</td>\n",
       "      <td>16041</td>\n",
       "      <td>09:25:47</td>\n",
       "      <td>33947</td>\n",
       "      <td>236</td>\n",
       "    </tr>\n",
       "    <tr>\n",
       "      <th>2030</th>\n",
       "      <td>2020-11-03</td>\n",
       "      <td>814U01M70024</td>\n",
       "      <td>2020-11-03 11:44:07</td>\n",
       "      <td>28235</td>\n",
       "      <td>6978</td>\n",
       "      <td>27520</td>\n",
       "      <td>27676</td>\n",
       "      <td>616</td>\n",
       "      <td>230</td>\n",
       "      <td>579433</td>\n",
       "      <td>16993</td>\n",
       "      <td>11:44:07</td>\n",
       "      <td>42247</td>\n",
       "      <td>178</td>\n",
       "    </tr>\n",
       "    <tr>\n",
       "      <th>2146</th>\n",
       "      <td>2020-11-03</td>\n",
       "      <td>814U01M70251</td>\n",
       "      <td>2020-11-03 09:13:47</td>\n",
       "      <td>29020</td>\n",
       "      <td>7048</td>\n",
       "      <td>27977</td>\n",
       "      <td>28068</td>\n",
       "      <td>925</td>\n",
       "      <td>205</td>\n",
       "      <td>567916</td>\n",
       "      <td>25401</td>\n",
       "      <td>09:13:47</td>\n",
       "      <td>33227</td>\n",
       "      <td>594</td>\n",
       "    </tr>\n",
       "    <tr>\n",
       "      <th>2210</th>\n",
       "      <td>2020-11-03</td>\n",
       "      <td>814U01M70360</td>\n",
       "      <td>2020-11-03 17:27:14</td>\n",
       "      <td>27903</td>\n",
       "      <td>7148</td>\n",
       "      <td>27229</td>\n",
       "      <td>27258</td>\n",
       "      <td>581</td>\n",
       "      <td>205</td>\n",
       "      <td>538863</td>\n",
       "      <td>15675</td>\n",
       "      <td>17:27:14</td>\n",
       "      <td>62834</td>\n",
       "      <td>118</td>\n",
       "    </tr>\n",
       "    <tr>\n",
       "      <th>2500</th>\n",
       "      <td>2020-11-03</td>\n",
       "      <td>814U01M70778</td>\n",
       "      <td>2020-11-03 17:51:51</td>\n",
       "      <td>28620</td>\n",
       "      <td>7167</td>\n",
       "      <td>27935</td>\n",
       "      <td>27965</td>\n",
       "      <td>712</td>\n",
       "      <td>200</td>\n",
       "      <td>15</td>\n",
       "      <td>19389</td>\n",
       "      <td>17:51:51</td>\n",
       "      <td>64311</td>\n",
       "      <td>768</td>\n",
       "    </tr>\n",
       "    <tr>\n",
       "      <th>3518</th>\n",
       "      <td>2020-11-05</td>\n",
       "      <td>814U01M70321</td>\n",
       "      <td>2020-11-05 18:10:12</td>\n",
       "      <td>27767</td>\n",
       "      <td>7014</td>\n",
       "      <td>27478</td>\n",
       "      <td>27282</td>\n",
       "      <td>838</td>\n",
       "      <td>245</td>\n",
       "      <td>62</td>\n",
       "      <td>22854</td>\n",
       "      <td>18:10:12</td>\n",
       "      <td>65412</td>\n",
       "      <td>1590</td>\n",
       "    </tr>\n",
       "    <tr>\n",
       "      <th>3842</th>\n",
       "      <td>2020-11-05</td>\n",
       "      <td>814U01M70778</td>\n",
       "      <td>2020-11-05 17:49:50</td>\n",
       "      <td>29058</td>\n",
       "      <td>7168</td>\n",
       "      <td>28475</td>\n",
       "      <td>28493</td>\n",
       "      <td>663</td>\n",
       "      <td>200</td>\n",
       "      <td>16</td>\n",
       "      <td>18166</td>\n",
       "      <td>17:49:50</td>\n",
       "      <td>64190</td>\n",
       "      <td>827</td>\n",
       "    </tr>\n",
       "  </tbody>\n",
       "</table>\n",
       "</div>"
      ],
      "text/plain": [
       "            date       host_id                 DATE    VIN   IIN   VOUT  \\\n",
       "45    2020-10-31  814U01M70098  2020-10-31 18:45:00  28950  7091  28516   \n",
       "163   2020-10-31  814U01M70316  2020-10-31 17:18:48  27641  7148  27188   \n",
       "229   2020-10-31  814U01M70412  2020-10-31 17:39:31  28756  7041  28309   \n",
       "486   2020-10-31  814U01M70778  2020-10-31 17:57:50  29048  7172  28392   \n",
       "902   2020-11-01  814U01M70412  2020-11-01 17:36:32  28137  7037  27686   \n",
       "1355  2020-11-02  814U01M70019  2020-11-02 18:37:51  29140  7052  28682   \n",
       "1357  2020-11-02  814U01M70024  2020-11-02 11:33:05  28857  7008  28184   \n",
       "1395  2020-11-02  814U01M70101  2020-11-02 17:40:34  28066  7182  27769   \n",
       "1833  2020-11-02  814U01M70778  2020-11-02 09:25:47  27693  7165  26980   \n",
       "2030  2020-11-03  814U01M70024  2020-11-03 11:44:07  28235  6978  27520   \n",
       "2146  2020-11-03  814U01M70251  2020-11-03 09:13:47  29020  7048  27977   \n",
       "2210  2020-11-03  814U01M70360  2020-11-03 17:27:14  27903  7148  27229   \n",
       "2500  2020-11-03  814U01M70778  2020-11-03 17:51:51  28620  7167  27935   \n",
       "3518  2020-11-05  814U01M70321  2020-11-05 18:10:12  27767  7014  27478   \n",
       "3842  2020-11-05  814U01M70778  2020-11-05 17:49:50  29058  7168  28475   \n",
       "\n",
       "      VBATT  IBATT  TEMP     CNT  POWER      time  time_sec  durata  \n",
       "45    28450    772   335  383061  21570  18:45:00     67500     943  \n",
       "163   27136    602   245   82695  16222  17:18:48     62328      59  \n",
       "229   28242    784   285  480669  21581  17:39:31     63571     415  \n",
       "486   28411    740   265      16  19957  17:57:50     64670     827  \n",
       "902   27605    751   275  482125  20731  17:36:32     63392     355  \n",
       "1355  28658    562   305   66432  15790  18:37:51     67071     118  \n",
       "1357  28263    918   300  577959  24864  11:33:05     41585     354  \n",
       "1395  27431    755   265    4875  20699  17:40:34     63634     709  \n",
       "1833  26960    595   265     961  16041  09:25:47     33947     236  \n",
       "2030  27676    616   230  579433  16993  11:44:07     42247     178  \n",
       "2146  28068    925   205  567916  25401  09:13:47     33227     594  \n",
       "2210  27258    581   205  538863  15675  17:27:14     62834     118  \n",
       "2500  27965    712   200      15  19389  17:51:51     64311     768  \n",
       "3518  27282    838   245      62  22854  18:10:12     65412    1590  \n",
       "3842  28493    663   200      16  18166  17:49:50     64190     827  "
      ]
     },
     "execution_count": 73,
     "metadata": {},
     "output_type": "execute_result"
    }
   ],
   "source": [
    "DF_Carica_meno30"
   ]
  },
  {
   "cell_type": "code",
   "execution_count": 76,
   "metadata": {},
   "outputs": [
    {
     "data": {
      "text/plain": [
       "15"
      ]
     },
     "execution_count": 76,
     "metadata": {},
     "output_type": "execute_result"
    }
   ],
   "source": [
    "DF_Carica_meno30.shape[0]"
   ]
  },
  {
   "cell_type": "code",
   "execution_count": null,
   "metadata": {},
   "outputs": [],
   "source": [
    "814U01M70778"
   ]
  },
  {
   "cell_type": "code",
   "execution_count": 81,
   "metadata": {},
   "outputs": [
    {
     "data": {
      "text/html": [
       "<div>\n",
       "<style scoped>\n",
       "    .dataframe tbody tr th:only-of-type {\n",
       "        vertical-align: middle;\n",
       "    }\n",
       "\n",
       "    .dataframe tbody tr th {\n",
       "        vertical-align: top;\n",
       "    }\n",
       "\n",
       "    .dataframe thead th {\n",
       "        text-align: right;\n",
       "    }\n",
       "</style>\n",
       "<table border=\"1\" class=\"dataframe\">\n",
       "  <thead>\n",
       "    <tr style=\"text-align: right;\">\n",
       "      <th></th>\n",
       "      <th>DATE</th>\n",
       "      <th>VIN</th>\n",
       "      <th>IIN</th>\n",
       "      <th>VOUT</th>\n",
       "      <th>VBATT</th>\n",
       "      <th>IBATT</th>\n",
       "      <th>TEMP</th>\n",
       "      <th>CNT</th>\n",
       "      <th>POWER</th>\n",
       "      <th>time</th>\n",
       "      <th>date</th>\n",
       "      <th>host_id</th>\n",
       "    </tr>\n",
       "  </thead>\n",
       "  <tbody>\n",
       "    <tr>\n",
       "      <th>242839</th>\n",
       "      <td>2020-10-31 00:00:19</td>\n",
       "      <td>29175</td>\n",
       "      <td>675</td>\n",
       "      <td>29097</td>\n",
       "      <td>29053</td>\n",
       "      <td>576</td>\n",
       "      <td>275</td>\n",
       "      <td>81640</td>\n",
       "      <td>16734</td>\n",
       "      <td>00:00:19</td>\n",
       "      <td>2020-10-31</td>\n",
       "      <td>814U01M70316</td>\n",
       "    </tr>\n",
       "    <tr>\n",
       "      <th>242840</th>\n",
       "      <td>2020-10-31 00:01:18</td>\n",
       "      <td>29175</td>\n",
       "      <td>673</td>\n",
       "      <td>29139</td>\n",
       "      <td>29051</td>\n",
       "      <td>676</td>\n",
       "      <td>275</td>\n",
       "      <td>81641</td>\n",
       "      <td>19638</td>\n",
       "      <td>00:01:18</td>\n",
       "      <td>2020-10-31</td>\n",
       "      <td>814U01M70316</td>\n",
       "    </tr>\n",
       "    <tr>\n",
       "      <th>242841</th>\n",
       "      <td>2020-10-31 00:02:17</td>\n",
       "      <td>29173</td>\n",
       "      <td>736</td>\n",
       "      <td>29097</td>\n",
       "      <td>29075</td>\n",
       "      <td>526</td>\n",
       "      <td>275</td>\n",
       "      <td>81642</td>\n",
       "      <td>15293</td>\n",
       "      <td>00:02:17</td>\n",
       "      <td>2020-10-31</td>\n",
       "      <td>814U01M70316</td>\n",
       "    </tr>\n",
       "    <tr>\n",
       "      <th>242842</th>\n",
       "      <td>2020-10-31 00:03:16</td>\n",
       "      <td>29175</td>\n",
       "      <td>697</td>\n",
       "      <td>29139</td>\n",
       "      <td>29073</td>\n",
       "      <td>907</td>\n",
       "      <td>275</td>\n",
       "      <td>81643</td>\n",
       "      <td>26369</td>\n",
       "      <td>00:03:16</td>\n",
       "      <td>2020-10-31</td>\n",
       "      <td>814U01M70316</td>\n",
       "    </tr>\n",
       "    <tr>\n",
       "      <th>242843</th>\n",
       "      <td>2020-10-31 00:04:15</td>\n",
       "      <td>29175</td>\n",
       "      <td>742</td>\n",
       "      <td>29097</td>\n",
       "      <td>29068</td>\n",
       "      <td>598</td>\n",
       "      <td>275</td>\n",
       "      <td>81644</td>\n",
       "      <td>17382</td>\n",
       "      <td>00:04:15</td>\n",
       "      <td>2020-10-31</td>\n",
       "      <td>814U01M70316</td>\n",
       "    </tr>\n",
       "    <tr>\n",
       "      <th>...</th>\n",
       "      <td>...</td>\n",
       "      <td>...</td>\n",
       "      <td>...</td>\n",
       "      <td>...</td>\n",
       "      <td>...</td>\n",
       "      <td>...</td>\n",
       "      <td>...</td>\n",
       "      <td>...</td>\n",
       "      <td>...</td>\n",
       "      <td>...</td>\n",
       "      <td>...</td>\n",
       "      <td>...</td>\n",
       "    </tr>\n",
       "    <tr>\n",
       "      <th>244297</th>\n",
       "      <td>2020-10-31 23:55:31</td>\n",
       "      <td>0</td>\n",
       "      <td>0</td>\n",
       "      <td>26275</td>\n",
       "      <td>26242</td>\n",
       "      <td>643</td>\n",
       "      <td>210</td>\n",
       "      <td>83098</td>\n",
       "      <td>16873</td>\n",
       "      <td>23:55:31</td>\n",
       "      <td>2020-10-31</td>\n",
       "      <td>814U01M70316</td>\n",
       "    </tr>\n",
       "    <tr>\n",
       "      <th>244298</th>\n",
       "      <td>2020-10-31 23:56:30</td>\n",
       "      <td>0</td>\n",
       "      <td>0</td>\n",
       "      <td>26275</td>\n",
       "      <td>26242</td>\n",
       "      <td>679</td>\n",
       "      <td>210</td>\n",
       "      <td>83099</td>\n",
       "      <td>17818</td>\n",
       "      <td>23:56:30</td>\n",
       "      <td>2020-10-31</td>\n",
       "      <td>814U01M70316</td>\n",
       "    </tr>\n",
       "    <tr>\n",
       "      <th>244299</th>\n",
       "      <td>2020-10-31 23:57:29</td>\n",
       "      <td>0</td>\n",
       "      <td>0</td>\n",
       "      <td>26275</td>\n",
       "      <td>26247</td>\n",
       "      <td>582</td>\n",
       "      <td>210</td>\n",
       "      <td>83100</td>\n",
       "      <td>15275</td>\n",
       "      <td>23:57:29</td>\n",
       "      <td>2020-10-31</td>\n",
       "      <td>814U01M70316</td>\n",
       "    </tr>\n",
       "    <tr>\n",
       "      <th>244300</th>\n",
       "      <td>2020-10-31 23:58:29</td>\n",
       "      <td>0</td>\n",
       "      <td>0</td>\n",
       "      <td>26275</td>\n",
       "      <td>26242</td>\n",
       "      <td>591</td>\n",
       "      <td>210</td>\n",
       "      <td>83101</td>\n",
       "      <td>15509</td>\n",
       "      <td>23:58:29</td>\n",
       "      <td>2020-10-31</td>\n",
       "      <td>814U01M70316</td>\n",
       "    </tr>\n",
       "    <tr>\n",
       "      <th>244301</th>\n",
       "      <td>2020-10-31 23:59:28</td>\n",
       "      <td>0</td>\n",
       "      <td>0</td>\n",
       "      <td>26275</td>\n",
       "      <td>26241</td>\n",
       "      <td>606</td>\n",
       "      <td>210</td>\n",
       "      <td>83102</td>\n",
       "      <td>15902</td>\n",
       "      <td>23:59:28</td>\n",
       "      <td>2020-10-31</td>\n",
       "      <td>814U01M70316</td>\n",
       "    </tr>\n",
       "  </tbody>\n",
       "</table>\n",
       "<p>1463 rows × 12 columns</p>\n",
       "</div>"
      ],
      "text/plain": [
       "                       DATE    VIN  IIN   VOUT  VBATT  IBATT  TEMP    CNT  \\\n",
       "242839  2020-10-31 00:00:19  29175  675  29097  29053    576   275  81640   \n",
       "242840  2020-10-31 00:01:18  29175  673  29139  29051    676   275  81641   \n",
       "242841  2020-10-31 00:02:17  29173  736  29097  29075    526   275  81642   \n",
       "242842  2020-10-31 00:03:16  29175  697  29139  29073    907   275  81643   \n",
       "242843  2020-10-31 00:04:15  29175  742  29097  29068    598   275  81644   \n",
       "...                     ...    ...  ...    ...    ...    ...   ...    ...   \n",
       "244297  2020-10-31 23:55:31      0    0  26275  26242    643   210  83098   \n",
       "244298  2020-10-31 23:56:30      0    0  26275  26242    679   210  83099   \n",
       "244299  2020-10-31 23:57:29      0    0  26275  26247    582   210  83100   \n",
       "244300  2020-10-31 23:58:29      0    0  26275  26242    591   210  83101   \n",
       "244301  2020-10-31 23:59:28      0    0  26275  26241    606   210  83102   \n",
       "\n",
       "        POWER      time        date       host_id  \n",
       "242839  16734  00:00:19  2020-10-31  814U01M70316  \n",
       "242840  19638  00:01:18  2020-10-31  814U01M70316  \n",
       "242841  15293  00:02:17  2020-10-31  814U01M70316  \n",
       "242842  26369  00:03:16  2020-10-31  814U01M70316  \n",
       "242843  17382  00:04:15  2020-10-31  814U01M70316  \n",
       "...       ...       ...         ...           ...  \n",
       "244297  16873  23:55:31  2020-10-31  814U01M70316  \n",
       "244298  17818  23:56:30  2020-10-31  814U01M70316  \n",
       "244299  15275  23:57:29  2020-10-31  814U01M70316  \n",
       "244300  15509  23:58:29  2020-10-31  814U01M70316  \n",
       "244301  15902  23:59:28  2020-10-31  814U01M70316  \n",
       "\n",
       "[1463 rows x 12 columns]"
      ]
     },
     "execution_count": 81,
     "metadata": {},
     "output_type": "execute_result"
    }
   ],
   "source": [
    "test=dati[(dati.host_id=='814U01M70316') & (dati.date=='2020-10-31')]\n",
    "test"
   ]
  },
  {
   "cell_type": "code",
   "execution_count": 83,
   "metadata": {},
   "outputs": [],
   "source": [
    "test.to_csv('814U01M70316.csv',sep=';', index=False)"
   ]
  },
  {
   "cell_type": "code",
   "execution_count": null,
   "metadata": {},
   "outputs": [],
   "source": []
  }
 ],
 "metadata": {
  "kernelspec": {
   "display_name": "Python 3",
   "language": "python",
   "name": "python3"
  },
  "language_info": {
   "codemirror_mode": {
    "name": "ipython",
    "version": 3
   },
   "file_extension": ".py",
   "mimetype": "text/x-python",
   "name": "python",
   "nbconvert_exporter": "python",
   "pygments_lexer": "ipython3",
   "version": "3.7.6"
  }
 },
 "nbformat": 4,
 "nbformat_minor": 4
}
