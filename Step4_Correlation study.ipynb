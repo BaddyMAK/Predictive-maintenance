{
 "cells": [
  {
   "cell_type": "code",
   "execution_count": 1,
   "metadata": {},
   "outputs": [],
   "source": [
    "import pandas as pd \n",
    "import numpy as np \n",
    "import tensorflow as tf\n",
    "from datetime import datetime\n",
    "import seaborn as sns\n",
    "import matplotlib.pyplot as plt"
   ]
  },
  {
   "cell_type": "markdown",
   "metadata": {},
   "source": [
    "# 1- Reading the dataset "
   ]
  },
  {
   "cell_type": "code",
   "execution_count": null,
   "metadata": {},
   "outputs": [],
   "source": [
    "#piece 1\n",
    "DF_CSV1=pd.read_csv('Final_November1.csv', sep=';')\n",
    "DF_CSV2=pd.read_csv('Final_November2.csv', sep=';')\n",
    "\n",
    "DF_CSV1=DF_CSV1.drop('Unnamed: 0', axis=1)\n",
    "DF_CSV2=DF_CSV2.drop('Unnamed: 0', axis=1)\n"
   ]
  },
  {
   "cell_type": "code",
   "execution_count": null,
   "metadata": {},
   "outputs": [],
   "source": [
    "DF_CSV2.index"
   ]
  },
  {
   "cell_type": "code",
   "execution_count": null,
   "metadata": {},
   "outputs": [],
   "source": [
    "DF_CSV1.index"
   ]
  },
  {
   "cell_type": "code",
   "execution_count": null,
   "metadata": {},
   "outputs": [],
   "source": [
    "DF_Tot=pd.concat([DF_CSV1,DF_CSV2], axis=0)\n",
    "DF_Tot.reset_index(drop=True, inplace=True)"
   ]
  },
  {
   "cell_type": "code",
   "execution_count": null,
   "metadata": {},
   "outputs": [],
   "source": [
    "DF_Tot.index"
   ]
  },
  {
   "cell_type": "code",
   "execution_count": null,
   "metadata": {},
   "outputs": [],
   "source": [
    "DF_Tot.time.isnull().values.any()"
   ]
  },
  {
   "cell_type": "code",
   "execution_count": null,
   "metadata": {},
   "outputs": [],
   "source": [
    "test=DF_Tot[DF_Tot.time.isnull()]\n",
    "test.to_csv('test.csv', sep=';')"
   ]
  },
  {
   "cell_type": "code",
   "execution_count": null,
   "metadata": {},
   "outputs": [],
   "source": [
    "test.shape[0]"
   ]
  },
  {
   "cell_type": "code",
   "execution_count": null,
   "metadata": {},
   "outputs": [],
   "source": [
    "# Mapping NaN to Column mean \n",
    "DF_CSV[\"VIN\"] = DF_CSV[\"VIN\"].fillna(DF_CSV[\"VIN\"].mean())\n",
    "DF_CSV[\"IIN\"] = DF_CSV[\"IIN\"].fillna(DF_CSV[\"IIN\"].mean())\n",
    "DF_CSV[\"VOUT\"] = DF_CSV[\"VOUT\"].fillna(DF_CSV[\"VOUT\"].mean())\n",
    "DF_CSV[\"VBATT\"] = DF_CSV[\"VBATT\"].fillna(DF_CSV[\"VBATT\"].mean())\n",
    "DF_CSV[\"IBATT\"] = DF_CSV[\"IBATT\"].fillna(DF_CSV[\"IBATT\"].mean())\n",
    "DF_CSV[\"TEMP\"] = DF_CSV[\"TEMP\"].fillna(DF_CSV[\"TEMP\"].mean())\n",
    "DF_CSV[\"CNT\"] = DF_CSV[\"CNT\"].fillna(DF_CSV[\"CNT\"].mean())\n",
    "DF_CSV[\"POWER\"] = DF_CSV[\"POWER\"].fillna(DF_CSV[\"POWER\"].mean())\n",
    "DF_CSV[\"BCK1CURR\"] = DF_CSV[\"BCK1CURR\"].fillna(DF_CSV[\"BCK1CURR\"].mean())\n",
    "DF_CSV[\"STS\"] = DF_CSV[\"STS\"].fillna(DF_CSV[\"STS\"].mean())\n",
    "DF_CSV[\"MIN\"] = DF_CSV[\"MIN\"].fillna(DF_CSV[\"MIN\"].mean())\n",
    "DF_CSV[\"CURRLIGHT\"] = DF_CSV[\"CURRLIGHT\"].fillna(DF_CSV[\"CURRLIGHT\"].mean())\n",
    "DF_CSV[\"BRIGHTNESS\"] = DF_CSV[\"BRIGHTNESS\"].fillna(DF_CSV[\"BRIGHTNESS\"].mean())\n",
    "DF_CSV[\"PAN1VOLT\"] = DF_CSV[\"PAN1VOLT\"].fillna(DF_CSV[\"PAN1VOLT\"].mean())\n",
    "DF_CSV[\"PAN1CURR\"] = DF_CSV[\"PAN1CURR\"].fillna(DF_CSV[\"PAN1CURR\"].mean())\n",
    "DF_CSV[\"BCK1VOLT\"] = DF_CSV[\"BCK1VOLT\"].fillna(DF_CSV[\"BCK1VOLT\"].mean())\n",
    "DF_CSV[\"RSSI\"] = DF_CSV[\"RSSI\"].fillna(DF_CSV[\"RSSI\"].mean())\n",
    "DF_CSV[\"Diff_V\"] = DF_CSV[\"Diff_V\"].fillna(DF_CSV[\"Diff_V\"].mean())"
   ]
  },
  {
   "cell_type": "code",
   "execution_count": null,
   "metadata": {},
   "outputs": [],
   "source": [
    "DF_CSV=DF_CSV.dropna(axis=0)\n",
    "DF_CSV=DF_CSV.reset_index(drop=True)\n",
    "DF_CSV.isna().values.any() # verify if there is any na value "
   ]
  },
  {
   "cell_type": "code",
   "execution_count": null,
   "metadata": {},
   "outputs": [],
   "source": [
    "# Mapping categorical to numerical \n",
    "##########################################\n",
    "DF_CSV.JP = pd.Categorical(DF_CSV.JP)\n",
    "DF_CSV['code_JP'] = DF_CSV.JP.cat.codes\n",
    "##########################################\n",
    "DF_CSV.host_id = pd.Categorical(DF_CSV.host_id)\n",
    "DF_CSV['code_host_id'] = DF_CSV.host_id.cat.codes\n",
    "#################################################\n",
    "DF_CSV.time = pd.Categorical(DF_CSV.time)\n",
    "DF_CSV['code_time'] = DF_CSV.time.cat.codes\n",
    "##############################################\n",
    "DF_CSV.date = pd.Categorical(DF_CSV.date)\n",
    "DF_CSV['code_date'] = DF_CSV.date.cat.codes\n",
    "###############################################\n",
    "DF_CSV.Critical = pd.Categorical(DF_CSV.Critical)\n",
    "DF_CSV['code_Critical'] = DF_CSV.Critical.cat.codes"
   ]
  },
  {
   "cell_type": "code",
   "execution_count": null,
   "metadata": {},
   "outputs": [],
   "source": [
    "My_column=['VIN', 'IIN', 'VOUT', 'VBATT', 'IBATT', 'TEMP', 'POWER']\n",
    "master_table=DF_CSV[My_column]"
   ]
  },
  {
   "cell_type": "code",
   "execution_count": null,
   "metadata": {},
   "outputs": [],
   "source": [
    "# master_table correlation matrix \n",
    "# calculate the correlation matrix\n",
    "corr = master_table.corr()\n",
    "# plot the heatmap\n",
    "fig, ax = plt.subplots(figsize=(8,8)) \n",
    "ax.set_title('Total Dataset')\n",
    "sns.heatmap(corr, \n",
    "        xticklabels=corr.columns,\n",
    "        yticklabels=corr.columns, annot=True, cmap= 'Blues',ax=ax)"
   ]
  },
  {
   "cell_type": "code",
   "execution_count": null,
   "metadata": {},
   "outputs": [],
   "source": [
    "#Ploting the relationship between wine grade (points) and price \n",
    "plt.figure(figsize=(7,7))\n",
    "plt.plot(DF_CSV['VBATT'], DF_CSV['VOUT'],'bo')\n",
    "plt.xlabel('VBATT')\n",
    "plt.title('VBATT Vs VOUT (Total dataset)')\n",
    "plt.ylabel('VOUT')\n",
    "plt.grid(True)\n",
    "plt.show()"
   ]
  },
  {
   "cell_type": "markdown",
   "metadata": {},
   "source": [
    "# Critical Voltage "
   ]
  },
  {
   "cell_type": "code",
   "execution_count": null,
   "metadata": {},
   "outputs": [],
   "source": [
    "Critical_DF=DF_CSV[DF_CSV['Critical']=='Yes']\n",
    "col1=['VIN', 'IIN', 'VOUT', 'VBATT', 'IBATT', 'TEMP', 'POWER']\n",
    "Critical_DF=Critical_DF[col1]"
   ]
  },
  {
   "cell_type": "code",
   "execution_count": null,
   "metadata": {},
   "outputs": [],
   "source": [
    "Critical_DF['VOUT']"
   ]
  },
  {
   "cell_type": "code",
   "execution_count": null,
   "metadata": {},
   "outputs": [],
   "source": [
    "# master_table correlation matrix \n",
    "# calculate the correlation matrix\n",
    "corr1 = Critical_DF.corr()\n",
    "\n",
    "# plot the heatmap\n",
    "fig, ax = plt.subplots(figsize=(8,8)) \n",
    "ax.set_title('Critical samples: VIN-VBATT>1200')\n",
    "sns.heatmap(corr1, \n",
    "        xticklabels=corr1.columns,\n",
    "        yticklabels=corr1.columns, annot=True, cmap= 'Blues',ax=ax)"
   ]
  },
  {
   "cell_type": "code",
   "execution_count": null,
   "metadata": {},
   "outputs": [],
   "source": [
    "corr1.to_csv('Critical_corr.csv', sep=',')"
   ]
  },
  {
   "cell_type": "code",
   "execution_count": null,
   "metadata": {},
   "outputs": [],
   "source": [
    "#Ploting the relationship between wine grade (points) and price \n",
    "plt.figure(figsize=(7,7))\n",
    "plt.plot(Critical_DF['VBATT'], Critical_DF['VOUT'],'bo')\n",
    "plt.xlabel('VBATT')\n",
    "plt.title('VBATT Vs VOUT (Critical dataset)')\n",
    "plt.ylabel('VOUT')\n",
    "plt.grid(True)\n",
    "plt.show()"
   ]
  },
  {
   "cell_type": "code",
   "execution_count": null,
   "metadata": {},
   "outputs": [],
   "source": [
    "#After performing the log transformation \n",
    "\n",
    "log_score = np.log(Critical_DF[['VBATT', 'VIN']])\n",
    "log_score = log_score.dropna().reset_index(drop=True)\n",
    "log_score.columns = ['log_VBATT', 'log_VIN']\n",
    "\n",
    "plt.figure(figsize=(7,7))\n",
    "plt.plot(log_score['log_VBATT'], log_score['log_VIN'],'bo')\n",
    "plt.xlabel('log VBATT')\n",
    "plt.ylabel('log VIN')\n",
    "plt.grid(True)\n",
    "plt.show()"
   ]
  },
  {
   "cell_type": "markdown",
   "metadata": {},
   "source": [
    "# Normal Voltage "
   ]
  },
  {
   "cell_type": "code",
   "execution_count": null,
   "metadata": {},
   "outputs": [],
   "source": [
    "Normal_DF=DF_CSV[(DF_CSV['Critical']=='No')& (DF_CSV['VIN']!=0)]\n",
    "Normal_DF=Normal_DF[col1]"
   ]
  },
  {
   "cell_type": "code",
   "execution_count": null,
   "metadata": {},
   "outputs": [],
   "source": [
    "# master_table correlation matrix \n",
    "# calculate the correlation matrix\n",
    "corr2 = Normal_DF.corr()\n",
    "# plot the heatmap\n",
    "fig, ax = plt.subplots(figsize=(8,8)) \n",
    "ax.set_title('Normal: VIN is not null and VIN-VBATT< 1200')\n",
    "sns.heatmap(corr2,xticklabels=corr2.columns,yticklabels=corr2.columns, annot=True, cmap= 'Blues',ax=ax)"
   ]
  },
  {
   "cell_type": "code",
   "execution_count": null,
   "metadata": {},
   "outputs": [],
   "source": [
    "corr2.to_csv('corr.csv',sep=';')"
   ]
  },
  {
   "cell_type": "code",
   "execution_count": null,
   "metadata": {},
   "outputs": [],
   "source": [
    "#Ploting the relationship between wine grade (points) and price \n",
    "plt.figure(figsize=(7,7))\n",
    "plt.plot(Normal_DF['VBATT'], Normal_DF['VOUT'],'bo')\n",
    "plt.xlabel('VBATT')\n",
    "plt.ylabel('VOUT')\n",
    "plt.title('VBATT Vs VOUT (Normal dataset)')\n",
    "plt.grid(True)\n",
    "plt.show()"
   ]
  },
  {
   "cell_type": "markdown",
   "metadata": {},
   "source": [
    "# Null Voltage "
   ]
  },
  {
   "cell_type": "code",
   "execution_count": null,
   "metadata": {},
   "outputs": [],
   "source": [
    "# Slect Voltage zero \n",
    "Column3=['IIN', 'VOUT', 'VBATT', 'IBATT', 'TEMP', 'POWER']\n",
    "NullVolt_DF=DF_CSV[DF_CSV['VIN']==0]\n",
    "NullVolt_DF=NullVolt_DF[Column3]"
   ]
  },
  {
   "cell_type": "code",
   "execution_count": null,
   "metadata": {},
   "outputs": [],
   "source": [
    "c=[c for c in NullVolt_DF['IIN'].unique()]\n",
    "c"
   ]
  },
  {
   "cell_type": "code",
   "execution_count": null,
   "metadata": {},
   "outputs": [],
   "source": [
    "#Ploting the relationship between wine grade (points) and price \n",
    "plt.figure(figsize=(7,7))\n",
    "plt.plot(NullVolt_DF['VBATT'], NullVolt_DF['VOUT'],'bo')\n",
    "plt.xlabel('VBATT')\n",
    "plt.title('VBATT Vs VOUT (VIN=0)')\n",
    "plt.ylabel('VOUT')\n",
    "plt.grid(True)\n",
    "plt.show()"
   ]
  },
  {
   "cell_type": "code",
   "execution_count": null,
   "metadata": {},
   "outputs": [],
   "source": [
    "#After performing the log transformation \n",
    "\n",
    "log_score = np.log(Critical_DF[['VBATT', 'IBATT']])\n",
    "log_score = log_score.dropna().reset_index(drop=True)\n",
    "log_score.columns = ['log_VBATT', 'log_IBATT']\n",
    "plt.figure(figsize=(7,7))\n",
    "plt.plot(log_score['log_VBATT'], log_score['log_IBATT'],'bo')\n",
    "plt.xlabel('log VBATT')\n",
    "plt.ylabel('log IBATT')\n",
    "plt.grid(True)\n",
    "plt.show()"
   ]
  },
  {
   "cell_type": "code",
   "execution_count": null,
   "metadata": {},
   "outputs": [],
   "source": [
    "# master_table correlation matrix \n",
    "# calculate the correlation matrix\n",
    "corr3 = NullVolt_DF.corr()\n",
    "# plot the heatmap\n",
    "fig, ax = plt.subplots(figsize=(8,8)) \n",
    "ax.set_title('VIN is null')\n",
    "sns.heatmap(corr3,xticklabels=corr3.columns, yticklabels=corr3.columns, annot=True, cmap= 'Blues',ax=ax)"
   ]
  },
  {
   "cell_type": "code",
   "execution_count": null,
   "metadata": {},
   "outputs": [],
   "source": [
    "NullVolt_DF['MIN'].to_csv('test.csv', sep=';')"
   ]
  },
  {
   "cell_type": "markdown",
   "metadata": {},
   "source": [
    "•\tVIN: tensione in ingresso lato caricabatterie (in mV)\n",
    "\n",
    "•\tIIN: corrente di carica lato caricabatterie (in mA)\n",
    "\n",
    "•\tVOUT: tensione non regolata in uscita dopo il MOS di interruzione verso il carico (in mV)\n",
    "\n",
    "•\tVBATT: tensione sui terminali di uscita della batteria (a monte del MOS di interruzione) in mV\n",
    "\n",
    "•\tIBATT: corrente assorbita dalla batteria (in mA)\n",
    "\n",
    "•\tTEMP: temperatura sulla scheda di controllo carica misurata in decimi di grado C\n",
    "\n",
    "•\tJP: stato dello jumper di debug (deve essere OFF)\n",
    "\n",
    "•\tCNT: contatore del numero di volte che che il microcontrollore a bordo scheda caricabatterie ha fatto il probe dei parametri sin da quando è stato acceso, ovvero una volta al minuto\n",
    "\n",
    "•\tPOWER: potenza assorbita dalla batteria verso il carico\n"
   ]
  },
  {
   "cell_type": "code",
   "execution_count": null,
   "metadata": {},
   "outputs": [],
   "source": []
  }
 ],
 "metadata": {
  "kernelspec": {
   "display_name": "Python 3",
   "language": "python",
   "name": "python3"
  },
  "language_info": {
   "codemirror_mode": {
    "name": "ipython",
    "version": 3
   },
   "file_extension": ".py",
   "mimetype": "text/x-python",
   "name": "python",
   "nbconvert_exporter": "python",
   "pygments_lexer": "ipython3",
   "version": "3.7.6"
  }
 },
 "nbformat": 4,
 "nbformat_minor": 4
}
