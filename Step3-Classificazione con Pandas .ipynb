{
 "cells": [
  {
   "cell_type": "code",
   "execution_count": 1,
   "metadata": {},
   "outputs": [],
   "source": [
    "import pandas as pd\n",
    "import numpy as np \n",
    "import scipy as sc\n",
    "import datetime\n",
    "# Modelling Helpers\n",
    "from sklearn.preprocessing import Normalizer , scale\n",
    "from sklearn.model_selection import train_test_split\n",
    "from sklearn.impute import SimpleImputer\n",
    "from sklearn import metrics\n",
    "from sklearn.preprocessing import StandardScaler\n",
    "from sklearn.metrics import classification_report, confusion_matrix\n",
    "from sklearn.model_selection import validation_curve, cross_val_score\n"
   ]
  },
  {
   "cell_type": "code",
   "execution_count": 2,
   "metadata": {},
   "outputs": [],
   "source": [
    "import sklearn as sk\n",
    "from sklearn.svm import SVC\n",
    "from sklearn import tree\n",
    "from sklearn.linear_model import LogisticRegression\n",
    "from sklearn.metrics import accuracy_score\n",
    "import seaborn as sns\n",
    "# import library\n",
    "from imblearn.under_sampling import RandomUnderSampler\n",
    "import collections\n",
    "import matplotlib \n",
    "import matplotlib.pyplot as plt\n",
    "matplotlib.style.use('ggplot')"
   ]
  },
  {
   "cell_type": "markdown",
   "metadata": {},
   "source": [
    "## 0- Define functions "
   ]
  },
  {
   "cell_type": "code",
   "execution_count": 3,
   "metadata": {},
   "outputs": [],
   "source": [
    "def f_importances(coef, names):\n",
    "    imp = coef\n",
    "    imp,names = zip(*sorted(zip(imp,names)))\n",
    "    plt.barh(range(len(names)), imp, align='center')\n",
    "    plt.yticks(range(len(names)), names)\n",
    "    plt.show()"
   ]
  },
  {
   "cell_type": "markdown",
   "metadata": {},
   "source": [
    "### 1- Reading the dataset "
   ]
  },
  {
   "cell_type": "code",
   "execution_count": 4,
   "metadata": {},
   "outputs": [],
   "source": [
    "#piece 1\n",
    "DF_CSV=pd.read_csv('Final.csv', sep=';')\n",
    "DF_CSV=DF_CSV.drop('Unnamed: 0', axis=1)"
   ]
  },
  {
   "cell_type": "code",
   "execution_count": 5,
   "metadata": {},
   "outputs": [
    {
     "data": {
      "text/html": [
       "<div>\n",
       "<style scoped>\n",
       "    .dataframe tbody tr th:only-of-type {\n",
       "        vertical-align: middle;\n",
       "    }\n",
       "\n",
       "    .dataframe tbody tr th {\n",
       "        vertical-align: top;\n",
       "    }\n",
       "\n",
       "    .dataframe thead th {\n",
       "        text-align: right;\n",
       "    }\n",
       "</style>\n",
       "<table border=\"1\" class=\"dataframe\">\n",
       "  <thead>\n",
       "    <tr style=\"text-align: right;\">\n",
       "      <th></th>\n",
       "      <th>date</th>\n",
       "      <th>VIN</th>\n",
       "      <th>IIN</th>\n",
       "      <th>VOUT</th>\n",
       "      <th>VBATT</th>\n",
       "      <th>IBATT</th>\n",
       "      <th>TEMP</th>\n",
       "      <th>JP</th>\n",
       "      <th>CNT</th>\n",
       "      <th>STS</th>\n",
       "      <th>...</th>\n",
       "      <th>BRIGHTNESS</th>\n",
       "      <th>PAN1VOLT</th>\n",
       "      <th>PAN1CURR</th>\n",
       "      <th>BCK1VOLT</th>\n",
       "      <th>BCK1CURR</th>\n",
       "      <th>RSSI</th>\n",
       "      <th>host_id</th>\n",
       "      <th>time</th>\n",
       "      <th>Diff_V</th>\n",
       "      <th>Critical</th>\n",
       "    </tr>\n",
       "  </thead>\n",
       "  <tbody>\n",
       "    <tr>\n",
       "      <th>0</th>\n",
       "      <td>2020-10-12</td>\n",
       "      <td>29238</td>\n",
       "      <td>610.0</td>\n",
       "      <td>28890.0</td>\n",
       "      <td>29138.0</td>\n",
       "      <td>579.0</td>\n",
       "      <td>215.0</td>\n",
       "      <td>OFF</td>\n",
       "      <td>563070.0</td>\n",
       "      <td>1.0</td>\n",
       "      <td>...</td>\n",
       "      <td>0.0</td>\n",
       "      <td>11916.0</td>\n",
       "      <td>505.0</td>\n",
       "      <td>24032.0</td>\n",
       "      <td>419.0</td>\n",
       "      <td>0.0</td>\n",
       "      <td>814U01M70009</td>\n",
       "      <td>00:00:47</td>\n",
       "      <td>100.0</td>\n",
       "      <td>No</td>\n",
       "    </tr>\n",
       "    <tr>\n",
       "      <th>1</th>\n",
       "      <td>2020-10-12</td>\n",
       "      <td>29237</td>\n",
       "      <td>641.0</td>\n",
       "      <td>28890.0</td>\n",
       "      <td>29132.0</td>\n",
       "      <td>613.0</td>\n",
       "      <td>220.0</td>\n",
       "      <td>OFF</td>\n",
       "      <td>563071.0</td>\n",
       "      <td>1.0</td>\n",
       "      <td>...</td>\n",
       "      <td>0.0</td>\n",
       "      <td>11916.0</td>\n",
       "      <td>510.0</td>\n",
       "      <td>24036.0</td>\n",
       "      <td>419.0</td>\n",
       "      <td>-89.0</td>\n",
       "      <td>814U01M70009</td>\n",
       "      <td>00:01:45</td>\n",
       "      <td>105.0</td>\n",
       "      <td>No</td>\n",
       "    </tr>\n",
       "    <tr>\n",
       "      <th>2</th>\n",
       "      <td>2020-10-12</td>\n",
       "      <td>29236</td>\n",
       "      <td>641.0</td>\n",
       "      <td>28890.0</td>\n",
       "      <td>29141.0</td>\n",
       "      <td>501.0</td>\n",
       "      <td>215.0</td>\n",
       "      <td>OFF</td>\n",
       "      <td>563072.0</td>\n",
       "      <td>1.0</td>\n",
       "      <td>...</td>\n",
       "      <td>0.0</td>\n",
       "      <td>11916.0</td>\n",
       "      <td>505.0</td>\n",
       "      <td>24036.0</td>\n",
       "      <td>419.0</td>\n",
       "      <td>-89.0</td>\n",
       "      <td>814U01M70009</td>\n",
       "      <td>00:02:44</td>\n",
       "      <td>95.0</td>\n",
       "      <td>No</td>\n",
       "    </tr>\n",
       "    <tr>\n",
       "      <th>3</th>\n",
       "      <td>2020-10-12</td>\n",
       "      <td>29238</td>\n",
       "      <td>610.0</td>\n",
       "      <td>28890.0</td>\n",
       "      <td>29131.0</td>\n",
       "      <td>553.0</td>\n",
       "      <td>215.0</td>\n",
       "      <td>OFF</td>\n",
       "      <td>563073.0</td>\n",
       "      <td>1.0</td>\n",
       "      <td>...</td>\n",
       "      <td>0.0</td>\n",
       "      <td>11916.0</td>\n",
       "      <td>505.0</td>\n",
       "      <td>24036.0</td>\n",
       "      <td>419.0</td>\n",
       "      <td>-89.0</td>\n",
       "      <td>814U01M70009</td>\n",
       "      <td>00:03:43</td>\n",
       "      <td>107.0</td>\n",
       "      <td>No</td>\n",
       "    </tr>\n",
       "    <tr>\n",
       "      <th>4</th>\n",
       "      <td>2020-10-12</td>\n",
       "      <td>29236</td>\n",
       "      <td>637.0</td>\n",
       "      <td>28848.0</td>\n",
       "      <td>29133.0</td>\n",
       "      <td>623.0</td>\n",
       "      <td>215.0</td>\n",
       "      <td>OFF</td>\n",
       "      <td>563074.0</td>\n",
       "      <td>1.0</td>\n",
       "      <td>...</td>\n",
       "      <td>0.0</td>\n",
       "      <td>11916.0</td>\n",
       "      <td>505.0</td>\n",
       "      <td>24036.0</td>\n",
       "      <td>419.0</td>\n",
       "      <td>-89.0</td>\n",
       "      <td>814U01M70009</td>\n",
       "      <td>00:04:42</td>\n",
       "      <td>103.0</td>\n",
       "      <td>No</td>\n",
       "    </tr>\n",
       "  </tbody>\n",
       "</table>\n",
       "<p>5 rows × 24 columns</p>\n",
       "</div>"
      ],
      "text/plain": [
       "         date    VIN    IIN     VOUT    VBATT  IBATT   TEMP   JP       CNT  \\\n",
       "0  2020-10-12  29238  610.0  28890.0  29138.0  579.0  215.0  OFF  563070.0   \n",
       "1  2020-10-12  29237  641.0  28890.0  29132.0  613.0  220.0  OFF  563071.0   \n",
       "2  2020-10-12  29236  641.0  28890.0  29141.0  501.0  215.0  OFF  563072.0   \n",
       "3  2020-10-12  29238  610.0  28890.0  29131.0  553.0  215.0  OFF  563073.0   \n",
       "4  2020-10-12  29236  637.0  28848.0  29133.0  623.0  215.0  OFF  563074.0   \n",
       "\n",
       "   STS  ...  BRIGHTNESS  PAN1VOLT  PAN1CURR  BCK1VOLT  BCK1CURR  RSSI  \\\n",
       "0  1.0  ...         0.0   11916.0     505.0   24032.0     419.0   0.0   \n",
       "1  1.0  ...         0.0   11916.0     510.0   24036.0     419.0 -89.0   \n",
       "2  1.0  ...         0.0   11916.0     505.0   24036.0     419.0 -89.0   \n",
       "3  1.0  ...         0.0   11916.0     505.0   24036.0     419.0 -89.0   \n",
       "4  1.0  ...         0.0   11916.0     505.0   24036.0     419.0 -89.0   \n",
       "\n",
       "        host_id      time  Diff_V  Critical  \n",
       "0  814U01M70009  00:00:47   100.0        No  \n",
       "1  814U01M70009  00:01:45   105.0        No  \n",
       "2  814U01M70009  00:02:44    95.0        No  \n",
       "3  814U01M70009  00:03:43   107.0        No  \n",
       "4  814U01M70009  00:04:42   103.0        No  \n",
       "\n",
       "[5 rows x 24 columns]"
      ]
     },
     "execution_count": 5,
     "metadata": {},
     "output_type": "execute_result"
    }
   ],
   "source": [
    "DF_CSV.head(5)"
   ]
  },
  {
   "cell_type": "markdown",
   "metadata": {},
   "source": [
    "# 1- Data analysis and manipulation"
   ]
  },
  {
   "cell_type": "code",
   "execution_count": 6,
   "metadata": {},
   "outputs": [
    {
     "name": "stdout",
     "output_type": "stream",
     "text": [
      "<class 'pandas.core.frame.DataFrame'>\n",
      "RangeIndex: 6226741 entries, 0 to 6226740\n",
      "Data columns (total 24 columns):\n",
      " #   Column        Dtype  \n",
      "---  ------        -----  \n",
      " 0   date          object \n",
      " 1   VIN           int64  \n",
      " 2   IIN           float64\n",
      " 3   VOUT          float64\n",
      " 4   VBATT         float64\n",
      " 5   IBATT         float64\n",
      " 6   TEMP          float64\n",
      " 7   JP            object \n",
      " 8   CNT           float64\n",
      " 9   STS           float64\n",
      " 10  MIN           float64\n",
      " 11  POWER         float64\n",
      " 12  AUTOBCKLIGHT  float64\n",
      " 13  CURRLIGHT     float64\n",
      " 14  BRIGHTNESS    float64\n",
      " 15  PAN1VOLT      float64\n",
      " 16  PAN1CURR      float64\n",
      " 17  BCK1VOLT      float64\n",
      " 18  BCK1CURR      float64\n",
      " 19  RSSI          float64\n",
      " 20  host_id       object \n",
      " 21  time          object \n",
      " 22  Diff_V        float64\n",
      " 23  Critical      object \n",
      "dtypes: float64(18), int64(1), object(5)\n",
      "memory usage: 1.1+ GB\n"
     ]
    }
   ],
   "source": [
    "DF_CSV.info() # Gloabl information about my dataset "
   ]
  },
  {
   "cell_type": "code",
   "execution_count": 7,
   "metadata": {},
   "outputs": [
    {
     "data": {
      "text/html": [
       "<div>\n",
       "<style scoped>\n",
       "    .dataframe tbody tr th:only-of-type {\n",
       "        vertical-align: middle;\n",
       "    }\n",
       "\n",
       "    .dataframe tbody tr th {\n",
       "        vertical-align: top;\n",
       "    }\n",
       "\n",
       "    .dataframe thead th {\n",
       "        text-align: right;\n",
       "    }\n",
       "</style>\n",
       "<table border=\"1\" class=\"dataframe\">\n",
       "  <thead>\n",
       "    <tr style=\"text-align: right;\">\n",
       "      <th></th>\n",
       "      <th>count</th>\n",
       "      <th>mean</th>\n",
       "      <th>std</th>\n",
       "      <th>min</th>\n",
       "      <th>25%</th>\n",
       "      <th>50%</th>\n",
       "      <th>75%</th>\n",
       "      <th>max</th>\n",
       "    </tr>\n",
       "  </thead>\n",
       "  <tbody>\n",
       "    <tr>\n",
       "      <th>VIN</th>\n",
       "      <td>6226741.0</td>\n",
       "      <td>16144.828844</td>\n",
       "      <td>14434.503505</td>\n",
       "      <td>-320.0</td>\n",
       "      <td>0.0</td>\n",
       "      <td>28941.0</td>\n",
       "      <td>29161.0</td>\n",
       "      <td>29551.0</td>\n",
       "    </tr>\n",
       "    <tr>\n",
       "      <th>IIN</th>\n",
       "      <td>6226727.0</td>\n",
       "      <td>693.650793</td>\n",
       "      <td>1545.978763</td>\n",
       "      <td>-78.0</td>\n",
       "      <td>0.0</td>\n",
       "      <td>592.0</td>\n",
       "      <td>654.0</td>\n",
       "      <td>9524.0</td>\n",
       "    </tr>\n",
       "    <tr>\n",
       "      <th>VOUT</th>\n",
       "      <td>6226713.0</td>\n",
       "      <td>27817.669405</td>\n",
       "      <td>1270.047974</td>\n",
       "      <td>19177.0</td>\n",
       "      <td>26524.0</td>\n",
       "      <td>27644.0</td>\n",
       "      <td>29097.0</td>\n",
       "      <td>30426.0</td>\n",
       "    </tr>\n",
       "    <tr>\n",
       "      <th>VBATT</th>\n",
       "      <td>6226712.0</td>\n",
       "      <td>27739.356894</td>\n",
       "      <td>1254.410267</td>\n",
       "      <td>19197.0</td>\n",
       "      <td>26427.0</td>\n",
       "      <td>27578.0</td>\n",
       "      <td>29033.0</td>\n",
       "      <td>29245.0</td>\n",
       "    </tr>\n",
       "    <tr>\n",
       "      <th>IBATT</th>\n",
       "      <td>6226711.0</td>\n",
       "      <td>675.229506</td>\n",
       "      <td>173.936978</td>\n",
       "      <td>360.0</td>\n",
       "      <td>576.0</td>\n",
       "      <td>619.0</td>\n",
       "      <td>707.0</td>\n",
       "      <td>2226.0</td>\n",
       "    </tr>\n",
       "    <tr>\n",
       "      <th>TEMP</th>\n",
       "      <td>6226707.0</td>\n",
       "      <td>218.284063</td>\n",
       "      <td>31.224505</td>\n",
       "      <td>130.0</td>\n",
       "      <td>200.0</td>\n",
       "      <td>215.0</td>\n",
       "      <td>235.0</td>\n",
       "      <td>445.0</td>\n",
       "    </tr>\n",
       "    <tr>\n",
       "      <th>CNT</th>\n",
       "      <td>6226705.0</td>\n",
       "      <td>324764.727654</td>\n",
       "      <td>181811.337682</td>\n",
       "      <td>1.0</td>\n",
       "      <td>155742.0</td>\n",
       "      <td>368145.0</td>\n",
       "      <td>481141.0</td>\n",
       "      <td>649333.0</td>\n",
       "    </tr>\n",
       "    <tr>\n",
       "      <th>STS</th>\n",
       "      <td>6226702.0</td>\n",
       "      <td>1.942965</td>\n",
       "      <td>1.036383</td>\n",
       "      <td>1.0</td>\n",
       "      <td>1.0</td>\n",
       "      <td>1.0</td>\n",
       "      <td>3.0</td>\n",
       "      <td>4.0</td>\n",
       "    </tr>\n",
       "    <tr>\n",
       "      <th>MIN</th>\n",
       "      <td>6226700.0</td>\n",
       "      <td>136.380203</td>\n",
       "      <td>203.685283</td>\n",
       "      <td>0.0</td>\n",
       "      <td>0.0</td>\n",
       "      <td>0.0</td>\n",
       "      <td>255.0</td>\n",
       "      <td>2160.0</td>\n",
       "    </tr>\n",
       "    <tr>\n",
       "      <th>POWER</th>\n",
       "      <td>6226699.0</td>\n",
       "      <td>18662.045061</td>\n",
       "      <td>4522.065008</td>\n",
       "      <td>0.0</td>\n",
       "      <td>16059.0</td>\n",
       "      <td>17105.0</td>\n",
       "      <td>19967.0</td>\n",
       "      <td>58695.0</td>\n",
       "    </tr>\n",
       "    <tr>\n",
       "      <th>AUTOBCKLIGHT</th>\n",
       "      <td>6188944.0</td>\n",
       "      <td>0.892610</td>\n",
       "      <td>0.450829</td>\n",
       "      <td>-1.0</td>\n",
       "      <td>1.0</td>\n",
       "      <td>1.0</td>\n",
       "      <td>1.0</td>\n",
       "      <td>1.0</td>\n",
       "    </tr>\n",
       "    <tr>\n",
       "      <th>CURRLIGHT</th>\n",
       "      <td>6188943.0</td>\n",
       "      <td>41.426410</td>\n",
       "      <td>56.785850</td>\n",
       "      <td>-1.0</td>\n",
       "      <td>1.0</td>\n",
       "      <td>5.0</td>\n",
       "      <td>79.0</td>\n",
       "      <td>242.0</td>\n",
       "    </tr>\n",
       "    <tr>\n",
       "      <th>BRIGHTNESS</th>\n",
       "      <td>6188942.0</td>\n",
       "      <td>14.897257</td>\n",
       "      <td>20.909219</td>\n",
       "      <td>-1.0</td>\n",
       "      <td>0.0</td>\n",
       "      <td>0.0</td>\n",
       "      <td>29.0</td>\n",
       "      <td>100.0</td>\n",
       "    </tr>\n",
       "    <tr>\n",
       "      <th>PAN1VOLT</th>\n",
       "      <td>6188941.0</td>\n",
       "      <td>11296.232000</td>\n",
       "      <td>2694.465743</td>\n",
       "      <td>-1.0</td>\n",
       "      <td>11908.0</td>\n",
       "      <td>11936.0</td>\n",
       "      <td>11960.0</td>\n",
       "      <td>12056.0</td>\n",
       "    </tr>\n",
       "    <tr>\n",
       "      <th>PAN1CURR</th>\n",
       "      <td>6188939.0</td>\n",
       "      <td>464.834899</td>\n",
       "      <td>122.531235</td>\n",
       "      <td>-1.0</td>\n",
       "      <td>485.0</td>\n",
       "      <td>490.0</td>\n",
       "      <td>495.0</td>\n",
       "      <td>26209.0</td>\n",
       "    </tr>\n",
       "    <tr>\n",
       "      <th>BCK1VOLT</th>\n",
       "      <td>6188938.0</td>\n",
       "      <td>22711.463834</td>\n",
       "      <td>5410.257857</td>\n",
       "      <td>-1.0</td>\n",
       "      <td>23976.0</td>\n",
       "      <td>23996.0</td>\n",
       "      <td>24016.0</td>\n",
       "      <td>24404.0</td>\n",
       "    </tr>\n",
       "    <tr>\n",
       "      <th>BCK1CURR</th>\n",
       "      <td>6188937.0</td>\n",
       "      <td>439.388956</td>\n",
       "      <td>146.868434</td>\n",
       "      <td>-1.0</td>\n",
       "      <td>404.0</td>\n",
       "      <td>419.0</td>\n",
       "      <td>514.0</td>\n",
       "      <td>1633.0</td>\n",
       "    </tr>\n",
       "    <tr>\n",
       "      <th>RSSI</th>\n",
       "      <td>6183309.0</td>\n",
       "      <td>-81.255644</td>\n",
       "      <td>13.779871</td>\n",
       "      <td>-113.0</td>\n",
       "      <td>-91.0</td>\n",
       "      <td>-83.0</td>\n",
       "      <td>-73.0</td>\n",
       "      <td>0.0</td>\n",
       "    </tr>\n",
       "    <tr>\n",
       "      <th>Diff_V</th>\n",
       "      <td>6226712.0</td>\n",
       "      <td>-11594.499652</td>\n",
       "      <td>13267.811885</td>\n",
       "      <td>-29417.0</td>\n",
       "      <td>-26416.0</td>\n",
       "      <td>94.0</td>\n",
       "      <td>116.0</td>\n",
       "      <td>10009.0</td>\n",
       "    </tr>\n",
       "  </tbody>\n",
       "</table>\n",
       "</div>"
      ],
      "text/plain": [
       "                  count           mean            std      min       25%  \\\n",
       "VIN           6226741.0   16144.828844   14434.503505   -320.0       0.0   \n",
       "IIN           6226727.0     693.650793    1545.978763    -78.0       0.0   \n",
       "VOUT          6226713.0   27817.669405    1270.047974  19177.0   26524.0   \n",
       "VBATT         6226712.0   27739.356894    1254.410267  19197.0   26427.0   \n",
       "IBATT         6226711.0     675.229506     173.936978    360.0     576.0   \n",
       "TEMP          6226707.0     218.284063      31.224505    130.0     200.0   \n",
       "CNT           6226705.0  324764.727654  181811.337682      1.0  155742.0   \n",
       "STS           6226702.0       1.942965       1.036383      1.0       1.0   \n",
       "MIN           6226700.0     136.380203     203.685283      0.0       0.0   \n",
       "POWER         6226699.0   18662.045061    4522.065008      0.0   16059.0   \n",
       "AUTOBCKLIGHT  6188944.0       0.892610       0.450829     -1.0       1.0   \n",
       "CURRLIGHT     6188943.0      41.426410      56.785850     -1.0       1.0   \n",
       "BRIGHTNESS    6188942.0      14.897257      20.909219     -1.0       0.0   \n",
       "PAN1VOLT      6188941.0   11296.232000    2694.465743     -1.0   11908.0   \n",
       "PAN1CURR      6188939.0     464.834899     122.531235     -1.0     485.0   \n",
       "BCK1VOLT      6188938.0   22711.463834    5410.257857     -1.0   23976.0   \n",
       "BCK1CURR      6188937.0     439.388956     146.868434     -1.0     404.0   \n",
       "RSSI          6183309.0     -81.255644      13.779871   -113.0     -91.0   \n",
       "Diff_V        6226712.0  -11594.499652   13267.811885 -29417.0  -26416.0   \n",
       "\n",
       "                   50%       75%       max  \n",
       "VIN            28941.0   29161.0   29551.0  \n",
       "IIN              592.0     654.0    9524.0  \n",
       "VOUT           27644.0   29097.0   30426.0  \n",
       "VBATT          27578.0   29033.0   29245.0  \n",
       "IBATT            619.0     707.0    2226.0  \n",
       "TEMP             215.0     235.0     445.0  \n",
       "CNT           368145.0  481141.0  649333.0  \n",
       "STS                1.0       3.0       4.0  \n",
       "MIN                0.0     255.0    2160.0  \n",
       "POWER          17105.0   19967.0   58695.0  \n",
       "AUTOBCKLIGHT       1.0       1.0       1.0  \n",
       "CURRLIGHT          5.0      79.0     242.0  \n",
       "BRIGHTNESS         0.0      29.0     100.0  \n",
       "PAN1VOLT       11936.0   11960.0   12056.0  \n",
       "PAN1CURR         490.0     495.0   26209.0  \n",
       "BCK1VOLT       23996.0   24016.0   24404.0  \n",
       "BCK1CURR         419.0     514.0    1633.0  \n",
       "RSSI             -83.0     -73.0       0.0  \n",
       "Diff_V            94.0     116.0   10009.0  "
      ]
     },
     "execution_count": 7,
     "metadata": {},
     "output_type": "execute_result"
    }
   ],
   "source": [
    "DF_CSV.describe().transpose()"
   ]
  },
  {
   "cell_type": "code",
   "execution_count": 8,
   "metadata": {},
   "outputs": [
    {
     "data": {
      "text/plain": [
       "date             object\n",
       "VIN               int64\n",
       "IIN             float64\n",
       "VOUT            float64\n",
       "VBATT           float64\n",
       "IBATT           float64\n",
       "TEMP            float64\n",
       "JP               object\n",
       "CNT             float64\n",
       "STS             float64\n",
       "MIN             float64\n",
       "POWER           float64\n",
       "AUTOBCKLIGHT    float64\n",
       "CURRLIGHT       float64\n",
       "BRIGHTNESS      float64\n",
       "PAN1VOLT        float64\n",
       "PAN1CURR        float64\n",
       "BCK1VOLT        float64\n",
       "BCK1CURR        float64\n",
       "RSSI            float64\n",
       "host_id          object\n",
       "time             object\n",
       "Diff_V          float64\n",
       "Critical         object\n",
       "dtype: object"
      ]
     },
     "execution_count": 8,
     "metadata": {},
     "output_type": "execute_result"
    }
   ],
   "source": [
    "DF_CSV.dtypes"
   ]
  },
  {
   "cell_type": "code",
   "execution_count": 9,
   "metadata": {},
   "outputs": [],
   "source": [
    "'''\n",
    "Recognize whether a column is numerical or categorical.\n",
    ":parameter\n",
    "    :param dtf: dataframe - input data\n",
    "    :param col: str - name of the column to analyze\n",
    "    :param max_cat: num - max number of unique values to recognize a column as categorical\n",
    ":return\n",
    "    \"cat\" if the column is categorical or \"num\" otherwise\n",
    "'''\n",
    "def utils_recognize_type(dtf, col, max_cat=17):\n",
    "    if (dtf[col].dtype == \"O\") | (dtf[col].nunique() < max_cat):\n",
    "        return \"cat\"\n",
    "    else:\n",
    "        return \"num\""
   ]
  },
  {
   "cell_type": "markdown",
   "metadata": {},
   "source": [
    "##### 1.1- Plot the heatMap of my dataframe "
   ]
  },
  {
   "cell_type": "code",
   "execution_count": 10,
   "metadata": {},
   "outputs": [
    {
     "data": {
      "image/png": "[encoded data removed]",
      "text/plain": [
       "<Figure size 432x288 with 1 Axes>"
      ]
     },
     "metadata": {},
     "output_type": "display_data"
    },
    {
     "name": "stdout",
     "output_type": "stream",
     "text": [
      "\u001b[1;37;40m Categerocial  \u001b[1;30;41m Numeric  \u001b[1;30;47m NaN \n"
     ]
    }
   ],
   "source": [
    "dic_cols = {col:utils_recognize_type(DF_CSV, col, max_cat=20) for col in DF_CSV.columns}\n",
    "heatmap = DF_CSV.isnull()\n",
    "for k,v in dic_cols.items():\n",
    "    if v == \"num\":\n",
    "        heatmap[k] = heatmap[k].apply(lambda x: 0.5 if x is False else 1)\n",
    "    else:\n",
    "        heatmap[k] = heatmap[k].apply(lambda x: 0 if x is False else 1)\n",
    "sns.heatmap(heatmap, cbar=False).set_title('Dataset Overview')\n",
    "plt.show()\n",
    "print(\"\\033[1;37;40m Categerocial \", \"\\033[1;30;41m Numeric \", \"\\033[1;30;47m NaN \")"
   ]
  },
  {
   "cell_type": "markdown",
   "metadata": {},
   "source": [
    "### 1.2-  Handling missing values ==> mapping nan to the mean of the column "
   ]
  },
  {
   "cell_type": "code",
   "execution_count": 11,
   "metadata": {},
   "outputs": [],
   "source": [
    "DF_CSV[\"VIN\"] = DF_CSV[\"VIN\"].fillna(DF_CSV[\"VIN\"].mean())\n",
    "DF_CSV[\"IIN\"] = DF_CSV[\"IIN\"].fillna(DF_CSV[\"IIN\"].mean())\n",
    "DF_CSV[\"VOUT\"] = DF_CSV[\"VOUT\"].fillna(DF_CSV[\"VOUT\"].mean())\n",
    "DF_CSV[\"VBATT\"] = DF_CSV[\"VBATT\"].fillna(DF_CSV[\"VBATT\"].mean())\n",
    "DF_CSV[\"IBATT\"] = DF_CSV[\"IBATT\"].fillna(DF_CSV[\"IBATT\"].mean())\n",
    "DF_CSV[\"TEMP\"] = DF_CSV[\"TEMP\"].fillna(DF_CSV[\"TEMP\"].mean())\n",
    "DF_CSV[\"CNT\"] = DF_CSV[\"CNT\"].fillna(DF_CSV[\"CNT\"].mean())\n",
    "DF_CSV[\"POWER\"] = DF_CSV[\"POWER\"].fillna(DF_CSV[\"POWER\"].mean())\n",
    "DF_CSV[\"BCK1CURR\"] = DF_CSV[\"BCK1CURR\"].fillna(DF_CSV[\"BCK1CURR\"].mean())\n",
    "DF_CSV[\"STS\"] = DF_CSV[\"STS\"].fillna(DF_CSV[\"STS\"].mean())\n",
    "DF_CSV[\"MIN\"] = DF_CSV[\"MIN\"].fillna(DF_CSV[\"MIN\"].mean())\n",
    "DF_CSV[\"CURRLIGHT\"] = DF_CSV[\"CURRLIGHT\"].fillna(DF_CSV[\"CURRLIGHT\"].mean())\n",
    "DF_CSV[\"BRIGHTNESS\"] = DF_CSV[\"BRIGHTNESS\"].fillna(DF_CSV[\"BRIGHTNESS\"].mean())\n",
    "DF_CSV[\"PAN1VOLT\"] = DF_CSV[\"PAN1VOLT\"].fillna(DF_CSV[\"PAN1VOLT\"].mean())\n",
    "DF_CSV[\"PAN1CURR\"] = DF_CSV[\"PAN1CURR\"].fillna(DF_CSV[\"PAN1CURR\"].mean())\n",
    "DF_CSV[\"BCK1VOLT\"] = DF_CSV[\"BCK1VOLT\"].fillna(DF_CSV[\"BCK1VOLT\"].mean())\n",
    "DF_CSV[\"RSSI\"] = DF_CSV[\"RSSI\"].fillna(DF_CSV[\"RSSI\"].mean())\n",
    "DF_CSV[\"Diff_V\"] = DF_CSV[\"Diff_V\"].fillna(DF_CSV[\"Diff_V\"].mean())"
   ]
  },
  {
   "cell_type": "markdown",
   "metadata": {},
   "source": [
    "###### Deleting the remaining nan rows "
   ]
  },
  {
   "cell_type": "code",
   "execution_count": 12,
   "metadata": {},
   "outputs": [
    {
     "data": {
      "text/plain": [
       "False"
      ]
     },
     "execution_count": 12,
     "metadata": {},
     "output_type": "execute_result"
    }
   ],
   "source": [
    "DF_CSV=DF_CSV.dropna(axis=0)\n",
    "DF_CSV=DF_CSV.reset_index(drop=True)\n",
    "DF_CSV.isna().values.any() # verify if there is any na value "
   ]
  },
  {
   "cell_type": "markdown",
   "metadata": {},
   "source": [
    "### 1.3- Mapping Categorical data to numerical data "
   ]
  },
  {
   "cell_type": "code",
   "execution_count": 13,
   "metadata": {},
   "outputs": [],
   "source": [
    "##########################################\n",
    "DF_CSV.JP = pd.Categorical(DF_CSV.JP)\n",
    "DF_CSV['code_JP'] = DF_CSV.JP.cat.codes\n",
    "##########################################\n",
    "DF_CSV.host_id = pd.Categorical(DF_CSV.host_id)\n",
    "DF_CSV['code_host_id'] = DF_CSV.host_id.cat.codes\n",
    "#################################################\n",
    "DF_CSV.time = pd.Categorical(DF_CSV.time)\n",
    "DF_CSV['code_time'] = DF_CSV.time.cat.codes\n",
    "##############################################\n",
    "DF_CSV.date = pd.Categorical(DF_CSV.date)\n",
    "DF_CSV['code_date'] = DF_CSV.date.cat.codes\n",
    "###############################################\n",
    "DF_CSV.Critical = pd.Categorical(DF_CSV.Critical)\n",
    "DF_CSV['code_Critical'] = DF_CSV.Critical.cat.codes"
   ]
  },
  {
   "cell_type": "code",
   "execution_count": 14,
   "metadata": {},
   "outputs": [
    {
     "data": {
      "text/plain": [
       "0          0\n",
       "1          0\n",
       "2          0\n",
       "3          0\n",
       "4          0\n",
       "          ..\n",
       "6188922    0\n",
       "6188923    0\n",
       "6188924    0\n",
       "6188925    0\n",
       "6188926    0\n",
       "Name: code_Critical, Length: 6188927, dtype: int8"
      ]
     },
     "execution_count": 14,
     "metadata": {},
     "output_type": "execute_result"
    }
   ],
   "source": [
    "DF_CSV['code_Critical']"
   ]
  },
  {
   "cell_type": "code",
   "execution_count": null,
   "metadata": {},
   "outputs": [],
   "source": [
    "DF_CSV.columns"
   ]
  },
  {
   "cell_type": "code",
   "execution_count": null,
   "metadata": {},
   "outputs": [],
   "source": [
    "My_column=['VIN', 'IIN', 'VOUT', 'VBATT', 'IBATT', 'TEMP', 'CNT','STS', 'MIN', 'POWER', 'AUTOBCKLIGHT', 'CURRLIGHT', 'BRIGHTNESS',\n",
    "       'PAN1VOLT', 'PAN1CURR', 'BCK1VOLT', 'BCK1CURR', 'RSSI', 'code_JP', 'code_host_id', 'code_time', 'code_date',\n",
    "       'code_Critical']\n",
    "#Select only the mentioned columns below \n",
    "DF_CSV=DF_CSV[My_column]"
   ]
  },
  {
   "cell_type": "markdown",
   "metadata": {},
   "source": [
    "### 1.4- Splitting my dataset to train and test "
   ]
  },
  {
   "cell_type": "code",
   "execution_count": null,
   "metadata": {},
   "outputs": [],
   "source": [
    "# Shuffling the data \n",
    "DF_CSV = DF_CSV.sample(frac=1).reset_index(drop=True)"
   ]
  },
  {
   "cell_type": "code",
   "execution_count": null,
   "metadata": {},
   "outputs": [],
   "source": [
    "X=DF_CSV.iloc[:,:22].values\n",
    "y=DF_CSV.iloc[:,22].values"
   ]
  },
  {
   "cell_type": "markdown",
   "metadata": {},
   "source": [
    "### Scaling the data  ==> IN OUR CASE WAS NOT A GOOD IDEA "
   ]
  },
  {
   "cell_type": "code",
   "execution_count": null,
   "metadata": {},
   "outputs": [],
   "source": [
    "# #In general a good idea is to scale the data\n",
    "# scaler = StandardScaler()\n",
    "# scaler.fit(data_rus)\n",
    "# data_rus=scaler.transform(data_rus) \n"
   ]
  },
  {
   "cell_type": "code",
   "execution_count": null,
   "metadata": {},
   "outputs": [],
   "source": [
    "# Spliting the dataset into train and test \n",
    "X_train, X_test, y_train, y_test = train_test_split(X, y, test_size=0.3, random_state=42)"
   ]
  },
  {
   "cell_type": "code",
   "execution_count": null,
   "metadata": {},
   "outputs": [],
   "source": [
    "print('X train:',len(X_train))\n",
    "print('y train:', len(y_train))\n",
    "print('X test:', len(X_test))\n",
    "print('y test:', len(y_test))\n"
   ]
  },
  {
   "cell_type": "markdown",
   "metadata": {},
   "source": [
    "### 1.5- Class balance"
   ]
  },
  {
   "cell_type": "code",
   "execution_count": null,
   "metadata": {},
   "outputs": [],
   "source": [
    "ax = DF_CSV['code_Critical'].value_counts().sort_values().plot(kind=\"barh\")\n",
    "totals= []\n",
    "for i in ax.patches:\n",
    "    totals.append(i.get_width())\n",
    "total = sum(totals)\n",
    "for i in ax.patches:\n",
    "     ax.text(i.get_width()+.3, i.get_y()+.20, \n",
    "     str(round((i.get_width()/total)*100, 2))+'%', \n",
    "     fontsize=10, color='black')\n",
    "ax.grid(axis=\"x\")\n",
    "plt.suptitle('Critical', fontsize=20)\n",
    "plt.show()"
   ]
  },
  {
   "cell_type": "markdown",
   "metadata": {},
   "source": [
    "#### Random under-sampling with imblearn"
   ]
  },
  {
   "cell_type": "code",
   "execution_count": null,
   "metadata": {},
   "outputs": [],
   "source": [
    "rus = RandomUnderSampler(random_state=42, replacement=True)# fit predictor and target variable\n",
    "data_rusTrain, target_rusTrain = rus.fit_resample(X_train, y_train)\n",
    "print('original dataset shape:', collections.Counter(y_train))\n",
    "print('Resample dataset shape:', collections.Counter(target_rusTrain))\n",
    "len(data_rusTrain)"
   ]
  },
  {
   "cell_type": "code",
   "execution_count": null,
   "metadata": {},
   "outputs": [],
   "source": [
    "X_test.shape[0]"
   ]
  },
  {
   "cell_type": "markdown",
   "metadata": {},
   "source": [
    "# 2- Machine Learning application "
   ]
  },
  {
   "cell_type": "markdown",
   "metadata": {},
   "source": [
    "### 2.1- Decision tree (albero decisionale)"
   ]
  },
  {
   "cell_type": "code",
   "execution_count": null,
   "metadata": {},
   "outputs": [],
   "source": [
    "feat_names=['VIN', 'IIN', 'VOUT', 'VBATT', 'IBATT', 'TEMP', 'CNT', 'STS', 'MIN', 'POWER', 'AUTOBCKLIGHT', 'CURRLIGHT', 'BRIGHTNESS', 'PAN1VOLT',\n",
    "       'PAN1CURR', 'BCK1VOLT', 'BCK1CURR', 'RSSI', 'code_JP', 'code_host_id','code_time', 'code_date']\n",
    "\n",
    "target_names=['yes', 'no']"
   ]
  },
  {
   "cell_type": "code",
   "execution_count": null,
   "metadata": {},
   "outputs": [],
   "source": [
    "len(feat_names)"
   ]
  },
  {
   "cell_type": "code",
   "execution_count": null,
   "metadata": {},
   "outputs": [],
   "source": [
    "clf=tree.DecisionTreeClassifier(\"entropy\",random_state = 0) # implementation of the hierarchical/decision trees\n",
    "clf.fit(data_rusTrain, target_rusTrain)\n",
    "y_predDT=clf.predict(X_test)\n",
    "\n",
    "print('features importance')\n",
    "for name, importance in zip(feat_names, clf.feature_importances_):\n",
    "    print(name, importance)"
   ]
  },
  {
   "cell_type": "code",
   "execution_count": null,
   "metadata": {},
   "outputs": [],
   "source": [
    "# The score method returns the accuracy of the model\n",
    "accuracy_score(y_test,clf.predict(X_test))"
   ]
  },
  {
   "cell_type": "code",
   "execution_count": null,
   "metadata": {},
   "outputs": [],
   "source": [
    "data_rusTrain"
   ]
  },
  {
   "cell_type": "code",
   "execution_count": null,
   "metadata": {},
   "outputs": [],
   "source": [
    "clf.score(data_rusTrain, target_rusTrain)"
   ]
  },
  {
   "cell_type": "code",
   "execution_count": null,
   "metadata": {},
   "outputs": [],
   "source": [
    "# confusion matrix \n",
    "print(confusion_matrix(y_test,y_predDT))\n",
    "print(classification_report(y_test, y_predDT))"
   ]
  },
  {
   "cell_type": "code",
   "execution_count": null,
   "metadata": {},
   "outputs": [],
   "source": [
    "f_importances(clf.feature_importances_, feat_names)"
   ]
  },
  {
   "cell_type": "code",
   "execution_count": null,
   "metadata": {},
   "outputs": [],
   "source": [
    "plt.figure()    \n",
    "plt.plot(feat_names,clf.feature_importances_, 'b*')\n",
    "plt.xlabel('Feature number')\n",
    "plt.ylabel('Information Gain')\n",
    "plt.title('Feature Importances')\n",
    "plt.xticks(rotation=90)\n",
    "plt.show()"
   ]
  },
  {
   "cell_type": "code",
   "execution_count": null,
   "metadata": {},
   "outputs": [],
   "source": [
    "dotfile = open(\"Tree2.dot\", 'w')\n",
    "dot_data=tree.export_graphviz(clf, out_file=dotfile,feature_names= feat_names,\n",
    "    class_names=target_names, filled= True, rounded= True, special_characters=True)\n",
    "dotfile.close()"
   ]
  },
  {
   "cell_type": "code",
   "execution_count": null,
   "metadata": {},
   "outputs": [],
   "source": [
    "# List of values to try for max_depth:\n",
    "max_depth_range = range(1, 24,1)\n",
    "# List to store the average RMSE for each value of max_depth:\n",
    "test_accuracy = []\n",
    "train_accuracy = []\n",
    "for depth in max_depth_range:\n",
    "    \n",
    "    clf = tree.DecisionTreeClassifier(max_depth = depth, \n",
    "                             random_state = 0)\n",
    "    clf.fit(X_train, y_train)\n",
    "    score = clf.score(X_test, y_test)\n",
    "    test_accuracy.append(score)\n",
    "    score1 = clf.score(X_train, y_train)\n",
    "    train_accuracy.append(score1)"
   ]
  },
  {
   "cell_type": "code",
   "execution_count": null,
   "metadata": {},
   "outputs": [],
   "source": [
    "plt.plot(max_depth_range, test_accuracy,'b', label='Testing')\n",
    "plt.plot(max_depth_range, train_accuracy,'r', label='Training')\n",
    "plt.xlabel('max depth')\n",
    "plt.ylabel('accuracy')\n",
    "plt.legend()"
   ]
  },
  {
   "cell_type": "code",
   "execution_count": null,
   "metadata": {},
   "outputs": [],
   "source": [
    "param_range=np.arange(1, 22)\n",
    "train_scores, valid_scores = validation_curve(tree.DecisionTreeClassifier(), data_rus, target_rus, param_name=\"max_depth\",param_range=param_range,cv=5)"
   ]
  },
  {
   "cell_type": "code",
   "execution_count": null,
   "metadata": {},
   "outputs": [],
   "source": [
    "train_scores_mean = np.mean(train_scores, axis=1)\n",
    "train_scores_std = np.std(train_scores, axis=1)\n",
    "test_scores_mean = np.mean(valid_scores, axis=1)\n",
    "test_scores_std = np.std(valid_scores, axis=1)\n",
    "plt.figure(figsize=(5,5))\n",
    "plt.title(\"Validation Curve with DecisionTree\")\n",
    "plt.xlabel(\"max_depth\")\n",
    "plt.ylabel(\"Score\")\n",
    "plt.ylim(0.975, 1.005)\n",
    "#plt.fill_between(param_range, train_scores_mean - train_scores_std, train_scores_mean + train_scores_std, alpha=0.2, color=\"r\")\n",
    "plt.plot(param_range, train_scores_mean, label=\"Training score\",\n",
    "             color=\"r\")\n",
    "#plt.fill_between(param_range, test_scores_mean - test_scores_std, test_scores_mean + test_scores_std, alpha=0.2, color=\"g\")\n",
    "plt.plot(param_range, test_scores_mean, label=\"Cross-validation score\",\n",
    "             color=\"g\")\n",
    "\n",
    "plt.legend(loc=\"best\")\n",
    "plt.xticks(param_range)\n",
    "plt.savefig('DSSE.jpg')\n",
    "plt.show()"
   ]
  },
  {
   "cell_type": "markdown",
   "metadata": {},
   "source": [
    "###### le caratteristiche più importanti nella classificazione sono rispettivamente: IIN,  VBATT , VIN "
   ]
  },
  {
   "cell_type": "markdown",
   "metadata": {},
   "source": [
    "### 2.2- Logistic Regression"
   ]
  },
  {
   "cell_type": "code",
   "execution_count": null,
   "metadata": {},
   "outputs": [],
   "source": [
    "LR = LogisticRegression(random_state=50, solver='lbfgs', multi_class='ovr').fit(X_train, y_train)\n",
    "y_predLR=LR.predict(X_test)"
   ]
  },
  {
   "cell_type": "code",
   "execution_count": null,
   "metadata": {},
   "outputs": [],
   "source": [
    "LR_score = LR.score(X_test, y_test)\n",
    "print(LR_score)"
   ]
  },
  {
   "cell_type": "code",
   "execution_count": null,
   "metadata": {},
   "outputs": [],
   "source": [
    "LR.score(X_train, y_train)"
   ]
  },
  {
   "cell_type": "code",
   "execution_count": null,
   "metadata": {},
   "outputs": [],
   "source": [
    "accuracy_score(y_test, y_predLR)"
   ]
  },
  {
   "cell_type": "code",
   "execution_count": null,
   "metadata": {},
   "outputs": [],
   "source": [
    "# confusion matrix \n",
    "print(confusion_matrix(y_test,y_predLR))\n",
    "print(classification_report(y_test, y_predLR))"
   ]
  },
  {
   "cell_type": "code",
   "execution_count": null,
   "metadata": {},
   "outputs": [],
   "source": [
    "f_importances(LR.coef_[0], feat_names)"
   ]
  },
  {
   "cell_type": "code",
   "execution_count": null,
   "metadata": {},
   "outputs": [],
   "source": [
    "print('features importance')\n",
    "for name, importance in zip(feat_names, LR.coef_[0]):\n",
    "    print(name, importance)"
   ]
  },
  {
   "cell_type": "code",
   "execution_count": null,
   "metadata": {},
   "outputs": [],
   "source": [
    "param_range1 = [0.1, 0.2, 0.3, 0.4,0.5, 0.6, 0.7, 0.8, 0.9, 1]\n",
    "param_range1   1000"
   ]
  },
  {
   "cell_type": "code",
   "execution_count": null,
   "metadata": {},
   "outputs": [],
   "source": [
    "train_scores1, valid_scores1 = validation_curve(LogisticRegression(random_state=50, solver='lbfgs', multi_class='ovr'), data_rus, target_rus, param_name=\"C\",param_range=param_range1,cv=5)"
   ]
  },
  {
   "cell_type": "code",
   "execution_count": null,
   "metadata": {},
   "outputs": [],
   "source": [
    "train_scores_mean1 = np.mean(train_scores1, axis=1)\n",
    "train_scores_std1 = np.std(train_scores1, axis=1)\n",
    "test_scores_mean1 = np.mean(valid_scores1, axis=1)\n",
    "test_scores_std1 = np.std(valid_scores1, axis=1)\n",
    "plt.figure(figsize=(5,5))\n",
    "plt.title(\"Validation Curve with Logistic Regression\")\n",
    "plt.xlabel(\"C\")\n",
    "plt.ylabel(\"Score\")\n",
    "plt.ylim(0.998475, 0.9986)\n",
    "#plt.fill_between(param_range, train_scores_mean - train_scores_std, train_scores_mean + train_scores_std, alpha=0.2, color=\"r\")\n",
    "plt.plot(param_range1, train_scores_mean1, label=\"Training score\",\n",
    "             color=\"r\")\n",
    "#plt.fill_between(param_range, test_scores_mean - test_scores_std, test_scores_mean + test_scores_std, alpha=0.2, color=\"g\")\n",
    "plt.plot(param_range1, test_scores_mean1, label=\"Cross-validation score\",\n",
    "             color=\"g\")\n",
    "\n",
    "plt.legend(loc=\"best\")\n",
    "plt.xticks(param_range1)\n",
    "plt.savefig('LR.jpg')\n",
    "plt.show()"
   ]
  },
  {
   "cell_type": "markdown",
   "metadata": {},
   "source": [
    "# 3- Support Vector Machine "
   ]
  },
  {
   "cell_type": "code",
   "execution_count": null,
   "metadata": {},
   "outputs": [],
   "source": [
    "svclassifier=SVC(kernel='linear',random_state=50)\n",
    "# train the classifier\n",
    "svclassifier.fit(X_train,y_train)"
   ]
  },
  {
   "cell_type": "code",
   "execution_count": null,
   "metadata": {},
   "outputs": [],
   "source": [
    "y_predSVM=svclassifier.predict(X_test)"
   ]
  },
  {
   "cell_type": "code",
   "execution_count": null,
   "metadata": {},
   "outputs": [],
   "source": [
    "svclassifier.score(X_train, y_train)"
   ]
  },
  {
   "cell_type": "code",
   "execution_count": null,
   "metadata": {},
   "outputs": [],
   "source": [
    "svclassifier.score(X_test, y_test)"
   ]
  },
  {
   "cell_type": "code",
   "execution_count": null,
   "metadata": {},
   "outputs": [],
   "source": [
    "accuracy_score(y_test, y_predSVM)"
   ]
  },
  {
   "cell_type": "code",
   "execution_count": null,
   "metadata": {},
   "outputs": [],
   "source": [
    "accuracy_score(y_test, y_predSVM)"
   ]
  },
  {
   "cell_type": "code",
   "execution_count": null,
   "metadata": {},
   "outputs": [],
   "source": [
    "svclassifier.coef_[0]"
   ]
  },
  {
   "cell_type": "markdown",
   "metadata": {},
   "source": [
    "#### Plot the features important in the classification process "
   ]
  },
  {
   "cell_type": "code",
   "execution_count": null,
   "metadata": {},
   "outputs": [],
   "source": [
    "f_importances(svclassifier.coef_[0], feat_names)"
   ]
  },
  {
   "cell_type": "code",
   "execution_count": null,
   "metadata": {},
   "outputs": [],
   "source": [
    "print('features importance')\n",
    "for name, importance in zip(feat_names, svclassifier.coef_[0]):\n",
    "    print(name, importance)"
   ]
  },
  {
   "cell_type": "markdown",
   "metadata": {},
   "source": [
    "#### Extracting the faeture importance using PCA "
   ]
  },
  {
   "cell_type": "code",
   "execution_count": null,
   "metadata": {},
   "outputs": [],
   "source": [
    "from sklearn.decomposition import PCA\n",
    "pca = PCA()\n",
    "data=DF_CSV.iloc[:,:22]\n",
    "Xreduced = pca.fit_transform(data)"
   ]
  },
  {
   "cell_type": "code",
   "execution_count": null,
   "metadata": {},
   "outputs": [],
   "source": [
    "feat_names"
   ]
  },
  {
   "cell_type": "code",
   "execution_count": null,
   "metadata": {},
   "outputs": [],
   "source": [
    "# number of components\n",
    "n_pcs= pca.components_.shape[0]\n",
    "# get the index of the most important feature on EACH component\n",
    "# LIST COMPREHENSION HERE\n",
    "most_important = [np.abs(pca.components_[i]).argmax() for i in range(n_pcs)]\n",
    "most_important_names = [My_column[most_important[i]] for i in range(n_pcs)]\n",
    "most_important_names"
   ]
  },
  {
   "cell_type": "code",
   "execution_count": null,
   "metadata": {},
   "outputs": [],
   "source": [
    "print(abs( pca.components_ ))"
   ]
  },
  {
   "cell_type": "code",
   "execution_count": null,
   "metadata": {},
   "outputs": [],
   "source": []
  }
 ],
 "metadata": {
  "kernelspec": {
   "display_name": "Python 3",
   "language": "python",
   "name": "python3"
  },
  "language_info": {
   "codemirror_mode": {
    "name": "ipython",
    "version": 3
   },
   "file_extension": ".py",
   "mimetype": "text/x-python",
   "name": "python",
   "nbconvert_exporter": "python",
   "pygments_lexer": "ipython3",
   "version": "3.7.6"
  }
 },
 "nbformat": 4,
 "nbformat_minor": 4
}
