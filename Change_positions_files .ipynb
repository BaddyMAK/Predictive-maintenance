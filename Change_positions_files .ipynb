{
 "cells": [
  {
   "cell_type": "code",
   "execution_count": 1,
   "metadata": {},
   "outputs": [],
   "source": [
    "import sys, os\n",
    "import pandas as pd \n",
    "import numpy as np \n",
    "import scipy as sc\n",
    "import glob\n",
    "import shutil\n",
    "import ntpath\n",
    "import datetime"
   ]
  },
  {
   "cell_type": "code",
   "execution_count": 3,
   "metadata": {},
   "outputs": [],
   "source": [
    "path_csv=\"./files/814U01M7_Batteria/folder_csv/October\""
   ]
  },
  {
   "cell_type": "code",
   "execution_count": 5,
   "metadata": {},
   "outputs": [
    {
     "data": {
      "text/plain": [
       "['20201016_151641', '20201029_134751', '20201030_082901']"
      ]
     },
     "execution_count": 5,
     "metadata": {},
     "output_type": "execute_result"
    }
   ],
   "source": [
    "list_folders=[name for name in os.listdir(path_csv)]\n",
    "list_folders"
   ]
  },
  {
   "cell_type": "code",
   "execution_count": 6,
   "metadata": {},
   "outputs": [],
   "source": [
    "for j, path in enumerate(list_folders): \n",
    "    path_csv1=path_csv+\"/\"+ path\n",
    "    for s, sub_direct in enumerate(os.listdir(path_csv1)):  \n",
    "        for i, file in enumerate (glob.glob(path_csv1+\"/\"+sub_direct+\"/*.csv\")):\n",
    "            shutil.move(file, path_csv1)"
   ]
  },
  {
   "cell_type": "code",
   "execution_count": null,
   "metadata": {},
   "outputs": [],
   "source": [
    "# def path_leaf(path):\n",
    "#     head, tail = ntpath.split(path)\n",
    "#     return tail or ntpath.basename(head)\n",
    "\n",
    "# cv_files = []\n",
    "# for j, fold in enumerate(list_folders): \n",
    "#     for file in glob.glob(path_csv+\"/\"+fold+\"/*.csv\"):\n",
    "#         cv_files.append(file)\n",
    "#         tail_file=path_leaf(file)\n",
    "#         fil_name=file.split('/')[5].split('\\\\')[1].split('.')[0]\n",
    "#         directory=path_csv+\"/\"+fold+\"/\"+fil_name\n",
    "#         os.makedirs(directory)\n",
    "#         shutil.move(file, directory+\"/\"+tail_file)\n",
    "\n",
    "# cv_files"
   ]
  },
  {
   "cell_type": "code",
   "execution_count": null,
   "metadata": {},
   "outputs": [],
   "source": []
  }
 ],
 "metadata": {
  "kernelspec": {
   "display_name": "Python 3",
   "language": "python",
   "name": "python3"
  },
  "language_info": {
   "codemirror_mode": {
    "name": "ipython",
    "version": 3
   },
   "file_extension": ".py",
   "mimetype": "text/x-python",
   "name": "python",
   "nbconvert_exporter": "python",
   "pygments_lexer": "ipython3",
   "version": "3.8.5"
  }
 },
 "nbformat": 4,
 "nbformat_minor": 4
}
